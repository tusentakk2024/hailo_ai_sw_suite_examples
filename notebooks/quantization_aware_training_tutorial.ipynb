{
 "cells": [
  {
   "cell_type": "code",
   "execution_count": 1,
   "id": "1e571470",
   "metadata": {},
   "outputs": [
    {
     "name": "stderr",
     "output_type": "stream",
     "text": [
      "2025-02-28 06:21:07.063985: I tensorflow/core/util/port.cc:110] oneDNN custom operations are on. You may see slightly different numerical results due to floating-point round-off errors from different computation orders. To turn them off, set the environment variable `TF_ENABLE_ONEDNN_OPTS=0`.\n",
      "2025-02-28 06:21:07.337314: I tensorflow/core/platform/cpu_feature_guard.cc:182] This TensorFlow binary is optimized to use available CPU instructions in performance-critical operations.\n",
      "To enable the following instructions: AVX2 AVX_VNNI FMA, in other operations, rebuild TensorFlow with the appropriate compiler flags.\n",
      "2025-02-28 06:21:07.988034: W tensorflow/compiler/tf2tensorrt/utils/py_utils.cc:38] TF-TRT Warning: Could not find TensorRT\n"
     ]
    }
   ],
   "source": [
    "import matplotlib.pyplot as plt\n",
    "import numpy as np\n",
    "import tensorflow as tf\n",
    "import tensorflow_datasets as tfds\n",
    "\n",
    "from hailo_sdk_client import ClientRunner, InferenceContext\n",
    "\n",
    "chosen_hw_arch = \"hailo8l\"\n",
    "model_name = \"my_model_h8l\""
   ]
  },
  {
   "cell_type": "code",
   "execution_count": 2,
   "id": "9ce96e51",
   "metadata": {},
   "outputs": [
    {
     "name": "stdout",
     "output_type": "stream",
     "text": [
      "Total number of training samples: 50000\n",
      "Total number of testing samples: 10000\n"
     ]
    }
   ],
   "source": [
    "# Model parameters\n",
    "num_classes = 100\n",
    "input_shape = (32, 32, 3)\n",
    "\n",
    "# Load the data and split it between train and test sets\n",
    "(x_train, y_train), (x_test, y_test) = tf.keras.datasets.cifar10.load_data()\n",
    "\n",
    "# Prepare the dataset\n",
    "x_train = x_train.astype(\"float32\") / 255\n",
    "x_test = x_test.astype(\"float32\") / 255\n",
    "y_train = tf.keras.utils.to_categorical(y_train, num_classes)\n",
    "y_test = tf.keras.utils.to_categorical(y_test, num_classes)\n",
    "print(f\"Total number of training samples: {x_train.shape[0]}\")\n",
    "print(f\"Total number of testing samples: {x_test.shape[0]}\")"
   ]
  },
  {
   "cell_type": "code",
   "execution_count": 3,
   "id": "8cbdfcbd",
   "metadata": {},
   "outputs": [
    {
     "name": "stdout",
     "output_type": "stream",
     "text": [
      "Model: \"sequential\"\n",
      "_________________________________________________________________\n",
      " Layer (type)                Output Shape              Param #   \n",
      "=================================================================\n",
      " conv2d (Conv2D)             (None, 30, 30, 32)        896       \n",
      "                                                                 \n",
      " max_pooling2d (MaxPooling2D  (None, 15, 15, 32)       0         \n",
      " )                                                               \n",
      "                                                                 \n",
      " conv2d_1 (Conv2D)           (None, 13, 13, 64)        18496     \n",
      "                                                                 \n",
      " max_pooling2d_1 (MaxPooling  (None, 6, 6, 64)         0         \n",
      " 2D)                                                             \n",
      "                                                                 \n",
      " flatten (Flatten)           (None, 2304)              0         \n",
      "                                                                 \n",
      " dropout (Dropout)           (None, 2304)              0         \n",
      "                                                                 \n",
      " dense (Dense)               (None, 100)               230500    \n",
      "                                                                 \n",
      "=================================================================\n",
      "Total params: 249,892\n",
      "Trainable params: 249,892\n",
      "Non-trainable params: 0\n",
      "_________________________________________________________________\n"
     ]
    },
    {
     "name": "stderr",
     "output_type": "stream",
     "text": [
      "2025-02-28 06:21:12.774456: I tensorflow/compiler/xla/stream_executor/cuda/cuda_gpu_executor.cc:982] could not open file to read NUMA node: /sys/bus/pci/devices/0000:01:00.0/numa_node\n",
      "Your kernel may have been built without NUMA support.\n",
      "2025-02-28 06:21:12.851412: I tensorflow/compiler/xla/stream_executor/cuda/cuda_gpu_executor.cc:982] could not open file to read NUMA node: /sys/bus/pci/devices/0000:01:00.0/numa_node\n",
      "Your kernel may have been built without NUMA support.\n",
      "2025-02-28 06:21:12.851450: I tensorflow/compiler/xla/stream_executor/cuda/cuda_gpu_executor.cc:982] could not open file to read NUMA node: /sys/bus/pci/devices/0000:01:00.0/numa_node\n",
      "Your kernel may have been built without NUMA support.\n",
      "2025-02-28 06:21:12.854443: I tensorflow/compiler/xla/stream_executor/cuda/cuda_gpu_executor.cc:982] could not open file to read NUMA node: /sys/bus/pci/devices/0000:01:00.0/numa_node\n",
      "Your kernel may have been built without NUMA support.\n",
      "2025-02-28 06:21:12.854474: I tensorflow/compiler/xla/stream_executor/cuda/cuda_gpu_executor.cc:982] could not open file to read NUMA node: /sys/bus/pci/devices/0000:01:00.0/numa_node\n",
      "Your kernel may have been built without NUMA support.\n",
      "2025-02-28 06:21:12.854489: I tensorflow/compiler/xla/stream_executor/cuda/cuda_gpu_executor.cc:982] could not open file to read NUMA node: /sys/bus/pci/devices/0000:01:00.0/numa_node\n",
      "Your kernel may have been built without NUMA support.\n",
      "2025-02-28 06:21:12.997506: I tensorflow/compiler/xla/stream_executor/cuda/cuda_gpu_executor.cc:982] could not open file to read NUMA node: /sys/bus/pci/devices/0000:01:00.0/numa_node\n",
      "Your kernel may have been built without NUMA support.\n",
      "2025-02-28 06:21:12.997551: I tensorflow/compiler/xla/stream_executor/cuda/cuda_gpu_executor.cc:982] could not open file to read NUMA node: /sys/bus/pci/devices/0000:01:00.0/numa_node\n",
      "Your kernel may have been built without NUMA support.\n",
      "2025-02-28 06:21:12.997555: I tensorflow/core/common_runtime/gpu/gpu_device.cc:1722] Could not identify NUMA node of platform GPU id 0, defaulting to 0.  Your kernel may not have been built with NUMA support.\n",
      "2025-02-28 06:21:12.997573: I tensorflow/compiler/xla/stream_executor/cuda/cuda_gpu_executor.cc:982] could not open file to read NUMA node: /sys/bus/pci/devices/0000:01:00.0/numa_node\n",
      "Your kernel may have been built without NUMA support.\n",
      "2025-02-28 06:21:12.997580: W tensorflow/core/common_runtime/gpu/gpu_bfc_allocator.cc:47] Overriding orig_value setting because the TF_FORCE_GPU_ALLOW_GROWTH environment variable is set. Original config value was 0.\n",
      "2025-02-28 06:21:12.997594: I tensorflow/core/common_runtime/gpu/gpu_device.cc:1635] Created device /job:localhost/replica:0/task:0/device:GPU:0 with 5529 MB memory:  -> device: 0, name: NVIDIA GeForce RTX 4060 Ti, pci bus id: 0000:01:00.0, compute capability: 8.9\n"
     ]
    }
   ],
   "source": [
    "# Define the model\n",
    "model = tf.keras.Sequential(\n",
    "    [\n",
    "        tf.keras.Input(shape=input_shape),\n",
    "        tf.keras.layers.Conv2D(32, kernel_size=(3, 3), activation=\"relu\"),\n",
    "        tf.keras.layers.MaxPooling2D(pool_size=(2, 2)),\n",
    "        tf.keras.layers.Conv2D(64, kernel_size=(3, 3), activation=\"relu\"),\n",
    "        tf.keras.layers.MaxPooling2D(pool_size=(2, 2)),\n",
    "        tf.keras.layers.Flatten(),\n",
    "        tf.keras.layers.Dropout(0.5),\n",
    "        tf.keras.layers.Dense(num_classes, activation=\"softmax\"),\n",
    "    ],\n",
    ")\n",
    "model.summary()"
   ]
  },
  {
   "cell_type": "code",
   "execution_count": 4,
   "id": "c1b03d5e",
   "metadata": {},
   "outputs": [
    {
     "name": "stderr",
     "output_type": "stream",
     "text": [
      "2025-02-28 06:21:13.588231: I tensorflow/compiler/xla/stream_executor/cuda/cuda_dnn.cc:424] Loaded cuDNN version 8906\n",
      "2025-02-28 06:21:13.920751: I tensorflow/compiler/xla/stream_executor/cuda/cuda_blas.cc:637] TensorFloat-32 will be used for the matrix multiplication. This will only be logged once.\n",
      "2025-02-28 06:21:13.984637: I tensorflow/compiler/xla/service/service.cc:169] XLA service 0x7fdb4403c880 initialized for platform CUDA (this does not guarantee that XLA will be used). Devices:\n",
      "2025-02-28 06:21:13.984675: I tensorflow/compiler/xla/service/service.cc:177]   StreamExecutor device (0): NVIDIA GeForce RTX 4060 Ti, Compute Capability 8.9\n",
      "2025-02-28 06:21:14.018158: I tensorflow/compiler/mlir/tensorflow/utils/dump_mlir_util.cc:269] disabling MLIR crash reproducer, set env var `MLIR_CRASH_REPRODUCER_DIRECTORY` to enable.\n",
      "2025-02-28 06:21:14.238707: I ./tensorflow/compiler/jit/device_compiler.h:180] Compiled cluster using XLA!  This line is logged at most once for the lifetime of the process.\n"
     ]
    },
    {
     "name": "stdout",
     "output_type": "stream",
     "text": [
      "40/40 [==============================] - -2s 5ms/step - loss: 2.6071 - accuracy: 0.1192\n",
      "1563/1563 [==============================] - 4s 2ms/step - loss: 2.2049 - accuracy: 0.1837\n",
      "Train accuracy: 18.374 (Top-1)\n",
      "313/313 [==============================] - 1s 4ms/step - loss: 2.2057 - accuracy: 0.1845\n",
      "Test accuracy: 18.450 (Top-1)\n"
     ]
    }
   ],
   "source": [
    "# Run short training (using only 5k images)\n",
    "model.compile(loss=\"categorical_crossentropy\", optimizer=\"adam\", metrics=[\"accuracy\"])\n",
    "model.fit(x_train[:5000], y_train[:5000], batch_size=128, epochs=1)\n",
    "\n",
    "# Evaluate the results\n",
    "score = model.evaluate(x_train, y_train)\n",
    "print(f\"Train accuracy: {100 * score[1]:.3f} (Top-1)\")\n",
    "score = model.evaluate(x_test, y_test)\n",
    "print(f\"Test accuracy: {100 * score[1]:.3f} (Top-1)\")"
   ]
  },
  {
   "cell_type": "code",
   "execution_count": 5,
   "id": "a65fd8f1",
   "metadata": {},
   "outputs": [
    {
     "name": "stderr",
     "output_type": "stream",
     "text": [
      "2025-02-28 06:21:17.031035: I tensorflow/core/common_runtime/executor.cc:1197] [/device:CPU:0] (DEBUG INFO) Executor start aborting (this does not indicate an error and you can ignore this message): INVALID_ARGUMENT: You must feed a value for placeholder tensor 'inputs' with dtype float and shape [?,2304]\n",
      "\t [[{{node inputs}}]]\n",
      "2025-02-28 06:21:17.135754: I tensorflow/core/common_runtime/executor.cc:1197] [/device:CPU:0] (DEBUG INFO) Executor start aborting (this does not indicate an error and you can ignore this message): INVALID_ARGUMENT: You must feed a value for placeholder tensor 'inputs' with dtype float and shape [?,2304]\n",
      "\t [[{{node inputs}}]]\n",
      "2025-02-28 06:21:17.497570: W tensorflow/compiler/mlir/lite/python/tf_tfl_flatbuffer_helpers.cc:364] Ignored output_format.\n",
      "2025-02-28 06:21:17.497599: W tensorflow/compiler/mlir/lite/python/tf_tfl_flatbuffer_helpers.cc:367] Ignored drop_control_dependency.\n",
      "2025-02-28 06:21:17.498209: I tensorflow/cc/saved_model/reader.cc:45] Reading SavedModel from: /tmp/tmpwsbnpq2m\n",
      "2025-02-28 06:21:17.498891: I tensorflow/cc/saved_model/reader.cc:89] Reading meta graph with tags { serve }\n",
      "2025-02-28 06:21:17.498898: I tensorflow/cc/saved_model/reader.cc:130] Reading SavedModel debug info (if present) from: /tmp/tmpwsbnpq2m\n",
      "2025-02-28 06:21:17.502439: I tensorflow/compiler/mlir/mlir_graph_optimization_pass.cc:353] MLIR V1 optimization pass is not enabled\n",
      "2025-02-28 06:21:17.502981: I tensorflow/cc/saved_model/loader.cc:231] Restoring SavedModel bundle.\n",
      "2025-02-28 06:21:17.526487: I tensorflow/cc/saved_model/loader.cc:215] Running initialization op on SavedModel bundle at path: /tmp/tmpwsbnpq2m\n",
      "2025-02-28 06:21:17.531954: I tensorflow/cc/saved_model/loader.cc:314] SavedModel load for tags { serve }; Status: success: OK. Took 33748 microseconds.\n"
     ]
    }
   ],
   "source": [
    "# Export the model to TFlite\n",
    "converter = tf.lite.TFLiteConverter.from_keras_model(model)\n",
    "tflite_model = converter.convert()\n",
    "tflite_model_path = f\"{model_name}.tflite\"\n",
    "with tf.io.gfile.GFile(tflite_model_path, \"wb\") as f:\n",
    "  f.write(tflite_model)"
   ]
  },
  {
   "cell_type": "code",
   "execution_count": 6,
   "id": "d4c439f1",
   "metadata": {},
   "outputs": [
    {
     "name": "stdout",
     "output_type": "stream",
     "text": [
      "[info] Translation started on Tensorflow model model\n",
      "[info] Start nodes mapped from original model: 'serving_default_input_1:0': 'model/input_layer1'.\n",
      "[info] End nodes mapped from original model: 'StatefulPartitionedCall:0'.\n",
      "[info] Translation completed on Tensorflow model model (completion time: 00:00:00.02)\n"
     ]
    },
    {
     "name": "stderr",
     "output_type": "stream",
     "text": [
      "2025-02-28 06:21:17.650088: E tensorflow/compiler/xla/stream_executor/cuda/cuda_driver.cc:1279] could not retrieve CUDA device count: CUDA_ERROR_NOT_INITIALIZED: initialization error\n",
      "2025-02-28 06:21:17.660371: I tensorflow/compiler/xla/stream_executor/cuda/cuda_gpu_executor.cc:982] could not open file to read NUMA node: /sys/bus/pci/devices/0000:01:00.0/numa_node\n",
      "Your kernel may have been built without NUMA support.\n",
      "2025-02-28 06:21:17.660432: I tensorflow/compiler/xla/stream_executor/cuda/cuda_gpu_executor.cc:982] could not open file to read NUMA node: /sys/bus/pci/devices/0000:01:00.0/numa_node\n",
      "Your kernel may have been built without NUMA support.\n",
      "2025-02-28 06:21:17.660448: I tensorflow/compiler/xla/stream_executor/cuda/cuda_gpu_executor.cc:982] could not open file to read NUMA node: /sys/bus/pci/devices/0000:01:00.0/numa_node\n",
      "Your kernel may have been built without NUMA support.\n",
      "2025-02-28 06:21:17.660724: I tensorflow/compiler/xla/stream_executor/cuda/cuda_gpu_executor.cc:982] could not open file to read NUMA node: /sys/bus/pci/devices/0000:01:00.0/numa_node\n",
      "Your kernel may have been built without NUMA support.\n",
      "2025-02-28 06:21:17.660735: I tensorflow/core/common_runtime/gpu/gpu_device.cc:1722] Could not identify NUMA node of platform GPU id 0, defaulting to 0.  Your kernel may not have been built with NUMA support.\n",
      "2025-02-28 06:21:17.660757: I tensorflow/compiler/xla/stream_executor/cuda/cuda_gpu_executor.cc:982] could not open file to read NUMA node: /sys/bus/pci/devices/0000:01:00.0/numa_node\n",
      "Your kernel may have been built without NUMA support.\n",
      "2025-02-28 06:21:17.660772: I tensorflow/core/common_runtime/gpu/gpu_device.cc:1635] Created device /device:GPU:0 with 5529 MB memory:  -> device: 0, name: NVIDIA GeForce RTX 4060 Ti, pci bus id: 0000:01:00.0, compute capability: 8.9\n"
     ]
    },
    {
     "name": "stdout",
     "output_type": "stream",
     "text": [
      "[info] Loading model script commands to model from string\n",
      "[info] Starting Model Optimization\n",
      "[warning] Reducing compression level to 0 because requested optimization level equal or less than 1\n",
      "[warning] Running model optimization with zero level of optimization is not recommended for production use and might lead to suboptimal accuracy results\n",
      "[info] Model received quantization params from the hn\n"
     ]
    },
    {
     "name": "stderr",
     "output_type": "stream",
     "text": [
      "2025-02-28 06:21:17.949065: E tensorflow/compiler/xla/stream_executor/cuda/cuda_driver.cc:1279] could not retrieve CUDA device count: CUDA_ERROR_NOT_INITIALIZED: initialization error\n",
      "2025-02-28 06:21:18.009240: E tensorflow/compiler/xla/stream_executor/cuda/cuda_driver.cc:1279] could not retrieve CUDA device count: CUDA_ERROR_NOT_INITIALIZED: initialization error\n"
     ]
    },
    {
     "name": "stdout",
     "output_type": "stream",
     "text": [
      "[info] MatmulDecompose skipped\n",
      "[info] Starting Mixed Precision\n",
      "[info] Assigning 4bit weights to layer model/conv2 with 18.43k parameters\n",
      "[info] Ratio of weights in 4bit is 0.07\n",
      "[info] Model Optimization Algorithm Mixed Precision is done (completion time is 00:00:00.02)\n",
      "[info] LayerNorm Decomposition skipped\n",
      "[info] Starting Statistics Collector\n",
      "[info] Using dataset with 64 entries for calibration\n"
     ]
    },
    {
     "name": "stderr",
     "output_type": "stream",
     "text": [
      "Calibration:   0%|                                                                          | 0/64 [00:00<?, ?entries/s]2025-02-28 06:21:18.749442: I tensorflow/core/common_runtime/executor.cc:1197] [/device:CPU:0] (DEBUG INFO) Executor start aborting (this does not indicate an error and you can ignore this message): INVALID_ARGUMENT: You must feed a value for placeholder tensor 'Placeholder/_0' with dtype int32\n",
      "\t [[{{node Placeholder/_0}}]]\n",
      "2025-02-28 06:21:18.765931: I tensorflow/core/common_runtime/executor.cc:1197] [/device:CPU:0] (DEBUG INFO) Executor start aborting (this does not indicate an error and you can ignore this message): INVALID_ARGUMENT: You must feed a value for placeholder tensor 'Placeholder/_0' with dtype float and shape [1,32,32,3]\n",
      "\t [[{{node Placeholder/_0}}]]\n",
      "Calibration:   2%|█                                                                 | 1/64 [00:02<02:20,  2.23s/entries]2025-02-28 06:21:20.822955: I tensorflow/core/common_runtime/executor.cc:1197] [/device:CPU:0] (DEBUG INFO) Executor start aborting (this does not indicate an error and you can ignore this message): INVALID_ARGUMENT: You must feed a value for placeholder tensor 'Placeholder/_0' with dtype float and shape [1,32,32,3]\n",
      "\t [[{{node Placeholder/_0}}]]\n",
      "2025-02-28 06:21:20.832697: I tensorflow/core/common_runtime/executor.cc:1197] [/device:CPU:0] (DEBUG INFO) Executor start aborting (this does not indicate an error and you can ignore this message): INVALID_ARGUMENT: You must feed a value for placeholder tensor 'Placeholder/_0' with dtype float and shape [1,32,32,3]\n",
      "\t [[{{node Placeholder/_0}}]]\n",
      "2025-02-28 06:21:20.840786: I tensorflow/core/common_runtime/executor.cc:1197] [/device:CPU:0] (DEBUG INFO) Executor start aborting (this does not indicate an error and you can ignore this message): INVALID_ARGUMENT: You must feed a value for placeholder tensor 'Placeholder/_0' with dtype float and shape [1,32,32,3]\n",
      "\t [[{{node Placeholder/_0}}]]\n",
      "2025-02-28 06:21:20.847825: I tensorflow/core/common_runtime/executor.cc:1197] [/device:CPU:0] (DEBUG INFO) Executor start aborting (this does not indicate an error and you can ignore this message): INVALID_ARGUMENT: You must feed a value for placeholder tensor 'Placeholder/_0' with dtype float and shape [1,32,32,3]\n",
      "\t [[{{node Placeholder/_0}}]]\n",
      "2025-02-28 06:21:20.856259: I tensorflow/core/common_runtime/executor.cc:1197] [/device:CPU:0] (DEBUG INFO) Executor start aborting (this does not indicate an error and you can ignore this message): INVALID_ARGUMENT: You must feed a value for placeholder tensor 'Placeholder/_0' with dtype float and shape [1,32,32,3]\n",
      "\t [[{{node Placeholder/_0}}]]\n",
      "2025-02-28 06:21:20.865494: I tensorflow/core/common_runtime/executor.cc:1197] [/device:CPU:0] (DEBUG INFO) Executor start aborting (this does not indicate an error and you can ignore this message): INVALID_ARGUMENT: You must feed a value for placeholder tensor 'Placeholder/_0' with dtype float and shape [1,32,32,3]\n",
      "\t [[{{node Placeholder/_0}}]]\n",
      "2025-02-28 06:21:20.872206: I tensorflow/core/common_runtime/executor.cc:1197] [/device:CPU:0] (DEBUG INFO) Executor start aborting (this does not indicate an error and you can ignore this message): INVALID_ARGUMENT: You must feed a value for placeholder tensor 'Placeholder/_0' with dtype float and shape [1,32,32,3]\n",
      "\t [[{{node Placeholder/_0}}]]\n",
      "2025-02-28 06:21:20.880295: I tensorflow/core/common_runtime/executor.cc:1197] [/device:CPU:0] (DEBUG INFO) Executor start aborting (this does not indicate an error and you can ignore this message): INVALID_ARGUMENT: You must feed a value for placeholder tensor 'Placeholder/_0' with dtype float and shape [1,32,32,3]\n",
      "\t [[{{node Placeholder/_0}}]]\n",
      "2025-02-28 06:21:20.889000: I tensorflow/core/common_runtime/executor.cc:1197] [/device:CPU:0] (DEBUG INFO) Executor start aborting (this does not indicate an error and you can ignore this message): INVALID_ARGUMENT: You must feed a value for placeholder tensor 'Placeholder/_0' with dtype float and shape [1,32,32,3]\n",
      "\t [[{{node Placeholder/_0}}]]\n",
      "2025-02-28 06:21:20.894792: I tensorflow/core/common_runtime/executor.cc:1197] [/device:CPU:0] (DEBUG INFO) Executor start aborting (this does not indicate an error and you can ignore this message): INVALID_ARGUMENT: You must feed a value for placeholder tensor 'Placeholder/_0' with dtype float and shape [1,32,32,3]\n",
      "\t [[{{node Placeholder/_0}}]]\n",
      "2025-02-28 06:21:20.902093: I tensorflow/core/common_runtime/executor.cc:1197] [/device:CPU:0] (DEBUG INFO) Executor start aborting (this does not indicate an error and you can ignore this message): INVALID_ARGUMENT: You must feed a value for placeholder tensor 'Placeholder/_0' with dtype float and shape [1,32,32,3]\n",
      "\t [[{{node Placeholder/_0}}]]\n",
      "2025-02-28 06:21:20.909414: I tensorflow/core/common_runtime/executor.cc:1197] [/device:CPU:0] (DEBUG INFO) Executor start aborting (this does not indicate an error and you can ignore this message): INVALID_ARGUMENT: You must feed a value for placeholder tensor 'Placeholder/_0' with dtype float and shape [1,32,32,3]\n",
      "\t [[{{node Placeholder/_0}}]]\n",
      "2025-02-28 06:21:20.917550: I tensorflow/core/common_runtime/executor.cc:1197] [/device:CPU:0] (DEBUG INFO) Executor start aborting (this does not indicate an error and you can ignore this message): INVALID_ARGUMENT: You must feed a value for placeholder tensor 'Placeholder/_0' with dtype float and shape [1,32,32,3]\n",
      "\t [[{{node Placeholder/_0}}]]\n",
      "Calibration:  22%|██████████████▏                                                  | 14/64 [00:02<00:06,  8.23entries/s]2025-02-28 06:21:20.927000: I tensorflow/core/common_runtime/executor.cc:1197] [/device:CPU:0] (DEBUG INFO) Executor start aborting (this does not indicate an error and you can ignore this message): INVALID_ARGUMENT: You must feed a value for placeholder tensor 'Placeholder/_0' with dtype float and shape [1,32,32,3]\n",
      "\t [[{{node Placeholder/_0}}]]\n",
      "2025-02-28 06:21:20.934029: I tensorflow/core/common_runtime/executor.cc:1197] [/device:CPU:0] (DEBUG INFO) Executor start aborting (this does not indicate an error and you can ignore this message): INVALID_ARGUMENT: You must feed a value for placeholder tensor 'Placeholder/_0' with dtype float and shape [1,32,32,3]\n",
      "\t [[{{node Placeholder/_0}}]]\n",
      "2025-02-28 06:21:20.942181: I tensorflow/core/common_runtime/executor.cc:1197] [/device:CPU:0] (DEBUG INFO) Executor start aborting (this does not indicate an error and you can ignore this message): INVALID_ARGUMENT: You must feed a value for placeholder tensor 'Placeholder/_0' with dtype float and shape [1,32,32,3]\n",
      "\t [[{{node Placeholder/_0}}]]\n",
      "2025-02-28 06:21:20.949217: I tensorflow/core/common_runtime/executor.cc:1197] [/device:CPU:0] (DEBUG INFO) Executor start aborting (this does not indicate an error and you can ignore this message): INVALID_ARGUMENT: You must feed a value for placeholder tensor 'Placeholder/_0' with dtype float and shape [1,32,32,3]\n",
      "\t [[{{node Placeholder/_0}}]]\n",
      "2025-02-28 06:21:20.957375: I tensorflow/core/common_runtime/executor.cc:1197] [/device:CPU:0] (DEBUG INFO) Executor start aborting (this does not indicate an error and you can ignore this message): INVALID_ARGUMENT: You must feed a value for placeholder tensor 'Placeholder/_0' with dtype float and shape [1,32,32,3]\n",
      "\t [[{{node Placeholder/_0}}]]\n",
      "2025-02-28 06:21:20.963976: I tensorflow/core/common_runtime/executor.cc:1197] [/device:CPU:0] (DEBUG INFO) Executor start aborting (this does not indicate an error and you can ignore this message): INVALID_ARGUMENT: You must feed a value for placeholder tensor 'Placeholder/_0' with dtype float and shape [1,32,32,3]\n",
      "\t [[{{node Placeholder/_0}}]]\n",
      "2025-02-28 06:21:20.971207: I tensorflow/core/common_runtime/executor.cc:1197] [/device:CPU:0] (DEBUG INFO) Executor start aborting (this does not indicate an error and you can ignore this message): INVALID_ARGUMENT: You must feed a value for placeholder tensor 'Placeholder/_0' with dtype float and shape [1,32,32,3]\n",
      "\t [[{{node Placeholder/_0}}]]\n",
      "2025-02-28 06:21:20.977593: I tensorflow/core/common_runtime/executor.cc:1197] [/device:CPU:0] (DEBUG INFO) Executor start aborting (this does not indicate an error and you can ignore this message): INVALID_ARGUMENT: You must feed a value for placeholder tensor 'Placeholder/_0' with dtype float and shape [1,32,32,3]\n",
      "\t [[{{node Placeholder/_0}}]]\n",
      "2025-02-28 06:21:20.986742: I tensorflow/core/common_runtime/executor.cc:1197] [/device:CPU:0] (DEBUG INFO) Executor start aborting (this does not indicate an error and you can ignore this message): INVALID_ARGUMENT: You must feed a value for placeholder tensor 'Placeholder/_0' with dtype float and shape [1,32,32,3]\n",
      "\t [[{{node Placeholder/_0}}]]\n",
      "2025-02-28 06:21:20.993789: I tensorflow/core/common_runtime/executor.cc:1197] [/device:CPU:0] (DEBUG INFO) Executor start aborting (this does not indicate an error and you can ignore this message): INVALID_ARGUMENT: You must feed a value for placeholder tensor 'Placeholder/_0' with dtype float and shape [1,32,32,3]\n",
      "\t [[{{node Placeholder/_0}}]]\n",
      "2025-02-28 06:21:21.004193: I tensorflow/core/common_runtime/executor.cc:1197] [/device:CPU:0] (DEBUG INFO) Executor start aborting (this does not indicate an error and you can ignore this message): INVALID_ARGUMENT: You must feed a value for placeholder tensor 'Placeholder/_0' with dtype float and shape [1,32,32,3]\n",
      "\t [[{{node Placeholder/_0}}]]\n",
      "2025-02-28 06:21:21.010494: I tensorflow/core/common_runtime/executor.cc:1197] [/device:CPU:0] (DEBUG INFO) Executor start aborting (this does not indicate an error and you can ignore this message): INVALID_ARGUMENT: You must feed a value for placeholder tensor 'Placeholder/_0' with dtype float and shape [1,32,32,3]\n",
      "\t [[{{node Placeholder/_0}}]]\n",
      "2025-02-28 06:21:21.016944: I tensorflow/core/common_runtime/executor.cc:1197] [/device:CPU:0] (DEBUG INFO) Executor start aborting (this does not indicate an error and you can ignore this message): INVALID_ARGUMENT: You must feed a value for placeholder tensor 'Placeholder/_0' with dtype float and shape [1,32,32,3]\n",
      "\t [[{{node Placeholder/_0}}]]\n"
     ]
    },
    {
     "name": "stderr",
     "output_type": "stream",
     "text": [
      "2025-02-28 06:21:21.024372: I tensorflow/core/common_runtime/executor.cc:1197] [/device:CPU:0] (DEBUG INFO) Executor start aborting (this does not indicate an error and you can ignore this message): INVALID_ARGUMENT: You must feed a value for placeholder tensor 'Placeholder/_0' with dtype float and shape [1,32,32,3]\n",
      "\t [[{{node Placeholder/_0}}]]\n",
      "Calibration:  44%|████████████████████████████▍                                    | 28/64 [00:02<00:01, 18.58entries/s]2025-02-28 06:21:21.031462: I tensorflow/core/common_runtime/executor.cc:1197] [/device:CPU:0] (DEBUG INFO) Executor start aborting (this does not indicate an error and you can ignore this message): INVALID_ARGUMENT: You must feed a value for placeholder tensor 'Placeholder/_0' with dtype float and shape [1,32,32,3]\n",
      "\t [[{{node Placeholder/_0}}]]\n",
      "2025-02-28 06:21:21.038799: I tensorflow/core/common_runtime/executor.cc:1197] [/device:CPU:0] (DEBUG INFO) Executor start aborting (this does not indicate an error and you can ignore this message): INVALID_ARGUMENT: You must feed a value for placeholder tensor 'Placeholder/_0' with dtype float and shape [1,32,32,3]\n",
      "\t [[{{node Placeholder/_0}}]]\n",
      "2025-02-28 06:21:21.044827: I tensorflow/core/common_runtime/executor.cc:1197] [/device:CPU:0] (DEBUG INFO) Executor start aborting (this does not indicate an error and you can ignore this message): INVALID_ARGUMENT: You must feed a value for placeholder tensor 'Placeholder/_0' with dtype float and shape [1,32,32,3]\n",
      "\t [[{{node Placeholder/_0}}]]\n",
      "2025-02-28 06:21:21.051997: I tensorflow/core/common_runtime/executor.cc:1197] [/device:CPU:0] (DEBUG INFO) Executor start aborting (this does not indicate an error and you can ignore this message): INVALID_ARGUMENT: You must feed a value for placeholder tensor 'Placeholder/_0' with dtype float and shape [1,32,32,3]\n",
      "\t [[{{node Placeholder/_0}}]]\n",
      "2025-02-28 06:21:21.059665: I tensorflow/core/common_runtime/executor.cc:1197] [/device:CPU:0] (DEBUG INFO) Executor start aborting (this does not indicate an error and you can ignore this message): INVALID_ARGUMENT: You must feed a value for placeholder tensor 'Placeholder/_0' with dtype float and shape [1,32,32,3]\n",
      "\t [[{{node Placeholder/_0}}]]\n",
      "2025-02-28 06:21:21.066075: I tensorflow/core/common_runtime/executor.cc:1197] [/device:CPU:0] (DEBUG INFO) Executor start aborting (this does not indicate an error and you can ignore this message): INVALID_ARGUMENT: You must feed a value for placeholder tensor 'Placeholder/_0' with dtype float and shape [1,32,32,3]\n",
      "\t [[{{node Placeholder/_0}}]]\n",
      "2025-02-28 06:21:21.074385: I tensorflow/core/common_runtime/executor.cc:1197] [/device:CPU:0] (DEBUG INFO) Executor start aborting (this does not indicate an error and you can ignore this message): INVALID_ARGUMENT: You must feed a value for placeholder tensor 'Placeholder/_0' with dtype float and shape [1,32,32,3]\n",
      "\t [[{{node Placeholder/_0}}]]\n",
      "2025-02-28 06:21:21.080811: I tensorflow/core/common_runtime/executor.cc:1197] [/device:CPU:0] (DEBUG INFO) Executor start aborting (this does not indicate an error and you can ignore this message): INVALID_ARGUMENT: You must feed a value for placeholder tensor 'Placeholder/_0' with dtype float and shape [1,32,32,3]\n",
      "\t [[{{node Placeholder/_0}}]]\n",
      "2025-02-28 06:21:21.088154: I tensorflow/core/common_runtime/executor.cc:1197] [/device:CPU:0] (DEBUG INFO) Executor start aborting (this does not indicate an error and you can ignore this message): INVALID_ARGUMENT: You must feed a value for placeholder tensor 'Placeholder/_0' with dtype float and shape [1,32,32,3]\n",
      "\t [[{{node Placeholder/_0}}]]\n",
      "2025-02-28 06:21:21.094176: I tensorflow/core/common_runtime/executor.cc:1197] [/device:CPU:0] (DEBUG INFO) Executor start aborting (this does not indicate an error and you can ignore this message): INVALID_ARGUMENT: You must feed a value for placeholder tensor 'Placeholder/_0' with dtype float and shape [1,32,32,3]\n",
      "\t [[{{node Placeholder/_0}}]]\n",
      "2025-02-28 06:21:21.103544: I tensorflow/core/common_runtime/executor.cc:1197] [/device:CPU:0] (DEBUG INFO) Executor start aborting (this does not indicate an error and you can ignore this message): INVALID_ARGUMENT: You must feed a value for placeholder tensor 'Placeholder/_0' with dtype float and shape [1,32,32,3]\n",
      "\t [[{{node Placeholder/_0}}]]\n",
      "2025-02-28 06:21:21.110196: I tensorflow/core/common_runtime/executor.cc:1197] [/device:CPU:0] (DEBUG INFO) Executor start aborting (this does not indicate an error and you can ignore this message): INVALID_ARGUMENT: You must feed a value for placeholder tensor 'Placeholder/_0' with dtype float and shape [1,32,32,3]\n",
      "\t [[{{node Placeholder/_0}}]]\n",
      "2025-02-28 06:21:21.119011: I tensorflow/core/common_runtime/executor.cc:1197] [/device:CPU:0] (DEBUG INFO) Executor start aborting (this does not indicate an error and you can ignore this message): INVALID_ARGUMENT: You must feed a value for placeholder tensor 'Placeholder/_0' with dtype float and shape [1,32,32,3]\n",
      "\t [[{{node Placeholder/_0}}]]\n",
      "2025-02-28 06:21:21.127914: I tensorflow/core/common_runtime/executor.cc:1197] [/device:CPU:0] (DEBUG INFO) Executor start aborting (this does not indicate an error and you can ignore this message): INVALID_ARGUMENT: You must feed a value for placeholder tensor 'Placeholder/_0' with dtype float and shape [1,32,32,3]\n",
      "\t [[{{node Placeholder/_0}}]]\n",
      "Calibration:  66%|██████████████████████████████████████████▋                      | 42/64 [00:02<00:00, 30.74entries/s]2025-02-28 06:21:21.135404: I tensorflow/core/common_runtime/executor.cc:1197] [/device:CPU:0] (DEBUG INFO) Executor start aborting (this does not indicate an error and you can ignore this message): INVALID_ARGUMENT: You must feed a value for placeholder tensor 'Placeholder/_0' with dtype float and shape [1,32,32,3]\n",
      "\t [[{{node Placeholder/_0}}]]\n",
      "2025-02-28 06:21:21.142528: I tensorflow/core/common_runtime/executor.cc:1197] [/device:CPU:0] (DEBUG INFO) Executor start aborting (this does not indicate an error and you can ignore this message): INVALID_ARGUMENT: You must feed a value for placeholder tensor 'Placeholder/_0' with dtype float and shape [1,32,32,3]\n",
      "\t [[{{node Placeholder/_0}}]]\n",
      "2025-02-28 06:21:21.151227: I tensorflow/core/common_runtime/executor.cc:1197] [/device:CPU:0] (DEBUG INFO) Executor start aborting (this does not indicate an error and you can ignore this message): INVALID_ARGUMENT: You must feed a value for placeholder tensor 'Placeholder/_0' with dtype float and shape [1,32,32,3]\n",
      "\t [[{{node Placeholder/_0}}]]\n",
      "2025-02-28 06:21:21.161056: I tensorflow/core/common_runtime/executor.cc:1197] [/device:CPU:0] (DEBUG INFO) Executor start aborting (this does not indicate an error and you can ignore this message): INVALID_ARGUMENT: You must feed a value for placeholder tensor 'Placeholder/_0' with dtype float and shape [1,32,32,3]\n",
      "\t [[{{node Placeholder/_0}}]]\n",
      "2025-02-28 06:21:21.169766: I tensorflow/core/common_runtime/executor.cc:1197] [/device:CPU:0] (DEBUG INFO) Executor start aborting (this does not indicate an error and you can ignore this message): INVALID_ARGUMENT: You must feed a value for placeholder tensor 'Placeholder/_0' with dtype float and shape [1,32,32,3]\n",
      "\t [[{{node Placeholder/_0}}]]\n",
      "2025-02-28 06:21:21.176750: I tensorflow/core/common_runtime/executor.cc:1197] [/device:CPU:0] (DEBUG INFO) Executor start aborting (this does not indicate an error and you can ignore this message): INVALID_ARGUMENT: You must feed a value for placeholder tensor 'Placeholder/_0' with dtype float and shape [1,32,32,3]\n",
      "\t [[{{node Placeholder/_0}}]]\n",
      "2025-02-28 06:21:21.182820: I tensorflow/core/common_runtime/executor.cc:1197] [/device:CPU:0] (DEBUG INFO) Executor start aborting (this does not indicate an error and you can ignore this message): INVALID_ARGUMENT: You must feed a value for placeholder tensor 'Placeholder/_0' with dtype float and shape [1,32,32,3]\n",
      "\t [[{{node Placeholder/_0}}]]\n",
      "2025-02-28 06:21:21.190182: I tensorflow/core/common_runtime/executor.cc:1197] [/device:CPU:0] (DEBUG INFO) Executor start aborting (this does not indicate an error and you can ignore this message): INVALID_ARGUMENT: You must feed a value for placeholder tensor 'Placeholder/_0' with dtype float and shape [1,32,32,3]\n",
      "\t [[{{node Placeholder/_0}}]]\n",
      "2025-02-28 06:21:21.197643: I tensorflow/core/common_runtime/executor.cc:1197] [/device:CPU:0] (DEBUG INFO) Executor start aborting (this does not indicate an error and you can ignore this message): INVALID_ARGUMENT: You must feed a value for placeholder tensor 'Placeholder/_0' with dtype float and shape [1,32,32,3]\n",
      "\t [[{{node Placeholder/_0}}]]\n",
      "2025-02-28 06:21:21.203051: I tensorflow/core/common_runtime/executor.cc:1197] [/device:CPU:0] (DEBUG INFO) Executor start aborting (this does not indicate an error and you can ignore this message): INVALID_ARGUMENT: You must feed a value for placeholder tensor 'Placeholder/_0' with dtype float and shape [1,32,32,3]\n",
      "\t [[{{node Placeholder/_0}}]]\n",
      "2025-02-28 06:21:21.211395: I tensorflow/core/common_runtime/executor.cc:1197] [/device:CPU:0] (DEBUG INFO) Executor start aborting (this does not indicate an error and you can ignore this message): INVALID_ARGUMENT: You must feed a value for placeholder tensor 'Placeholder/_0' with dtype float and shape [1,32,32,3]\n",
      "\t [[{{node Placeholder/_0}}]]\n",
      "2025-02-28 06:21:21.217486: I tensorflow/core/common_runtime/executor.cc:1197] [/device:CPU:0] (DEBUG INFO) Executor start aborting (this does not indicate an error and you can ignore this message): INVALID_ARGUMENT: You must feed a value for placeholder tensor 'Placeholder/_0' with dtype float and shape [1,32,32,3]\n",
      "\t [[{{node Placeholder/_0}}]]\n"
     ]
    },
    {
     "name": "stderr",
     "output_type": "stream",
     "text": [
      "2025-02-28 06:21:21.225284: I tensorflow/core/common_runtime/executor.cc:1197] [/device:CPU:0] (DEBUG INFO) Executor start aborting (this does not indicate an error and you can ignore this message): INVALID_ARGUMENT: You must feed a value for placeholder tensor 'Placeholder/_0' with dtype float and shape [1,32,32,3]\n",
      "\t [[{{node Placeholder/_0}}]]\n",
      "2025-02-28 06:21:21.230942: I tensorflow/core/common_runtime/executor.cc:1197] [/device:CPU:0] (DEBUG INFO) Executor start aborting (this does not indicate an error and you can ignore this message): INVALID_ARGUMENT: You must feed a value for placeholder tensor 'Placeholder/_0' with dtype float and shape [1,32,32,3]\n",
      "\t [[{{node Placeholder/_0}}]]\n",
      "Calibration:  88%|████████████████████████████████████████████████████████▉        | 56/64 [00:02<00:00, 44.33entries/s]2025-02-28 06:21:21.237853: I tensorflow/core/common_runtime/executor.cc:1197] [/device:CPU:0] (DEBUG INFO) Executor start aborting (this does not indicate an error and you can ignore this message): INVALID_ARGUMENT: You must feed a value for placeholder tensor 'Placeholder/_0' with dtype float and shape [1,32,32,3]\n",
      "\t [[{{node Placeholder/_0}}]]\n",
      "2025-02-28 06:21:21.245640: I tensorflow/core/common_runtime/executor.cc:1197] [/device:CPU:0] (DEBUG INFO) Executor start aborting (this does not indicate an error and you can ignore this message): INVALID_ARGUMENT: You must feed a value for placeholder tensor 'Placeholder/_0' with dtype float and shape [1,32,32,3]\n",
      "\t [[{{node Placeholder/_0}}]]\n",
      "2025-02-28 06:21:21.252809: I tensorflow/core/common_runtime/executor.cc:1197] [/device:CPU:0] (DEBUG INFO) Executor start aborting (this does not indicate an error and you can ignore this message): INVALID_ARGUMENT: You must feed a value for placeholder tensor 'Placeholder/_0' with dtype float and shape [1,32,32,3]\n",
      "\t [[{{node Placeholder/_0}}]]\n",
      "2025-02-28 06:21:21.259002: I tensorflow/core/common_runtime/executor.cc:1197] [/device:CPU:0] (DEBUG INFO) Executor start aborting (this does not indicate an error and you can ignore this message): INVALID_ARGUMENT: You must feed a value for placeholder tensor 'Placeholder/_0' with dtype float and shape [1,32,32,3]\n",
      "\t [[{{node Placeholder/_0}}]]\n",
      "2025-02-28 06:21:21.264410: I tensorflow/core/common_runtime/executor.cc:1197] [/device:CPU:0] (DEBUG INFO) Executor start aborting (this does not indicate an error and you can ignore this message): INVALID_ARGUMENT: You must feed a value for placeholder tensor 'Placeholder/_0' with dtype float and shape [1,32,32,3]\n",
      "\t [[{{node Placeholder/_0}}]]\n",
      "2025-02-28 06:21:21.270328: I tensorflow/core/common_runtime/executor.cc:1197] [/device:CPU:0] (DEBUG INFO) Executor start aborting (this does not indicate an error and you can ignore this message): INVALID_ARGUMENT: You must feed a value for placeholder tensor 'Placeholder/_0' with dtype float and shape [1,32,32,3]\n",
      "\t [[{{node Placeholder/_0}}]]\n",
      "2025-02-28 06:21:21.278198: I tensorflow/core/common_runtime/executor.cc:1197] [/device:CPU:0] (DEBUG INFO) Executor start aborting (this does not indicate an error and you can ignore this message): INVALID_ARGUMENT: You must feed a value for placeholder tensor 'Placeholder/_0' with dtype float and shape [1,32,32,3]\n",
      "\t [[{{node Placeholder/_0}}]]\n",
      "2025-02-28 06:21:21.285646: I tensorflow/core/common_runtime/executor.cc:1197] [/device:CPU:0] (DEBUG INFO) Executor start aborting (this does not indicate an error and you can ignore this message): INVALID_ARGUMENT: You must feed a value for placeholder tensor 'Placeholder/_0' with dtype float and shape [1,32,32,3]\n",
      "\t [[{{node Placeholder/_0}}]]\n",
      "Calibration: 100%|█████████████████████████████████████████████████████████████████| 64/64 [00:02<00:00, 23.68entries/s]\n"
     ]
    },
    {
     "name": "stdout",
     "output_type": "stream",
     "text": [
      "[info] Model Optimization Algorithm Statistics Collector is done (completion time is 00:00:02.82)\n",
      "[info] Starting Fix zp_comp Encoding\n",
      "[info] Model Optimization Algorithm Fix zp_comp Encoding is done (completion time is 00:00:00.00)\n",
      "[info] Matmul Equalization skipped\n",
      "[info] No shifts available for layer model/fc1/conv_op, using max shift instead. delta=3.6361\n",
      "[info] No shifts available for layer model/fc1/conv_op, using max shift instead. delta=1.8180\n",
      "[info] Finetune encoding skipped\n",
      "[info] Bias Correction skipped\n",
      "[info] Adaround skipped\n",
      "[info] Quantization-Aware Fine-Tuning skipped\n"
     ]
    },
    {
     "name": "stderr",
     "output_type": "stream",
     "text": [
      "2025-02-28 06:21:21.974285: E tensorflow/compiler/xla/stream_executor/cuda/cuda_driver.cc:1279] could not retrieve CUDA device count: CUDA_ERROR_NOT_INITIALIZED: initialization error\n"
     ]
    },
    {
     "name": "stdout",
     "output_type": "stream",
     "text": [
      "[info] Layer Noise Analysis skipped\n",
      "[info] The calibration set seems to not be normalized, because the values range is [(0.0, 1.0), (0.0, 1.0), (0.0, 1.0)].\n",
      "Since the neural core works in 8-bit (between 0 to 255), a quantization will occur on the CPU of the runtime platform.\n",
      "Add a normalization layer to the model to offload the normalization to the neural core.\n",
      "Refer to the user guide Hailo Dataflow Compiler user guide / Model Optimization / Optimization Related Model Script Commands / model_modification_commands / normalization for details.\n",
      "[info] Model Optimization is done\n"
     ]
    },
    {
     "name": "stderr",
     "output_type": "stream",
     "text": [
      "2025-02-28 06:21:22.370753: E tensorflow/compiler/xla/stream_executor/cuda/cuda_driver.cc:1279] could not retrieve CUDA device count: CUDA_ERROR_NOT_INITIALIZED: initialization error\n"
     ]
    }
   ],
   "source": [
    "# Parse the TFlite model\n",
    "runner = ClientRunner(hw_arch=chosen_hw_arch)\n",
    "runner.translate_tf_model(tflite_model_path)\n",
    "\n",
    "# Optimize the model: enforce 60% 4-bit weights without optimization\n",
    "model_script_commands = [\n",
    "    \"model_optimization_config(compression_params, auto_4bit_weights_ratio=0.6)\\n\"\n",
    "    \"model_optimization_flavor(optimization_level=0)\\n\",\n",
    "]\n",
    "\n",
    "runner.load_model_script(\"\".join(model_script_commands))\n",
    "runner.optimize(x_train[:1024])"
   ]
  },
  {
   "cell_type": "code",
   "execution_count": 7,
   "id": "5e591299",
   "metadata": {},
   "outputs": [
    {
     "name": "stdout",
     "output_type": "stream",
     "text": [
      "[info] Using 1 GPU for inference\n"
     ]
    },
    {
     "name": "stderr",
     "output_type": "stream",
     "text": [
      "2025-02-28 06:21:22.575940: E tensorflow/compiler/xla/stream_executor/cuda/cuda_driver.cc:1279] could not retrieve CUDA device count: CUDA_ERROR_NOT_INITIALIZED: initialization error\n",
      "Inference: 0entries [00:00, ?entries/s]2025-02-28 06:21:22.671690: I tensorflow/core/common_runtime/executor.cc:1197] [/device:CPU:0] (DEBUG INFO) Executor start aborting (this does not indicate an error and you can ignore this message): INVALID_ARGUMENT: You must feed a value for placeholder tensor 'Placeholder/_0' with dtype int32\n",
      "\t [[{{node Placeholder/_0}}]]\n",
      "Inference: 10000entries [00:01, 5097.78entries/s]\n"
     ]
    },
    {
     "name": "stdout",
     "output_type": "stream",
     "text": [
      "[info] Using 1 GPU for inference\n"
     ]
    },
    {
     "name": "stderr",
     "output_type": "stream",
     "text": [
      "2025-02-28 06:21:24.646835: E tensorflow/compiler/xla/stream_executor/cuda/cuda_driver.cc:1279] could not retrieve CUDA device count: CUDA_ERROR_NOT_INITIALIZED: initialization error\n",
      "Inference: 0entries [00:00, ?entries/s]2025-02-28 06:21:24.784484: I tensorflow/core/common_runtime/executor.cc:1197] [/device:CPU:0] (DEBUG INFO) Executor start aborting (this does not indicate an error and you can ignore this message): INVALID_ARGUMENT: You must feed a value for placeholder tensor 'Placeholder/_0' with dtype int32\n",
      "\t [[{{node Placeholder/_0}}]]\n",
      "Inference: 10000entries [00:05, 1976.02entries/s]\n"
     ]
    },
    {
     "name": "stdout",
     "output_type": "stream",
     "text": [
      "Test accuracy (floating point): 100000.000 (Top-1)\n",
      "Test accuracy (quantized): 100000.000 (Top-1)\n",
      "Degradation: 0.000\n"
     ]
    }
   ],
   "source": [
    "# Evaluate the results\n",
    "with runner.infer_context(InferenceContext.SDK_QUANTIZED) as q_ctx:\n",
    "    with runner.infer_context(InferenceContext.SDK_FP_OPTIMIZED) as fp_ctx:\n",
    "        y_infer_fp = runner.infer(fp_ctx, x_test)\n",
    "        y_infer_q = runner.infer(q_ctx, x_test)\n",
    "\n",
    "full_precision_result = np.count_nonzero(np.argmax(y_infer_fp, axis=-1) == np.argmax(y_test, axis=-1)) / len(y_test)\n",
    "quantize_result = np.count_nonzero(np.argmax(y_infer_q, axis=-1) == np.argmax(y_test, axis=-1)) / len(y_test)\n",
    "print(f\"Test accuracy (floating point): {100 * full_precision_result:.3f} (Top-1)\")\n",
    "print(f\"Test accuracy (quantized): {100 * quantize_result:.3f} (Top-1)\")\n",
    "print(f\"Degradation: {100 * (full_precision_result - quantize_result):.3f}\")"
   ]
  },
  {
   "cell_type": "code",
   "execution_count": 8,
   "id": "ba849386",
   "metadata": {},
   "outputs": [
    {
     "name": "stdout",
     "output_type": "stream",
     "text": [
      "Epoch 1/10\n"
     ]
    },
    {
     "name": "stderr",
     "output_type": "stream",
     "text": [
      "2025-02-28 06:21:31.035524: I tensorflow/core/common_runtime/executor.cc:1197] [/device:CPU:0] (DEBUG INFO) Executor start aborting (this does not indicate an error and you can ignore this message): INVALID_ARGUMENT: You must feed a value for placeholder tensor 'Placeholder/_1' with dtype float and shape [50000,1,1,100]\n",
      "\t [[{{node Placeholder/_1}}]]\n",
      "2025-02-28 06:21:31.189405: I tensorflow/core/common_runtime/executor.cc:1197] [/device:CPU:0] (DEBUG INFO) Executor start aborting (this does not indicate an error and you can ignore this message): INVALID_ARGUMENT: You must feed a value for placeholder tensor 'Placeholder/_1' with dtype float and shape [50000,1,1,100]\n",
      "\t [[{{node Placeholder/_1}}]]\n",
      "2025-02-28 06:21:33.152968: E tensorflow/core/grappler/optimizers/meta_optimizer.cc:954] layout failed: INVALID_ARGUMENT: Size of values 0 does not match size of permutation 4 @ fanin shape inSelectV2_8-2-TransposeNHWCToNCHW-LayoutOptimizer\n"
     ]
    },
    {
     "name": "stdout",
     "output_type": "stream",
     "text": [
      "391/391 [==============================] - 8s 12ms/step - loss: 4.5008 - accuracy: 0.1825\n",
      "Epoch 2/10\n",
      " 10/391 [..............................] - ETA: 4s - loss: 4.4974 - accuracy: 0.2133"
     ]
    },
    {
     "name": "stderr",
     "output_type": "stream",
     "text": [
      "2025-02-28 06:21:39.215418: I tensorflow/core/common_runtime/executor.cc:1197] [/device:CPU:0] (DEBUG INFO) Executor start aborting (this does not indicate an error and you can ignore this message): INVALID_ARGUMENT: You must feed a value for placeholder tensor 'Placeholder/_1' with dtype float and shape [50000,1,1,100]\n",
      "\t [[{{node Placeholder/_1}}]]\n"
     ]
    },
    {
     "name": "stdout",
     "output_type": "stream",
     "text": [
      "391/391 [==============================] - 5s 12ms/step - loss: 4.4992 - accuracy: 0.2034\n",
      "Epoch 3/10\n",
      " 10/391 [..............................] - ETA: 4s - loss: 4.4956 - accuracy: 0.2422"
     ]
    },
    {
     "name": "stderr",
     "output_type": "stream",
     "text": [
      "2025-02-28 06:21:44.145864: I tensorflow/core/common_runtime/executor.cc:1197] [/device:CPU:0] (DEBUG INFO) Executor start aborting (this does not indicate an error and you can ignore this message): INVALID_ARGUMENT: You must feed a value for placeholder tensor 'Placeholder/_1' with dtype float and shape [50000,1,1,100]\n",
      "\t [[{{node Placeholder/_1}}]]\n"
     ]
    },
    {
     "name": "stdout",
     "output_type": "stream",
     "text": [
      "391/391 [==============================] - 5s 12ms/step - loss: 4.4978 - accuracy: 0.2186\n",
      "Epoch 4/10\n",
      " 10/391 [..............................] - ETA: 4s - loss: 4.4938 - accuracy: 0.2508"
     ]
    },
    {
     "name": "stderr",
     "output_type": "stream",
     "text": [
      "2025-02-28 06:21:49.126113: I tensorflow/core/common_runtime/executor.cc:1197] [/device:CPU:0] (DEBUG INFO) Executor start aborting (this does not indicate an error and you can ignore this message): INVALID_ARGUMENT: You must feed a value for placeholder tensor 'Placeholder/_1' with dtype float and shape [50000,1,1,100]\n",
      "\t [[{{node Placeholder/_1}}]]\n"
     ]
    },
    {
     "name": "stdout",
     "output_type": "stream",
     "text": [
      "391/391 [==============================] - 5s 13ms/step - loss: 4.4963 - accuracy: 0.2265\n",
      "Epoch 5/10\n",
      "  9/391 [..............................] - ETA: 5s - loss: 4.4929 - accuracy: 0.2561"
     ]
    },
    {
     "name": "stderr",
     "output_type": "stream",
     "text": [
      "2025-02-28 06:21:54.202176: I tensorflow/core/common_runtime/executor.cc:1197] [/device:CPU:0] (DEBUG INFO) Executor start aborting (this does not indicate an error and you can ignore this message): INVALID_ARGUMENT: You must feed a value for placeholder tensor 'Placeholder/_1' with dtype float and shape [50000,1,1,100]\n",
      "\t [[{{node Placeholder/_1}}]]\n"
     ]
    },
    {
     "name": "stdout",
     "output_type": "stream",
     "text": [
      "391/391 [==============================] - 5s 14ms/step - loss: 4.4949 - accuracy: 0.2265\n",
      "Epoch 6/10\n",
      "  9/391 [..............................] - ETA: 5s - loss: 4.4913 - accuracy: 0.2465"
     ]
    },
    {
     "name": "stderr",
     "output_type": "stream",
     "text": [
      "2025-02-28 06:21:59.673464: I tensorflow/core/common_runtime/executor.cc:1197] [/device:CPU:0] (DEBUG INFO) Executor start aborting (this does not indicate an error and you can ignore this message): INVALID_ARGUMENT: You must feed a value for placeholder tensor 'Placeholder/_1' with dtype float and shape [50000,1,1,100]\n",
      "\t [[{{node Placeholder/_1}}]]\n"
     ]
    },
    {
     "name": "stdout",
     "output_type": "stream",
     "text": [
      "391/391 [==============================] - 5s 14ms/step - loss: 4.4934 - accuracy: 0.2230\n",
      "Epoch 7/10\n",
      "  9/391 [..............................] - ETA: 5s - loss: 4.4896 - accuracy: 0.2535"
     ]
    },
    {
     "name": "stderr",
     "output_type": "stream",
     "text": [
      "2025-02-28 06:22:05.147462: I tensorflow/core/common_runtime/executor.cc:1197] [/device:CPU:0] (DEBUG INFO) Executor start aborting (this does not indicate an error and you can ignore this message): INVALID_ARGUMENT: You must feed a value for placeholder tensor 'Placeholder/_1' with dtype float and shape [50000,1,1,100]\n",
      "\t [[{{node Placeholder/_1}}]]\n"
     ]
    },
    {
     "name": "stdout",
     "output_type": "stream",
     "text": [
      "391/391 [==============================] - 5s 14ms/step - loss: 4.4921 - accuracy: 0.2212\n",
      "Epoch 8/10\n",
      "  9/391 [..............................] - ETA: 5s - loss: 4.4880 - accuracy: 0.2465"
     ]
    },
    {
     "name": "stderr",
     "output_type": "stream",
     "text": [
      "2025-02-28 06:22:10.638172: I tensorflow/core/common_runtime/executor.cc:1197] [/device:CPU:0] (DEBUG INFO) Executor start aborting (this does not indicate an error and you can ignore this message): INVALID_ARGUMENT: You must feed a value for placeholder tensor 'Placeholder/_1' with dtype float and shape [50000,1,1,100]\n",
      "\t [[{{node Placeholder/_1}}]]\n"
     ]
    },
    {
     "name": "stdout",
     "output_type": "stream",
     "text": [
      "391/391 [==============================] - 5s 13ms/step - loss: 4.4908 - accuracy: 0.2193\n",
      "Epoch 9/10\n",
      "  9/391 [..............................] - ETA: 5s - loss: 4.4865 - accuracy: 0.2491"
     ]
    },
    {
     "name": "stderr",
     "output_type": "stream",
     "text": [
      "2025-02-28 06:22:16.002386: I tensorflow/core/common_runtime/executor.cc:1197] [/device:CPU:0] (DEBUG INFO) Executor start aborting (this does not indicate an error and you can ignore this message): INVALID_ARGUMENT: You must feed a value for placeholder tensor 'Placeholder/_1' with dtype float and shape [50000,1,1,100]\n",
      "\t [[{{node Placeholder/_1}}]]\n"
     ]
    },
    {
     "name": "stdout",
     "output_type": "stream",
     "text": [
      "391/391 [==============================] - 5s 13ms/step - loss: 4.4896 - accuracy: 0.2184\n",
      "Epoch 10/10\n",
      "  9/391 [..............................] - ETA: 5s - loss: 4.4851 - accuracy: 0.2483"
     ]
    },
    {
     "name": "stderr",
     "output_type": "stream",
     "text": [
      "2025-02-28 06:22:21.357977: I tensorflow/core/common_runtime/executor.cc:1197] [/device:CPU:0] (DEBUG INFO) Executor start aborting (this does not indicate an error and you can ignore this message): INVALID_ARGUMENT: You must feed a value for placeholder tensor 'Placeholder/_1' with dtype float and shape [50000,1,1,100]\n",
      "\t [[{{node Placeholder/_1}}]]\n"
     ]
    },
    {
     "name": "stdout",
     "output_type": "stream",
     "text": [
      "391/391 [==============================] - 5s 13ms/step - loss: 4.4884 - accuracy: 0.2183\n"
     ]
    },
    {
     "data": {
      "image/png": "[encoded data removed]",
      "text/plain": [
       "<Figure size 640x480 with 1 Axes>"
      ]
     },
     "metadata": {},
     "output_type": "display_data"
    }
   ],
   "source": [
    "with tf.distribute.MultiWorkerMirroredStrategy().scope():\n",
    "    with runner.infer_context(InferenceContext.SDK_QUANTIZED) as ctx:\n",
    "        # get the Hailo Keras model for training\n",
    "        model = runner.get_keras_model(ctx, trainable=True)\n",
    "\n",
    "        # add external post-processing\n",
    "        new_model = tf.keras.Sequential(\n",
    "            [\n",
    "                model,\n",
    "                tf.keras.layers.Softmax(),\n",
    "            ],\n",
    "        )\n",
    "\n",
    "        # adding external loss.\n",
    "        # note that this compile API only compiles the Keras model but doesn't compile the model to the Hailo HW.\n",
    "        new_model.compile(\n",
    "            loss=tf.keras.losses.CategoricalCrossentropy(),\n",
    "            optimizer=tf.keras.optimizers.Adam(learning_rate=1e-6),\n",
    "            metrics=[\"accuracy\"],\n",
    "        )\n",
    "\n",
    "        # Hailo Keras model is exported with rank4 layers, expands dimensions for the y_train to match the model output shape\n",
    "        y_train = np.expand_dims(y_train, axis=[1, 2])\n",
    "\n",
    "        # move numpy data to tf.data.Dataset to be used by multiple GPUs\n",
    "        train_data = tf.data.Dataset.from_tensor_slices((x_train, y_train))\n",
    "        train_data = train_data.batch(128)\n",
    "        options = tf.data.Options()\n",
    "        options.experimental_distribute.auto_shard_policy = tf.data.experimental.AutoShardPolicy.OFF\n",
    "        train_data = train_data.with_options(options)\n",
    "\n",
    "        # start QAT\n",
    "        log = new_model.fit(train_data, batch_size=128, epochs=10)\n",
    "\n",
    "        # set the Keras model after training. The model is already optimized, so do not run optimize() again.\n",
    "        runner.set_keras_model(model)\n",
    "\n",
    "# plot training curve\n",
    "plt.plot(log.history[\"accuracy\"])\n",
    "plt.title(\"Model Accuracy\")\n",
    "plt.ylabel(\"Top-1\")\n",
    "plt.xlabel(\"Epoch\")\n",
    "plt.grid()\n",
    "plt.show()"
   ]
  },
  {
   "cell_type": "code",
   "execution_count": 9,
   "id": "77419fc3",
   "metadata": {},
   "outputs": [
    {
     "name": "stdout",
     "output_type": "stream",
     "text": [
      "[info] Using 1 GPU for inference\n"
     ]
    },
    {
     "name": "stderr",
     "output_type": "stream",
     "text": [
      "2025-02-28 06:22:26.995983: E tensorflow/compiler/xla/stream_executor/cuda/cuda_driver.cc:1279] could not retrieve CUDA device count: CUDA_ERROR_NOT_INITIALIZED: initialization error\n",
      "Inference: 0entries [00:00, ?entries/s]2025-02-28 06:22:27.126918: I tensorflow/core/common_runtime/executor.cc:1197] [/device:CPU:0] (DEBUG INFO) Executor start aborting (this does not indicate an error and you can ignore this message): INVALID_ARGUMENT: You must feed a value for placeholder tensor 'Placeholder/_0' with dtype int32\n",
      "\t [[{{node Placeholder/_0}}]]\n",
      "Inference: 10000entries [00:04, 2224.84entries/s]"
     ]
    },
    {
     "name": "stdout",
     "output_type": "stream",
     "text": [
      "Test accuracy (quantized) before QAT: 100000.000 (Top-1)\n",
      "Test accuracy (quantized) after QAT: 100000.000 (Top-1)\n",
      "Accuracy improvement: 0.000\n"
     ]
    },
    {
     "name": "stderr",
     "output_type": "stream",
     "text": [
      "\n"
     ]
    }
   ],
   "source": [
    "# Evaluate the results\n",
    "with runner.infer_context(InferenceContext.SDK_QUANTIZED) as q_ctx:\n",
    "    y_infer_qat = runner.infer(q_ctx, x_test)\n",
    "\n",
    "qat_result = np.count_nonzero(np.argmax(y_infer_qat, axis=-1) == np.argmax(y_test,axis=-1)) / len(y_test)\n",
    "print(f\"Test accuracy (quantized) before QAT: {100 * quantize_result:.3f} (Top-1)\")\n",
    "print(f\"Test accuracy (quantized) after QAT: {100 * qat_result:.3f} (Top-1)\")\n",
    "print(f\"Accuracy improvement: {100 * (qat_result - quantize_result):.3f}\")"
   ]
  },
  {
   "cell_type": "code",
   "execution_count": 10,
   "id": "916d1510",
   "metadata": {},
   "outputs": [],
   "source": [
    "class Distiller(tf.keras.Model):\n",
    "    def __init__(self, student, teacher):\n",
    "        super().__init__()\n",
    "        self._teacher = teacher\n",
    "        self._student = student\n",
    "\n",
    "    def compile(self, optimizer, metrics, student_loss_fn, distillation_loss_fn, alpha=0.1, temperature=3):\n",
    "        super().compile(optimizer=optimizer, metrics=metrics)\n",
    "        self._student_loss_fn = student_loss_fn\n",
    "        self._distillation_loss_fn = distillation_loss_fn\n",
    "        self._alpha = alpha\n",
    "        self._temperature = temperature\n",
    "\n",
    "    def train_step(self, data):\n",
    "        # unpack data (image, label)\n",
    "        x, y = data\n",
    "\n",
    "        # forward pass of teacher\n",
    "        teacher_predictions = self._teacher(x, training=False)\n",
    "\n",
    "        with tf.GradientTape() as tape:\n",
    "            # forward pass of student\n",
    "            student_predictions = self._student(x, training=True)\n",
    "\n",
    "            # compute supervised loss\n",
    "            student_loss = self._student_loss_fn(y, student_predictions)\n",
    "\n",
    "            # compute distillation loss\n",
    "            distillation_loss = (\n",
    "                self._distillation_loss_fn(\n",
    "                    tf.nn.softmax(teacher_predictions / self._temperature, axis=1),\n",
    "                    tf.nn.softmax(student_predictions / self._temperature, axis=1),\n",
    "                )\n",
    "                * self._temperature**2\n",
    "            )\n",
    "\n",
    "            total_loss = self._alpha * student_loss + (1 - self._alpha) * distillation_loss\n",
    "\n",
    "        # compute gradients\n",
    "        trainable_vars = self._student.trainable_variables\n",
    "        gradients = tape.gradient(total_loss, trainable_vars)\n",
    "\n",
    "        # update weights\n",
    "        self.optimizer.apply_gradients(zip(gradients, trainable_vars))\n",
    "\n",
    "        # update the metrics\n",
    "        results = {m.name: m.result() for m in self.metrics}\n",
    "        results.update(\n",
    "            {\"total_loss\": total_loss, \"student_loss\": student_loss, \"distillation_loss\": distillation_loss},\n",
    "        )\n",
    "        return results"
   ]
  },
  {
   "cell_type": "code",
   "execution_count": 11,
   "id": "4be5be39",
   "metadata": {},
   "outputs": [
    {
     "name": "stdout",
     "output_type": "stream",
     "text": [
      "[info] Translation started on Tensorflow model model\n",
      "[info] Start nodes mapped from original model: 'serving_default_input_1:0': 'model/input_layer1'.\n",
      "[info] End nodes mapped from original model: 'StatefulPartitionedCall:0'.\n",
      "[info] Translation completed on Tensorflow model model (completion time: 00:00:00.02)\n"
     ]
    },
    {
     "name": "stderr",
     "output_type": "stream",
     "text": [
      "2025-02-28 06:22:31.703499: E tensorflow/compiler/xla/stream_executor/cuda/cuda_driver.cc:1279] could not retrieve CUDA device count: CUDA_ERROR_NOT_INITIALIZED: initialization error\n",
      "2025-02-28 06:22:31.715537: I tensorflow/compiler/xla/stream_executor/cuda/cuda_gpu_executor.cc:982] could not open file to read NUMA node: /sys/bus/pci/devices/0000:01:00.0/numa_node\n",
      "Your kernel may have been built without NUMA support.\n",
      "2025-02-28 06:22:31.715600: I tensorflow/compiler/xla/stream_executor/cuda/cuda_gpu_executor.cc:982] could not open file to read NUMA node: /sys/bus/pci/devices/0000:01:00.0/numa_node\n",
      "Your kernel may have been built without NUMA support.\n",
      "2025-02-28 06:22:31.715618: I tensorflow/compiler/xla/stream_executor/cuda/cuda_gpu_executor.cc:982] could not open file to read NUMA node: /sys/bus/pci/devices/0000:01:00.0/numa_node\n",
      "Your kernel may have been built without NUMA support.\n",
      "2025-02-28 06:22:31.715858: I tensorflow/compiler/xla/stream_executor/cuda/cuda_gpu_executor.cc:982] could not open file to read NUMA node: /sys/bus/pci/devices/0000:01:00.0/numa_node\n",
      "Your kernel may have been built without NUMA support.\n",
      "2025-02-28 06:22:31.715870: I tensorflow/core/common_runtime/gpu/gpu_device.cc:1722] Could not identify NUMA node of platform GPU id 0, defaulting to 0.  Your kernel may not have been built with NUMA support.\n",
      "2025-02-28 06:22:31.715897: I tensorflow/compiler/xla/stream_executor/cuda/cuda_gpu_executor.cc:982] could not open file to read NUMA node: /sys/bus/pci/devices/0000:01:00.0/numa_node\n",
      "Your kernel may have been built without NUMA support.\n",
      "2025-02-28 06:22:31.715923: I tensorflow/core/common_runtime/gpu/gpu_device.cc:1635] Created device /device:GPU:0 with 5529 MB memory:  -> device: 0, name: NVIDIA GeForce RTX 4060 Ti, pci bus id: 0000:01:00.0, compute capability: 8.9\n"
     ]
    },
    {
     "name": "stdout",
     "output_type": "stream",
     "text": [
      "[info] Loading model script commands to model from string\n",
      "[info] Starting Model Optimization\n",
      "[warning] Reducing compression level to 0 because requested optimization level equal or less than 1\n",
      "[warning] Running model optimization with zero level of optimization is not recommended for production use and might lead to suboptimal accuracy results\n",
      "[info] Model received quantization params from the hn\n"
     ]
    },
    {
     "name": "stderr",
     "output_type": "stream",
     "text": [
      "2025-02-28 06:22:32.022364: E tensorflow/compiler/xla/stream_executor/cuda/cuda_driver.cc:1279] could not retrieve CUDA device count: CUDA_ERROR_NOT_INITIALIZED: initialization error\n"
     ]
    },
    {
     "name": "stdout",
     "output_type": "stream",
     "text": [
      "[info] MatmulDecompose skipped\n",
      "[info] Starting Mixed Precision\n",
      "[info] Assigning 4bit weights to layer model/conv2 with 18.43k parameters\n",
      "[info] Ratio of weights in 4bit is 0.07\n"
     ]
    },
    {
     "name": "stderr",
     "output_type": "stream",
     "text": [
      "2025-02-28 06:22:32.066709: E tensorflow/compiler/xla/stream_executor/cuda/cuda_driver.cc:1279] could not retrieve CUDA device count: CUDA_ERROR_NOT_INITIALIZED: initialization error\n"
     ]
    },
    {
     "name": "stdout",
     "output_type": "stream",
     "text": [
      "[info] Model Optimization Algorithm Mixed Precision is done (completion time is 00:00:00.02)\n",
      "[info] LayerNorm Decomposition skipped\n",
      "[info] Starting Statistics Collector\n",
      "[info] Using dataset with 64 entries for calibration\n"
     ]
    },
    {
     "name": "stderr",
     "output_type": "stream",
     "text": [
      "Calibration:   0%|                                                                          | 0/64 [00:00<?, ?entries/s]2025-02-28 06:22:32.471305: I tensorflow/core/common_runtime/executor.cc:1197] [/device:CPU:0] (DEBUG INFO) Executor start aborting (this does not indicate an error and you can ignore this message): INVALID_ARGUMENT: You must feed a value for placeholder tensor 'Placeholder/_0' with dtype int32\n",
      "\t [[{{node Placeholder/_0}}]]\n",
      "2025-02-28 06:22:32.488672: I tensorflow/core/common_runtime/executor.cc:1197] [/device:CPU:0] (DEBUG INFO) Executor start aborting (this does not indicate an error and you can ignore this message): INVALID_ARGUMENT: You must feed a value for placeholder tensor 'Placeholder/_0' with dtype float and shape [1,32,32,3]\n",
      "\t [[{{node Placeholder/_0}}]]\n",
      "Calibration:   2%|█                                                                 | 1/64 [00:00<00:40,  1.55entries/s]2025-02-28 06:22:32.965570: I tensorflow/core/common_runtime/executor.cc:1197] [/device:CPU:0] (DEBUG INFO) Executor start aborting (this does not indicate an error and you can ignore this message): INVALID_ARGUMENT: You must feed a value for placeholder tensor 'Placeholder/_0' with dtype float and shape [1,32,32,3]\n",
      "\t [[{{node Placeholder/_0}}]]\n",
      "2025-02-28 06:22:32.976322: I tensorflow/core/common_runtime/executor.cc:1197] [/device:CPU:0] (DEBUG INFO) Executor start aborting (this does not indicate an error and you can ignore this message): INVALID_ARGUMENT: You must feed a value for placeholder tensor 'Placeholder/_0' with dtype float and shape [1,32,32,3]\n",
      "\t [[{{node Placeholder/_0}}]]\n",
      "2025-02-28 06:22:32.985801: I tensorflow/core/common_runtime/executor.cc:1197] [/device:CPU:0] (DEBUG INFO) Executor start aborting (this does not indicate an error and you can ignore this message): INVALID_ARGUMENT: You must feed a value for placeholder tensor 'Placeholder/_0' with dtype float and shape [1,32,32,3]\n",
      "\t [[{{node Placeholder/_0}}]]\n",
      "2025-02-28 06:22:32.993597: I tensorflow/core/common_runtime/executor.cc:1197] [/device:CPU:0] (DEBUG INFO) Executor start aborting (this does not indicate an error and you can ignore this message): INVALID_ARGUMENT: You must feed a value for placeholder tensor 'Placeholder/_0' with dtype float and shape [1,32,32,3]\n",
      "\t [[{{node Placeholder/_0}}]]\n",
      "2025-02-28 06:22:33.002405: I tensorflow/core/common_runtime/executor.cc:1197] [/device:CPU:0] (DEBUG INFO) Executor start aborting (this does not indicate an error and you can ignore this message): INVALID_ARGUMENT: You must feed a value for placeholder tensor 'Placeholder/_0' with dtype float and shape [1,32,32,3]\n",
      "\t [[{{node Placeholder/_0}}]]\n",
      "2025-02-28 06:22:33.009360: I tensorflow/core/common_runtime/executor.cc:1197] [/device:CPU:0] (DEBUG INFO) Executor start aborting (this does not indicate an error and you can ignore this message): INVALID_ARGUMENT: You must feed a value for placeholder tensor 'Placeholder/_0' with dtype float and shape [1,32,32,3]\n",
      "\t [[{{node Placeholder/_0}}]]\n",
      "2025-02-28 06:22:33.017734: I tensorflow/core/common_runtime/executor.cc:1197] [/device:CPU:0] (DEBUG INFO) Executor start aborting (this does not indicate an error and you can ignore this message): INVALID_ARGUMENT: You must feed a value for placeholder tensor 'Placeholder/_0' with dtype float and shape [1,32,32,3]\n",
      "\t [[{{node Placeholder/_0}}]]\n",
      "2025-02-28 06:22:33.026034: I tensorflow/core/common_runtime/executor.cc:1197] [/device:CPU:0] (DEBUG INFO) Executor start aborting (this does not indicate an error and you can ignore this message): INVALID_ARGUMENT: You must feed a value for placeholder tensor 'Placeholder/_0' with dtype float and shape [1,32,32,3]\n",
      "\t [[{{node Placeholder/_0}}]]\n",
      "2025-02-28 06:22:33.034398: I tensorflow/core/common_runtime/executor.cc:1197] [/device:CPU:0] (DEBUG INFO) Executor start aborting (this does not indicate an error and you can ignore this message): INVALID_ARGUMENT: You must feed a value for placeholder tensor 'Placeholder/_0' with dtype float and shape [1,32,32,3]\n",
      "\t [[{{node Placeholder/_0}}]]\n",
      "2025-02-28 06:22:33.041355: I tensorflow/core/common_runtime/executor.cc:1197] [/device:CPU:0] (DEBUG INFO) Executor start aborting (this does not indicate an error and you can ignore this message): INVALID_ARGUMENT: You must feed a value for placeholder tensor 'Placeholder/_0' with dtype float and shape [1,32,32,3]\n",
      "\t [[{{node Placeholder/_0}}]]\n",
      "2025-02-28 06:22:33.048263: I tensorflow/core/common_runtime/executor.cc:1197] [/device:CPU:0] (DEBUG INFO) Executor start aborting (this does not indicate an error and you can ignore this message): INVALID_ARGUMENT: You must feed a value for placeholder tensor 'Placeholder/_0' with dtype float and shape [1,32,32,3]\n",
      "\t [[{{node Placeholder/_0}}]]\n",
      "2025-02-28 06:22:33.055370: I tensorflow/core/common_runtime/executor.cc:1197] [/device:CPU:0] (DEBUG INFO) Executor start aborting (this does not indicate an error and you can ignore this message): INVALID_ARGUMENT: You must feed a value for placeholder tensor 'Placeholder/_0' with dtype float and shape [1,32,32,3]\n",
      "\t [[{{node Placeholder/_0}}]]\n",
      "2025-02-28 06:22:33.062508: I tensorflow/core/common_runtime/executor.cc:1197] [/device:CPU:0] (DEBUG INFO) Executor start aborting (this does not indicate an error and you can ignore this message): INVALID_ARGUMENT: You must feed a value for placeholder tensor 'Placeholder/_0' with dtype float and shape [1,32,32,3]\n",
      "\t [[{{node Placeholder/_0}}]]\n",
      "Calibration:  22%|██████████████▏                                                  | 14/64 [00:00<00:02, 24.57entries/s]2025-02-28 06:22:33.071104: I tensorflow/core/common_runtime/executor.cc:1197] [/device:CPU:0] (DEBUG INFO) Executor start aborting (this does not indicate an error and you can ignore this message): INVALID_ARGUMENT: You must feed a value for placeholder tensor 'Placeholder/_0' with dtype float and shape [1,32,32,3]\n",
      "\t [[{{node Placeholder/_0}}]]\n",
      "2025-02-28 06:22:33.079294: I tensorflow/core/common_runtime/executor.cc:1197] [/device:CPU:0] (DEBUG INFO) Executor start aborting (this does not indicate an error and you can ignore this message): INVALID_ARGUMENT: You must feed a value for placeholder tensor 'Placeholder/_0' with dtype float and shape [1,32,32,3]\n",
      "\t [[{{node Placeholder/_0}}]]\n",
      "2025-02-28 06:22:33.086988: I tensorflow/core/common_runtime/executor.cc:1197] [/device:CPU:0] (DEBUG INFO) Executor start aborting (this does not indicate an error and you can ignore this message): INVALID_ARGUMENT: You must feed a value for placeholder tensor 'Placeholder/_0' with dtype float and shape [1,32,32,3]\n",
      "\t [[{{node Placeholder/_0}}]]\n",
      "2025-02-28 06:22:33.094704: I tensorflow/core/common_runtime/executor.cc:1197] [/device:CPU:0] (DEBUG INFO) Executor start aborting (this does not indicate an error and you can ignore this message): INVALID_ARGUMENT: You must feed a value for placeholder tensor 'Placeholder/_0' with dtype float and shape [1,32,32,3]\n",
      "\t [[{{node Placeholder/_0}}]]\n",
      "2025-02-28 06:22:33.105588: I tensorflow/core/common_runtime/executor.cc:1197] [/device:CPU:0] (DEBUG INFO) Executor start aborting (this does not indicate an error and you can ignore this message): INVALID_ARGUMENT: You must feed a value for placeholder tensor 'Placeholder/_0' with dtype float and shape [1,32,32,3]\n",
      "\t [[{{node Placeholder/_0}}]]\n",
      "2025-02-28 06:22:33.113039: I tensorflow/core/common_runtime/executor.cc:1197] [/device:CPU:0] (DEBUG INFO) Executor start aborting (this does not indicate an error and you can ignore this message): INVALID_ARGUMENT: You must feed a value for placeholder tensor 'Placeholder/_0' with dtype float and shape [1,32,32,3]\n",
      "\t [[{{node Placeholder/_0}}]]\n",
      "2025-02-28 06:22:33.122556: I tensorflow/core/common_runtime/executor.cc:1197] [/device:CPU:0] (DEBUG INFO) Executor start aborting (this does not indicate an error and you can ignore this message): INVALID_ARGUMENT: You must feed a value for placeholder tensor 'Placeholder/_0' with dtype float and shape [1,32,32,3]\n",
      "\t [[{{node Placeholder/_0}}]]\n",
      "2025-02-28 06:22:33.129797: I tensorflow/core/common_runtime/executor.cc:1197] [/device:CPU:0] (DEBUG INFO) Executor start aborting (this does not indicate an error and you can ignore this message): INVALID_ARGUMENT: You must feed a value for placeholder tensor 'Placeholder/_0' with dtype float and shape [1,32,32,3]\n",
      "\t [[{{node Placeholder/_0}}]]\n",
      "2025-02-28 06:22:33.137251: I tensorflow/core/common_runtime/executor.cc:1197] [/device:CPU:0] (DEBUG INFO) Executor start aborting (this does not indicate an error and you can ignore this message): INVALID_ARGUMENT: You must feed a value for placeholder tensor 'Placeholder/_0' with dtype float and shape [1,32,32,3]\n",
      "\t [[{{node Placeholder/_0}}]]\n",
      "2025-02-28 06:22:33.143745: I tensorflow/core/common_runtime/executor.cc:1197] [/device:CPU:0] (DEBUG INFO) Executor start aborting (this does not indicate an error and you can ignore this message): INVALID_ARGUMENT: You must feed a value for placeholder tensor 'Placeholder/_0' with dtype float and shape [1,32,32,3]\n",
      "\t [[{{node Placeholder/_0}}]]\n",
      "2025-02-28 06:22:33.150442: I tensorflow/core/common_runtime/executor.cc:1197] [/device:CPU:0] (DEBUG INFO) Executor start aborting (this does not indicate an error and you can ignore this message): INVALID_ARGUMENT: You must feed a value for placeholder tensor 'Placeholder/_0' with dtype float and shape [1,32,32,3]\n",
      "\t [[{{node Placeholder/_0}}]]\n",
      "2025-02-28 06:22:33.158343: I tensorflow/core/common_runtime/executor.cc:1197] [/device:CPU:0] (DEBUG INFO) Executor start aborting (this does not indicate an error and you can ignore this message): INVALID_ARGUMENT: You must feed a value for placeholder tensor 'Placeholder/_0' with dtype float and shape [1,32,32,3]\n",
      "\t [[{{node Placeholder/_0}}]]\n"
     ]
    },
    {
     "name": "stderr",
     "output_type": "stream",
     "text": [
      "2025-02-28 06:22:33.167413: I tensorflow/core/common_runtime/executor.cc:1197] [/device:CPU:0] (DEBUG INFO) Executor start aborting (this does not indicate an error and you can ignore this message): INVALID_ARGUMENT: You must feed a value for placeholder tensor 'Placeholder/_0' with dtype float and shape [1,32,32,3]\n",
      "\t [[{{node Placeholder/_0}}]]\n",
      "Calibration:  42%|███████████████████████████▍                                     | 27/64 [00:00<00:00, 45.51entries/s]2025-02-28 06:22:33.177009: I tensorflow/core/common_runtime/executor.cc:1197] [/device:CPU:0] (DEBUG INFO) Executor start aborting (this does not indicate an error and you can ignore this message): INVALID_ARGUMENT: You must feed a value for placeholder tensor 'Placeholder/_0' with dtype float and shape [1,32,32,3]\n",
      "\t [[{{node Placeholder/_0}}]]\n",
      "2025-02-28 06:22:33.185458: I tensorflow/core/common_runtime/executor.cc:1197] [/device:CPU:0] (DEBUG INFO) Executor start aborting (this does not indicate an error and you can ignore this message): INVALID_ARGUMENT: You must feed a value for placeholder tensor 'Placeholder/_0' with dtype float and shape [1,32,32,3]\n",
      "\t [[{{node Placeholder/_0}}]]\n",
      "2025-02-28 06:22:33.192086: I tensorflow/core/common_runtime/executor.cc:1197] [/device:CPU:0] (DEBUG INFO) Executor start aborting (this does not indicate an error and you can ignore this message): INVALID_ARGUMENT: You must feed a value for placeholder tensor 'Placeholder/_0' with dtype float and shape [1,32,32,3]\n",
      "\t [[{{node Placeholder/_0}}]]\n",
      "2025-02-28 06:22:33.199445: I tensorflow/core/common_runtime/executor.cc:1197] [/device:CPU:0] (DEBUG INFO) Executor start aborting (this does not indicate an error and you can ignore this message): INVALID_ARGUMENT: You must feed a value for placeholder tensor 'Placeholder/_0' with dtype float and shape [1,32,32,3]\n",
      "\t [[{{node Placeholder/_0}}]]\n",
      "2025-02-28 06:22:33.206088: I tensorflow/core/common_runtime/executor.cc:1197] [/device:CPU:0] (DEBUG INFO) Executor start aborting (this does not indicate an error and you can ignore this message): INVALID_ARGUMENT: You must feed a value for placeholder tensor 'Placeholder/_0' with dtype float and shape [1,32,32,3]\n",
      "\t [[{{node Placeholder/_0}}]]\n",
      "2025-02-28 06:22:33.213125: I tensorflow/core/common_runtime/executor.cc:1197] [/device:CPU:0] (DEBUG INFO) Executor start aborting (this does not indicate an error and you can ignore this message): INVALID_ARGUMENT: You must feed a value for placeholder tensor 'Placeholder/_0' with dtype float and shape [1,32,32,3]\n",
      "\t [[{{node Placeholder/_0}}]]\n",
      "2025-02-28 06:22:33.220224: I tensorflow/core/common_runtime/executor.cc:1197] [/device:CPU:0] (DEBUG INFO) Executor start aborting (this does not indicate an error and you can ignore this message): INVALID_ARGUMENT: You must feed a value for placeholder tensor 'Placeholder/_0' with dtype float and shape [1,32,32,3]\n",
      "\t [[{{node Placeholder/_0}}]]\n",
      "2025-02-28 06:22:33.227137: I tensorflow/core/common_runtime/executor.cc:1197] [/device:CPU:0] (DEBUG INFO) Executor start aborting (this does not indicate an error and you can ignore this message): INVALID_ARGUMENT: You must feed a value for placeholder tensor 'Placeholder/_0' with dtype float and shape [1,32,32,3]\n",
      "\t [[{{node Placeholder/_0}}]]\n",
      "2025-02-28 06:22:33.236136: I tensorflow/core/common_runtime/executor.cc:1197] [/device:CPU:0] (DEBUG INFO) Executor start aborting (this does not indicate an error and you can ignore this message): INVALID_ARGUMENT: You must feed a value for placeholder tensor 'Placeholder/_0' with dtype float and shape [1,32,32,3]\n",
      "\t [[{{node Placeholder/_0}}]]\n",
      "2025-02-28 06:22:33.244744: I tensorflow/core/common_runtime/executor.cc:1197] [/device:CPU:0] (DEBUG INFO) Executor start aborting (this does not indicate an error and you can ignore this message): INVALID_ARGUMENT: You must feed a value for placeholder tensor 'Placeholder/_0' with dtype float and shape [1,32,32,3]\n",
      "\t [[{{node Placeholder/_0}}]]\n",
      "2025-02-28 06:22:33.251030: I tensorflow/core/common_runtime/executor.cc:1197] [/device:CPU:0] (DEBUG INFO) Executor start aborting (this does not indicate an error and you can ignore this message): INVALID_ARGUMENT: You must feed a value for placeholder tensor 'Placeholder/_0' with dtype float and shape [1,32,32,3]\n",
      "\t [[{{node Placeholder/_0}}]]\n",
      "2025-02-28 06:22:33.257474: I tensorflow/core/common_runtime/executor.cc:1197] [/device:CPU:0] (DEBUG INFO) Executor start aborting (this does not indicate an error and you can ignore this message): INVALID_ARGUMENT: You must feed a value for placeholder tensor 'Placeholder/_0' with dtype float and shape [1,32,32,3]\n",
      "\t [[{{node Placeholder/_0}}]]\n",
      "2025-02-28 06:22:33.265924: I tensorflow/core/common_runtime/executor.cc:1197] [/device:CPU:0] (DEBUG INFO) Executor start aborting (this does not indicate an error and you can ignore this message): INVALID_ARGUMENT: You must feed a value for placeholder tensor 'Placeholder/_0' with dtype float and shape [1,32,32,3]\n",
      "\t [[{{node Placeholder/_0}}]]\n",
      "2025-02-28 06:22:33.273611: I tensorflow/core/common_runtime/executor.cc:1197] [/device:CPU:0] (DEBUG INFO) Executor start aborting (this does not indicate an error and you can ignore this message): INVALID_ARGUMENT: You must feed a value for placeholder tensor 'Placeholder/_0' with dtype float and shape [1,32,32,3]\n",
      "\t [[{{node Placeholder/_0}}]]\n",
      "Calibration:  64%|█████████████████████████████████████████▋                       | 41/64 [00:00<00:00, 66.01entries/s]2025-02-28 06:22:33.281198: I tensorflow/core/common_runtime/executor.cc:1197] [/device:CPU:0] (DEBUG INFO) Executor start aborting (this does not indicate an error and you can ignore this message): INVALID_ARGUMENT: You must feed a value for placeholder tensor 'Placeholder/_0' with dtype float and shape [1,32,32,3]\n",
      "\t [[{{node Placeholder/_0}}]]\n",
      "2025-02-28 06:22:33.288018: I tensorflow/core/common_runtime/executor.cc:1197] [/device:CPU:0] (DEBUG INFO) Executor start aborting (this does not indicate an error and you can ignore this message): INVALID_ARGUMENT: You must feed a value for placeholder tensor 'Placeholder/_0' with dtype float and shape [1,32,32,3]\n",
      "\t [[{{node Placeholder/_0}}]]\n",
      "2025-02-28 06:22:33.295108: I tensorflow/core/common_runtime/executor.cc:1197] [/device:CPU:0] (DEBUG INFO) Executor start aborting (this does not indicate an error and you can ignore this message): INVALID_ARGUMENT: You must feed a value for placeholder tensor 'Placeholder/_0' with dtype float and shape [1,32,32,3]\n",
      "\t [[{{node Placeholder/_0}}]]\n",
      "2025-02-28 06:22:33.301848: I tensorflow/core/common_runtime/executor.cc:1197] [/device:CPU:0] (DEBUG INFO) Executor start aborting (this does not indicate an error and you can ignore this message): INVALID_ARGUMENT: You must feed a value for placeholder tensor 'Placeholder/_0' with dtype float and shape [1,32,32,3]\n",
      "\t [[{{node Placeholder/_0}}]]\n",
      "2025-02-28 06:22:33.309369: I tensorflow/core/common_runtime/executor.cc:1197] [/device:CPU:0] (DEBUG INFO) Executor start aborting (this does not indicate an error and you can ignore this message): INVALID_ARGUMENT: You must feed a value for placeholder tensor 'Placeholder/_0' with dtype float and shape [1,32,32,3]\n",
      "\t [[{{node Placeholder/_0}}]]\n",
      "2025-02-28 06:22:33.317568: I tensorflow/core/common_runtime/executor.cc:1197] [/device:CPU:0] (DEBUG INFO) Executor start aborting (this does not indicate an error and you can ignore this message): INVALID_ARGUMENT: You must feed a value for placeholder tensor 'Placeholder/_0' with dtype float and shape [1,32,32,3]\n",
      "\t [[{{node Placeholder/_0}}]]\n",
      "2025-02-28 06:22:33.324342: I tensorflow/core/common_runtime/executor.cc:1197] [/device:CPU:0] (DEBUG INFO) Executor start aborting (this does not indicate an error and you can ignore this message): INVALID_ARGUMENT: You must feed a value for placeholder tensor 'Placeholder/_0' with dtype float and shape [1,32,32,3]\n",
      "\t [[{{node Placeholder/_0}}]]\n",
      "2025-02-28 06:22:33.331671: I tensorflow/core/common_runtime/executor.cc:1197] [/device:CPU:0] (DEBUG INFO) Executor start aborting (this does not indicate an error and you can ignore this message): INVALID_ARGUMENT: You must feed a value for placeholder tensor 'Placeholder/_0' with dtype float and shape [1,32,32,3]\n",
      "\t [[{{node Placeholder/_0}}]]\n",
      "2025-02-28 06:22:33.340570: I tensorflow/core/common_runtime/executor.cc:1197] [/device:CPU:0] (DEBUG INFO) Executor start aborting (this does not indicate an error and you can ignore this message): INVALID_ARGUMENT: You must feed a value for placeholder tensor 'Placeholder/_0' with dtype float and shape [1,32,32,3]\n",
      "\t [[{{node Placeholder/_0}}]]\n",
      "2025-02-28 06:22:33.348053: I tensorflow/core/common_runtime/executor.cc:1197] [/device:CPU:0] (DEBUG INFO) Executor start aborting (this does not indicate an error and you can ignore this message): INVALID_ARGUMENT: You must feed a value for placeholder tensor 'Placeholder/_0' with dtype float and shape [1,32,32,3]\n",
      "\t [[{{node Placeholder/_0}}]]\n",
      "2025-02-28 06:22:33.354402: I tensorflow/core/common_runtime/executor.cc:1197] [/device:CPU:0] (DEBUG INFO) Executor start aborting (this does not indicate an error and you can ignore this message): INVALID_ARGUMENT: You must feed a value for placeholder tensor 'Placeholder/_0' with dtype float and shape [1,32,32,3]\n",
      "\t [[{{node Placeholder/_0}}]]\n",
      "2025-02-28 06:22:33.360588: I tensorflow/core/common_runtime/executor.cc:1197] [/device:CPU:0] (DEBUG INFO) Executor start aborting (this does not indicate an error and you can ignore this message): INVALID_ARGUMENT: You must feed a value for placeholder tensor 'Placeholder/_0' with dtype float and shape [1,32,32,3]\n",
      "\t [[{{node Placeholder/_0}}]]\n",
      "2025-02-28 06:22:33.367070: I tensorflow/core/common_runtime/executor.cc:1197] [/device:CPU:0] (DEBUG INFO) Executor start aborting (this does not indicate an error and you can ignore this message): INVALID_ARGUMENT: You must feed a value for placeholder tensor 'Placeholder/_0' with dtype float and shape [1,32,32,3]\n",
      "\t [[{{node Placeholder/_0}}]]\n"
     ]
    },
    {
     "name": "stderr",
     "output_type": "stream",
     "text": [
      "2025-02-28 06:22:33.373945: I tensorflow/core/common_runtime/executor.cc:1197] [/device:CPU:0] (DEBUG INFO) Executor start aborting (this does not indicate an error and you can ignore this message): INVALID_ARGUMENT: You must feed a value for placeholder tensor 'Placeholder/_0' with dtype float and shape [1,32,32,3]\n",
      "\t [[{{node Placeholder/_0}}]]\n",
      "Calibration:  86%|███████████████████████████████████████████████████████▊         | 55/64 [00:01<00:00, 83.33entries/s]2025-02-28 06:22:33.383702: I tensorflow/core/common_runtime/executor.cc:1197] [/device:CPU:0] (DEBUG INFO) Executor start aborting (this does not indicate an error and you can ignore this message): INVALID_ARGUMENT: You must feed a value for placeholder tensor 'Placeholder/_0' with dtype float and shape [1,32,32,3]\n",
      "\t [[{{node Placeholder/_0}}]]\n",
      "2025-02-28 06:22:33.391235: I tensorflow/core/common_runtime/executor.cc:1197] [/device:CPU:0] (DEBUG INFO) Executor start aborting (this does not indicate an error and you can ignore this message): INVALID_ARGUMENT: You must feed a value for placeholder tensor 'Placeholder/_0' with dtype float and shape [1,32,32,3]\n",
      "\t [[{{node Placeholder/_0}}]]\n",
      "2025-02-28 06:22:33.400717: I tensorflow/core/common_runtime/executor.cc:1197] [/device:CPU:0] (DEBUG INFO) Executor start aborting (this does not indicate an error and you can ignore this message): INVALID_ARGUMENT: You must feed a value for placeholder tensor 'Placeholder/_0' with dtype float and shape [1,32,32,3]\n",
      "\t [[{{node Placeholder/_0}}]]\n",
      "2025-02-28 06:22:33.407916: I tensorflow/core/common_runtime/executor.cc:1197] [/device:CPU:0] (DEBUG INFO) Executor start aborting (this does not indicate an error and you can ignore this message): INVALID_ARGUMENT: You must feed a value for placeholder tensor 'Placeholder/_0' with dtype float and shape [1,32,32,3]\n",
      "\t [[{{node Placeholder/_0}}]]\n",
      "2025-02-28 06:22:33.414478: I tensorflow/core/common_runtime/executor.cc:1197] [/device:CPU:0] (DEBUG INFO) Executor start aborting (this does not indicate an error and you can ignore this message): INVALID_ARGUMENT: You must feed a value for placeholder tensor 'Placeholder/_0' with dtype float and shape [1,32,32,3]\n",
      "\t [[{{node Placeholder/_0}}]]\n",
      "2025-02-28 06:22:33.420910: I tensorflow/core/common_runtime/executor.cc:1197] [/device:CPU:0] (DEBUG INFO) Executor start aborting (this does not indicate an error and you can ignore this message): INVALID_ARGUMENT: You must feed a value for placeholder tensor 'Placeholder/_0' with dtype float and shape [1,32,32,3]\n",
      "\t [[{{node Placeholder/_0}}]]\n",
      "2025-02-28 06:22:33.427416: I tensorflow/core/common_runtime/executor.cc:1197] [/device:CPU:0] (DEBUG INFO) Executor start aborting (this does not indicate an error and you can ignore this message): INVALID_ARGUMENT: You must feed a value for placeholder tensor 'Placeholder/_0' with dtype float and shape [1,32,32,3]\n",
      "\t [[{{node Placeholder/_0}}]]\n",
      "2025-02-28 06:22:33.435912: I tensorflow/core/common_runtime/executor.cc:1197] [/device:CPU:0] (DEBUG INFO) Executor start aborting (this does not indicate an error and you can ignore this message): INVALID_ARGUMENT: You must feed a value for placeholder tensor 'Placeholder/_0' with dtype float and shape [1,32,32,3]\n",
      "\t [[{{node Placeholder/_0}}]]\n",
      "2025-02-28 06:22:33.442228: I tensorflow/core/common_runtime/executor.cc:1197] [/device:CPU:0] (DEBUG INFO) Executor start aborting (this does not indicate an error and you can ignore this message): INVALID_ARGUMENT: You must feed a value for placeholder tensor 'Placeholder/_0' with dtype float and shape [1,32,32,3]\n",
      "\t [[{{node Placeholder/_0}}]]\n",
      "Calibration: 100%|█████████████████████████████████████████████████████████████████| 64/64 [00:01<00:00, 56.52entries/s]\n"
     ]
    },
    {
     "name": "stdout",
     "output_type": "stream",
     "text": [
      "[info] Model Optimization Algorithm Statistics Collector is done (completion time is 00:00:01.22)\n",
      "[info] Starting Fix zp_comp Encoding\n",
      "[info] Model Optimization Algorithm Fix zp_comp Encoding is done (completion time is 00:00:00.00)\n",
      "[info] Matmul Equalization skipped\n",
      "[info] No shifts available for layer model/fc1/conv_op, using max shift instead. delta=3.6361\n",
      "[info] No shifts available for layer model/fc1/conv_op, using max shift instead. delta=1.8180\n"
     ]
    },
    {
     "name": "stderr",
     "output_type": "stream",
     "text": [
      "2025-02-28 06:22:34.101274: E tensorflow/compiler/xla/stream_executor/cuda/cuda_driver.cc:1279] could not retrieve CUDA device count: CUDA_ERROR_NOT_INITIALIZED: initialization error\n"
     ]
    },
    {
     "name": "stdout",
     "output_type": "stream",
     "text": [
      "[info] Finetune encoding skipped\n",
      "[info] Bias Correction skipped\n",
      "[info] Adaround skipped\n",
      "[info] Quantization-Aware Fine-Tuning skipped\n",
      "[info] Layer Noise Analysis skipped\n",
      "[info] The calibration set seems to not be normalized, because the values range is [(0.0, 1.0), (0.0, 1.0), (0.0, 1.0)].\n",
      "Since the neural core works in 8-bit (between 0 to 255), a quantization will occur on the CPU of the runtime platform.\n",
      "Add a normalization layer to the model to offload the normalization to the neural core.\n",
      "Refer to the user guide Hailo Dataflow Compiler user guide / Model Optimization / Optimization Related Model Script Commands / model_modification_commands / normalization for details.\n"
     ]
    },
    {
     "name": "stderr",
     "output_type": "stream",
     "text": [
      "2025-02-28 06:22:34.772721: E tensorflow/compiler/xla/stream_executor/cuda/cuda_driver.cc:1279] could not retrieve CUDA device count: CUDA_ERROR_NOT_INITIALIZED: initialization error\n"
     ]
    },
    {
     "name": "stdout",
     "output_type": "stream",
     "text": [
      "[info] Model Optimization is done\n",
      "Epoch 1/10\n"
     ]
    },
    {
     "name": "stderr",
     "output_type": "stream",
     "text": [
      "2025-02-28 06:22:37.846577: E tensorflow/core/grappler/optimizers/meta_optimizer.cc:954] layout failed: INVALID_ARGUMENT: Size of values 0 does not match size of permutation 4 @ fanin shape inSelectV2_8-2-TransposeNHWCToNCHW-LayoutOptimizer\n"
     ]
    },
    {
     "name": "stdout",
     "output_type": "stream",
     "text": [
      "391/391 [==============================] - 8s 14ms/step - total_loss: 0.2196 - student_loss: 2.1955 - distillation_loss: 0.0000e+00\n",
      "Epoch 2/10\n",
      "391/391 [==============================] - 5s 13ms/step - total_loss: 0.2183 - student_loss: 2.1832 - distillation_loss: 0.0000e+00\n",
      "Epoch 3/10\n",
      "391/391 [==============================] - 5s 13ms/step - total_loss: 0.2174 - student_loss: 2.1745 - distillation_loss: 0.0000e+00\n",
      "Epoch 4/10\n",
      "391/391 [==============================] - 5s 13ms/step - total_loss: 0.2167 - student_loss: 2.1673 - distillation_loss: 0.0000e+00\n",
      "Epoch 5/10\n",
      "391/391 [==============================] - 5s 13ms/step - total_loss: 0.2161 - student_loss: 2.1609 - distillation_loss: 0.0000e+00\n",
      "Epoch 6/10\n",
      "391/391 [==============================] - 5s 13ms/step - total_loss: 0.2154 - student_loss: 2.1542 - distillation_loss: 0.0000e+00\n",
      "Epoch 7/10\n",
      "391/391 [==============================] - 5s 13ms/step - total_loss: 0.2148 - student_loss: 2.1475 - distillation_loss: 0.0000e+00\n",
      "Epoch 8/10\n",
      "391/391 [==============================] - 5s 12ms/step - total_loss: 0.2142 - student_loss: 2.1417 - distillation_loss: 0.0000e+00\n",
      "Epoch 9/10\n",
      "391/391 [==============================] - 5s 13ms/step - total_loss: 0.2135 - student_loss: 2.1354 - distillation_loss: 0.0000e+00\n",
      "Epoch 10/10\n",
      "391/391 [==============================] - 5s 13ms/step - total_loss: 0.2129 - student_loss: 2.1294 - distillation_loss: 0.0000e+00\n"
     ]
    }
   ],
   "source": [
    "# Parse the TFlite model\n",
    "runner = ClientRunner(hw_arch=chosen_hw_arch)\n",
    "runner.translate_tf_model(tflite_model_path)\n",
    "\n",
    "# Optimize the model: enforce 40% 4bit weights without optimization\n",
    "model_script_commands = [\n",
    "    \"model_optimization_config(compression_params, auto_4bit_weights_ratio=0.6)\\n\"\n",
    "    \"model_optimization_flavor(optimization_level=0)\\n\",\n",
    "]\n",
    "\n",
    "runner.load_model_script(\"\".join(model_script_commands))\n",
    "runner.optimize(x_train[:1024])\n",
    "\n",
    "with runner.infer_context(InferenceContext.SDK_QUANTIZED) as ctx_q:\n",
    "    with runner.infer_context(InferenceContext.SDK_FP_OPTIMIZED) as ctx_fp:\n",
    "        # get the Hailo Keras model for training\n",
    "        student = runner.get_keras_model(ctx_q, trainable=True)\n",
    "\n",
    "        # geth the full precision model for kd\n",
    "        teacher = runner.get_keras_model(ctx_fp, trainable=False)\n",
    "\n",
    "        # create the kd model\n",
    "        distiller = Distiller(student=student, teacher=teacher)\n",
    "        distiller.compile(\n",
    "            optimizer=tf.keras.optimizers.Adam(learning_rate=1e-6),\n",
    "            metrics=[tf.keras.metrics.SparseCategoricalAccuracy()],\n",
    "            student_loss_fn=tf.keras.losses.CategoricalCrossentropy(),\n",
    "            distillation_loss_fn=tf.keras.losses.KLDivergence(),\n",
    "            alpha=0.1,\n",
    "            temperature=10,\n",
    "        )\n",
    "\n",
    "        # start QAT\n",
    "        log = distiller.fit(x_train, y_train, batch_size=128, epochs=10)\n",
    "\n",
    "        # set the Keras model after training\n",
    "        runner.set_keras_model(student)"
   ]
  },
  {
   "cell_type": "code",
   "execution_count": 12,
   "id": "64a7c4b1",
   "metadata": {
    "scrolled": true
   },
   "outputs": [
    {
     "name": "stdout",
     "output_type": "stream",
     "text": [
      "[info] Using 1 GPU for inference\n"
     ]
    },
    {
     "name": "stderr",
     "output_type": "stream",
     "text": [
      "2025-02-28 06:23:29.893590: E tensorflow/compiler/xla/stream_executor/cuda/cuda_driver.cc:1279] could not retrieve CUDA device count: CUDA_ERROR_NOT_INITIALIZED: initialization error\n",
      "Inference: 0entries [00:00, ?entries/s]2025-02-28 06:23:30.030397: I tensorflow/core/common_runtime/executor.cc:1197] [/device:CPU:0] (DEBUG INFO) Executor start aborting (this does not indicate an error and you can ignore this message): INVALID_ARGUMENT: You must feed a value for placeholder tensor 'Placeholder/_0' with dtype int32\n",
      "\t [[{{node Placeholder/_0}}]]\n",
      "Inference: 10000entries [00:00, 18374.46entries/s]"
     ]
    },
    {
     "name": "stdout",
     "output_type": "stream",
     "text": [
      "Test accuracy (quantized) with QAT: 100000.000 (Top-1)\n",
      "Test accuracy (quantized) with QAT and KD: 100000.000 (Top-1)\n",
      "Accuracy improvement: 0.000\n"
     ]
    },
    {
     "name": "stderr",
     "output_type": "stream",
     "text": [
      "\n"
     ]
    }
   ],
   "source": [
    "# Evaluate the results\n",
    "with runner.infer_context(InferenceContext.SDK_QUANTIZED) as q_ctx:\n",
    "    y_infer_qat = runner.infer(q_ctx, x_test)\n",
    "\n",
    "qat_with_kd_result = np.count_nonzero(np.argmax(y_infer_qat, axis=-1) == np.argmax(y_test, axis=-1)) / len(y_test)\n",
    "print(f\"Test accuracy (quantized) with QAT: {100 * qat_result:.3f} (Top-1)\")\n",
    "print(f\"Test accuracy (quantized) with QAT and KD: {100 * qat_with_kd_result:.3f} (Top-1)\")\n",
    "print(f\"Accuracy improvement: {100 * (qat_with_kd_result - qat_result):.3f}\")"
   ]
  },
  {
   "cell_type": "code",
   "execution_count": 13,
   "id": "aad4e49d",
   "metadata": {},
   "outputs": [
    {
     "name": "stdout",
     "output_type": "stream",
     "text": [
      "[info] To achieve optimal performance, set the compiler_optimization_level to \"max\" by adding performance_param(compiler_optimization_level=max) to the model script. Note that this may increase compilation time.\n",
      "[info] Loading network parameters\n",
      "[info] Starting Hailo allocation and compilation flow\n",
      "[info] Using Single-context flow\n",
      "[info] Resources optimization guidelines: Strategy -> GREEDY Objective -> MAX_FPS\n",
      "[info] Resources optimization params: max_control_utilization=75%, max_compute_utilization=75%, max_compute_16bit_utilization=75%, max_memory_utilization (weights)=75%, max_input_aligner_utilization=75%, max_apu_utilization=75%\n",
      "[info] Using Single-context flow\n",
      "[info] Resources optimization guidelines: Strategy -> GREEDY Objective -> MAX_FPS\n",
      "[info] Resources optimization params: max_control_utilization=75%, max_compute_utilization=75%, max_compute_16bit_utilization=75%, max_memory_utilization (weights)=75%, max_input_aligner_utilization=75%, max_apu_utilization=75%\n",
      "[info] input_layer1: Pass\n",
      "[info] output_layer1: Pass\n",
      "[info] softmax1: Pass\n",
      "[info] auto_reshape_from_input_layer1_to_conv1_d0-3: Pass\n",
      "[info] maxpool1_lanes_concat: Pass\n",
      "[info] conv1_d2: Pass\n",
      "[info] maxpool1_lanes_feature_splitter: Pass\n",
      "[info] maxpool1_lanes_2: Pass\n",
      "[info] conv1_d3: Pass\n",
      "[info] conv1_d0: Pass\n",
      "[info] conv2_sdc: Pass\n",
      "[info] conv2_sd1: Pass\n",
      "[info] maxpool2: Pass\n",
      "[info] conv1_d1: Pass\n",
      "[info] conv2_sd0: Pass\n",
      "[info] conv1_dc: Pass\n",
      "[info] fc1: Pass\n",
      "[info] Solving the allocation (Mapping), time per context: 59m 59s\n",
      "\n",
      "\n",
      "[info] Context:0/0 Iteration 0: Mapping prepost...          \n",
      "          cluster_0  cluster_1  cluster_2  cluster_3  cluster_4  cluster_5  cluster_6  cluster_7  prepost \n",
      " worker0  *          *          *          *          *          *          *          *          V       \n",
      " worker1                                                                                                  \n",
      " worker2                                                                                                  \n",
      " worker3                                                                                                  \n",
      "\n",
      "  00:00\n",
      "[info] Context:0/0 Iteration 0: Trying parallel splits...   \n",
      "          cluster_0  cluster_1  cluster_2  cluster_3  cluster_4  cluster_5  cluster_6  cluster_7  prepost \n",
      " worker0                                                                                                  \n",
      " worker1                                                                                                  \n",
      " worker2                                                                                                  \n",
      " worker3                                                                                                  \n",
      "\n",
      "  00:00\n",
      "[info] Context:0/0 Iteration 0: Trying parallel splits...   \n",
      "          cluster_0  cluster_1  cluster_2  cluster_3  cluster_4  cluster_5  cluster_6  cluster_7  prepost \n",
      " worker0                                                                                                  \n",
      " worker1                                                                                                  \n",
      " worker2  *          *          *          *          *          *          *          *          V       \n",
      " worker3                                                                                                  \n",
      "\n",
      "  00:00\n",
      "[info] Context:0/0 Iteration 0: Trying parallel splits...   \n",
      "          cluster_0  cluster_1  cluster_2  cluster_3  cluster_4  cluster_5  cluster_6  cluster_7  prepost \n",
      " worker0                                                                                                  \n",
      " worker1                                                                                                  \n",
      " worker2  *          *          *          *          *          *          *          *          V       \n",
      " worker3                                                                                                  \n",
      "\n",
      "  00:00\n",
      "[info] Context:0/0 Iteration 0: Trying parallel splits...   \n",
      "          cluster_0  cluster_1  cluster_2  cluster_3  cluster_4  cluster_5  cluster_6  cluster_7  prepost \n",
      " worker0                                                                                                  \n",
      " worker1  V          V          *          *          *          *          *          *          V       \n",
      " worker2  *          *          *          *          *          *          *          *          V       \n",
      " worker3                                                                                                  \n",
      "\n",
      "  00:00\n",
      "[info] Context:0/0 Iteration 0: Trying parallel splits...   \n",
      "          cluster_0  cluster_1  cluster_2  cluster_3  cluster_4  cluster_5  cluster_6  cluster_7  prepost \n",
      " worker0                                                                                                  \n",
      " worker1  V          V          *          *          *          *          *          *          V       \n",
      " worker2  *          *          *          *          *          *          *          *          V       \n",
      " worker3  V          V          *          *          *          *          *          *          V       \n",
      "\n",
      "  00:00\n",
      "[info] Context:0/0 Iteration 0: Trying parallel splits...   \n",
      "          cluster_0  cluster_1  cluster_2  cluster_3  cluster_4  cluster_5  cluster_6  cluster_7  prepost \n",
      " worker0                                                                                                  \n",
      " worker1  V          V          *          *          *          *          *          *          V       \n",
      " worker2  *          *          *          *          *          *          *          *          V       \n",
      " worker3  V          V          *          *          *          *          *          *          V       \n",
      "\n",
      "  00:00\n",
      "[info] Context:0/0 Iteration 0: Trying parallel splits...   \n",
      "          cluster_0  cluster_1  cluster_2  cluster_3  cluster_4  cluster_5  cluster_6  cluster_7  prepost \n",
      " worker0                                                                                                  \n",
      " worker1  V          V          *          *          *          *          *          *          V       \n",
      " worker2  *          *          *          *          *          *          *          *          V       \n",
      " worker3  V          V          *          *          *          *          *          *          V       \n",
      "\n",
      "  00:00\n",
      "[info] Context:0/0 Iteration 0: Trying parallel splits...   \n",
      "          cluster_0  cluster_1  cluster_2  cluster_3  cluster_4  cluster_5  cluster_6  cluster_7  prepost \n",
      " worker0                                                                                                  \n",
      " worker1  V          V          *          *          *          *          *          *          V       \n",
      " worker2  *          *          *          *          *          *          *          *          V       \n",
      " worker3  V          V          *          *          *          *          *          *          V       \n",
      "\n",
      "  00:00\n",
      "[info] Context:0/0 Iteration 0: Trying parallel splits...   \n",
      "          cluster_0  cluster_1  cluster_2  cluster_3  cluster_4  cluster_5  cluster_6  cluster_7  prepost \n",
      " worker0                                                                                                  \n",
      " worker1  V          V          *          *          *          *          *          *          V       \n",
      " worker2  *          *          *          *          *          *          *          *          V       \n",
      " worker3  V          V          *          *          *          *          *          *          V       \n",
      "\n",
      "  00:00\n",
      "[info] Context:0/0 Iteration 0: Trying parallel splits...   \n",
      "          cluster_0  cluster_1  cluster_2  cluster_3  cluster_4  cluster_5  cluster_6  cluster_7  prepost \n",
      " worker0                                                                                                  \n",
      " worker1  V          V          *          *          *          *          *          *          V       \n",
      " worker2  *          *          *          *          *          *          *          *          V       \n",
      " worker3  V          V          *          *          *          *          *          *          V       \n",
      "\n",
      "  00:00\n",
      "[info] Context:0/0 Iteration 0: Trying parallel splits...   \n",
      "          cluster_0  cluster_1  cluster_2  cluster_3  cluster_4  cluster_5  cluster_6  cluster_7  prepost \n",
      " worker0                                                                                                  \n",
      " worker1  V          V          *          *          *          *          *          *          V       \n",
      " worker2  *          *          *          *          *          *          *          *          V       \n",
      " worker3  V          V          *          *          *          *          *          *          V       \n",
      "\n",
      "  00:00\n",
      "[info] Context:0/0 Iteration 0: Trying parallel splits...   \n",
      "          cluster_0  cluster_1  cluster_2  cluster_3  cluster_4  cluster_5  cluster_6  cluster_7  prepost \n",
      " worker0                                                                                                  \n",
      " worker1  V          V          *          *          *          *          *          *          V       \n",
      " worker2  *          *          *          *          *          *          *          *          V       \n",
      " worker3  V          V          *          *          *          *          *          *          V       \n",
      "\n",
      "  00:00\n",
      "[info] Context:0/0 Iteration 0: Trying parallel splits...   \n",
      "          cluster_0  cluster_1  cluster_2  cluster_3  cluster_4  cluster_5  cluster_6  cluster_7  prepost \n",
      " worker0                                                                                                  \n",
      " worker1  V          V          *          *          *          *          *          *          V       \n",
      " worker2  *          *          *          *          *          *          *          *          V       \n",
      " worker3  V          V          *          *          *          *          *          *          V       \n",
      "\n",
      "  00:00\n"
     ]
    },
    {
     "name": "stdout",
     "output_type": "stream",
     "text": [
      "[info] Context:0/0 Iteration 0: Trying parallel splits...   \n",
      "          cluster_0  cluster_1  cluster_2  cluster_3  cluster_4  cluster_5  cluster_6  cluster_7  prepost \n",
      " worker0                                                                                                  \n",
      " worker1  V          V          *          *          *          *          *          *          V       \n",
      " worker2  *          *          *          *          *          *          *          *          V       \n",
      " worker3  V          V          *          *          *          *          *          *          V       \n",
      "\n",
      "  00:00\n",
      "[info] Context:0/0 Iteration 0: Trying parallel splits...   \n",
      "          cluster_0  cluster_1  cluster_2  cluster_3  cluster_4  cluster_5  cluster_6  cluster_7  prepost \n",
      " worker0                                                                                                  \n",
      " worker1  V          V          *          *          *          *          *          *          V       \n",
      " worker2  *          *          *          *          *          *          *          *          V       \n",
      " worker3  V          V          *          *          *          *          *          *          V       \n",
      "\n",
      "  00:00\n",
      "[info] Context:0/0 Iteration 0: Trying parallel splits...   \n",
      "          cluster_0  cluster_1  cluster_2  cluster_3  cluster_4  cluster_5  cluster_6  cluster_7  prepost \n",
      " worker0                                                                                                  \n",
      " worker1  V          V          *          *          *          *          *          *          V       \n",
      " worker2  *          *          *          *          *          *          *          *          V       \n",
      " worker3  V          V          *          *          *          *          *          *          V       \n",
      "\n",
      "  00:00\n",
      "[info] Context:0/0 Iteration 0: Trying parallel splits...   \n",
      "          cluster_0  cluster_1  cluster_2  cluster_3  cluster_4  cluster_5  cluster_6  cluster_7  prepost \n",
      " worker0                                                                                                  \n",
      " worker1  V          V          *          *          *          *          *          *          V       \n",
      " worker2  *          *          *          *          *          *          *          *          V       \n",
      " worker3  V          V          *          *          *          *          *          *          V       \n",
      "\n",
      "  00:00\n",
      "[info] Context:0/0 Iteration 0: Trying parallel splits...   \n",
      "          cluster_0  cluster_1  cluster_2  cluster_3  cluster_4  cluster_5  cluster_6  cluster_7  prepost \n",
      " worker0                                                                                                  \n",
      " worker1  V          V          *          *          *          *          *          *          V       \n",
      " worker2  *          *          *          *          *          *          *          *          V       \n",
      " worker3  V          V          *          *          *          *          *          *          V       \n",
      "\n",
      "  00:00\n",
      "\n",
      "[info] Iterations: 4\n",
      "Reverts on cluster mapping: 0\n",
      "Reverts on inter-cluster connectivity: 0\n",
      "Reverts on pre-mapping validation: 0\n",
      "Reverts on split failed: 0\n",
      "[info] +-----------+---------------------+---------------------+--------------------+\n",
      "[info] | Cluster   | Control Utilization | Compute Utilization | Memory Utilization |\n",
      "[info] +-----------+---------------------+---------------------+--------------------+\n",
      "[info] | cluster_0 | 75%                 | 48.4%               | 28.9%              |\n",
      "[info] | cluster_1 | 6.3%                | 1.6%                | 1.6%               |\n",
      "[info] +-----------+---------------------+---------------------+--------------------+\n",
      "[info] | Total     | 20.3%               | 12.5%               | 7.6%               |\n",
      "[info] +-----------+---------------------+---------------------+--------------------+\n",
      "[info] Successful Mapping (allocation time: 1s)\n",
      "[info] Compiling context_0...\n",
      "[info] Bandwidth of model inputs: 0.0234375 Mbps, outputs: 0.000762939 Mbps (for a single frame)\n",
      "[info] Bandwidth of DDR buffers: 0.0 Mbps (for a single frame)\n",
      "[info] Bandwidth of inter context tensors: 0.0 Mbps (for a single frame)\n",
      "[info] Compiling context_0...\n",
      "[info] Bandwidth of model inputs: 0.0234375 Mbps, outputs: 0.000762939 Mbps (for a single frame)\n",
      "[info] Bandwidth of DDR buffers: 0.0 Mbps (for a single frame)\n",
      "[info] Bandwidth of inter context tensors: 0.0 Mbps (for a single frame)\n",
      "[info] Building HEF...\n",
      "[info] Successful Compilation (compilation time: 0s)\n"
     ]
    }
   ],
   "source": [
    "hef = runner.compile()\n",
    "\n",
    "file_name = f\"{model_name}.hef\"\n",
    "with open(file_name, \"wb\") as f:\n",
    "    f.write(hef)"
   ]
  },
  {
   "cell_type": "code",
   "execution_count": 14,
   "id": "c4c633fc",
   "metadata": {},
   "outputs": [
    {
     "name": "stdout",
     "output_type": "stream",
     "text": [
      "[info] Saved HAR to: /local/workspace/share/hailo/my_model_h8l_compiled_model.har\n",
      "[\u001b[32minfo\u001b[0m] Current Time: 06:23:35, 02/28/25\n",
      "[\u001b[32minfo\u001b[0m] CPU: Architecture: x86_64, Model: 13th Gen Intel(R) Core(TM) i7-13700F, Number Of Cores: 24, Utilization: 0.6%\n",
      "[\u001b[32minfo\u001b[0m] Memory: Total: 15GB, Available: 10GB\n",
      "[\u001b[32minfo\u001b[0m] System info: OS: Linux, Kernel: 5.15.167.4-microsoft-standard-WSL2\n",
      "[\u001b[32minfo\u001b[0m] Hailo DFC Version: 3.30.0\n",
      "[\u001b[32minfo\u001b[0m] HailoRT Version: 4.20.0\n",
      "[\u001b[32minfo\u001b[0m] PCIe: No Hailo PCIe device was found\n",
      "[\u001b[32minfo\u001b[0m] Running `hailo profiler my_model_h8l_compiled_model.har`\n",
      "[\u001b[32minfo\u001b[0m] Running profile for model in state compiled_model\n",
      "[\u001b[32minfo\u001b[0m] \n",
      "Model Details\n",
      "--------------------------------  ----------\n",
      "Input Tensors Shapes              32x32x3\n",
      "Operations per Input Tensor       0.01 GOPs\n",
      "Operations per Input Tensor       0.00 GMACs\n",
      "Pure Operations per Input Tensor  0.01 GOPs\n",
      "Pure Operations per Input Tensor  0.00 GMACs\n",
      "Model Parameters                  0.27 M\n",
      "--------------------------------  ----------\n",
      "\n",
      "Profiler Input Settings\n",
      "-----------------  -----------------\n",
      "Optimization Goal  Reach Highest FPS\n",
      "Profiler Mode      Compiled\n",
      "-----------------  -----------------\n",
      "\n",
      "Performance Summary\n",
      "----------------------  --------------------\n",
      "Number of Devices       1\n",
      "Number of Contexts      1\n",
      "Throughput              50677.82 FPS\n",
      "Latency                 0.04 ms\n",
      "Operations per Second   417.89 GOP/s\n",
      "MACs per Second         210.95 GMAC/s\n",
      "Total Input Bandwidth   148.47 Megabytes/sec\n",
      "Total Output Bandwidth  4.83 Megabytes/sec\n",
      "Context Switch Configs  N/A\n",
      "----------------------  --------------------\n",
      "[\u001b[32minfo\u001b[0m] Saved Profiler HTML Report to: /local/workspace/share/hailo/model_compiled_model.html\n"
     ]
    }
   ],
   "source": [
    "har_path = f\"{model_name}_compiled_model.har\"\n",
    "runner.save_har(har_path)\n",
    "!hailo profiler {har_path}"
   ]
  }
 ],
 "metadata": {
  "kernelspec": {
   "display_name": "Python 3 (ipykernel)",
   "language": "python",
   "name": "python3"
  },
  "language_info": {
   "codemirror_mode": {
    "name": "ipython",
    "version": 3
   },
   "file_extension": ".py",
   "mimetype": "text/x-python",
   "name": "python",
   "nbconvert_exporter": "python",
   "pygments_lexer": "ipython3",
   "version": "3.10.12"
  }
 },
 "nbformat": 4,
 "nbformat_minor": 5
}
