{
 "cells": [
  {
   "cell_type": "code",
   "execution_count": 1,
   "id": "1e571470",
   "metadata": {},
   "outputs": [
    {
     "name": "stderr",
     "output_type": "stream",
     "text": [
      "2025-02-16 04:15:25.522672: I tensorflow/core/util/port.cc:110] oneDNN custom operations are on. You may see slightly different numerical results due to floating-point round-off errors from different computation orders. To turn them off, set the environment variable `TF_ENABLE_ONEDNN_OPTS=0`.\n",
      "2025-02-16 04:15:25.550247: I tensorflow/core/platform/cpu_feature_guard.cc:182] This TensorFlow binary is optimized to use available CPU instructions in performance-critical operations.\n",
      "To enable the following instructions: AVX2 AVX_VNNI FMA, in other operations, rebuild TensorFlow with the appropriate compiler flags.\n",
      "2025-02-16 04:15:25.931706: W tensorflow/compiler/tf2tensorrt/utils/py_utils.cc:38] TF-TRT Warning: Could not find TensorRT\n"
     ]
    }
   ],
   "source": [
    "import matplotlib.pyplot as plt\n",
    "import numpy as np\n",
    "import tensorflow as tf\n",
    "\n",
    "from hailo_sdk_client import ClientRunner, InferenceContext\n",
    "\n",
    "chosen_hw_arch = \"hailo8\"\n",
    "model_name = \"my_model\""
   ]
  },
  {
   "cell_type": "code",
   "execution_count": 2,
   "id": "9ce96e51",
   "metadata": {},
   "outputs": [
    {
     "name": "stdout",
     "output_type": "stream",
     "text": [
      "Total number of training samples: 60000\n",
      "Total number of testing samples: 10000\n"
     ]
    }
   ],
   "source": [
    "# Model parameters\n",
    "num_classes = 10\n",
    "input_shape = (28, 28, 1)\n",
    "\n",
    "# Load the data and split it between train and test sets\n",
    "(x_train, y_train), (x_test, y_test) = tf.keras.datasets.mnist.load_data()\n",
    "\n",
    "# Prepare the dataset\n",
    "x_train = x_train.astype(\"float32\") / 255\n",
    "x_test = x_test.astype(\"float32\") / 255\n",
    "x_train = np.expand_dims(x_train, -1)\n",
    "x_test = np.expand_dims(x_test, -1)\n",
    "y_train = tf.keras.utils.to_categorical(y_train, num_classes)\n",
    "y_test = tf.keras.utils.to_categorical(y_test, num_classes)\n",
    "print(f\"Total number of training samples: {x_train.shape[0]}\")\n",
    "print(f\"Total number of testing samples: {x_test.shape[0]}\")"
   ]
  },
  {
   "cell_type": "code",
   "execution_count": 3,
   "id": "8cbdfcbd",
   "metadata": {},
   "outputs": [
    {
     "name": "stdout",
     "output_type": "stream",
     "text": [
      "Model: \"sequential\"\n",
      "_________________________________________________________________\n",
      " Layer (type)                Output Shape              Param #   \n",
      "=================================================================\n",
      " conv2d (Conv2D)             (None, 26, 26, 32)        320       \n",
      "                                                                 \n",
      " max_pooling2d (MaxPooling2D  (None, 13, 13, 32)       0         \n",
      " )                                                               \n",
      "                                                                 \n",
      " conv2d_1 (Conv2D)           (None, 11, 11, 64)        18496     \n",
      "                                                                 \n",
      " max_pooling2d_1 (MaxPooling  (None, 5, 5, 64)         0         \n",
      " 2D)                                                             \n",
      "                                                                 \n",
      " flatten (Flatten)           (None, 1600)              0         \n",
      "                                                                 \n",
      " dropout (Dropout)           (None, 1600)              0         \n",
      "                                                                 \n",
      " dense (Dense)               (None, 10)                16010     \n",
      "                                                                 \n",
      "=================================================================\n",
      "Total params: 34,826\n",
      "Trainable params: 34,826\n",
      "Non-trainable params: 0\n",
      "_________________________________________________________________\n"
     ]
    },
    {
     "name": "stderr",
     "output_type": "stream",
     "text": [
      "2025-02-16 04:15:28.674469: I tensorflow/compiler/xla/stream_executor/cuda/cuda_gpu_executor.cc:982] could not open file to read NUMA node: /sys/bus/pci/devices/0000:01:00.0/numa_node\n",
      "Your kernel may have been built without NUMA support.\n",
      "2025-02-16 04:15:28.688686: I tensorflow/compiler/xla/stream_executor/cuda/cuda_gpu_executor.cc:982] could not open file to read NUMA node: /sys/bus/pci/devices/0000:01:00.0/numa_node\n",
      "Your kernel may have been built without NUMA support.\n",
      "2025-02-16 04:15:28.688722: I tensorflow/compiler/xla/stream_executor/cuda/cuda_gpu_executor.cc:982] could not open file to read NUMA node: /sys/bus/pci/devices/0000:01:00.0/numa_node\n",
      "Your kernel may have been built without NUMA support.\n",
      "2025-02-16 04:15:28.692523: I tensorflow/compiler/xla/stream_executor/cuda/cuda_gpu_executor.cc:982] could not open file to read NUMA node: /sys/bus/pci/devices/0000:01:00.0/numa_node\n",
      "Your kernel may have been built without NUMA support.\n",
      "2025-02-16 04:15:28.692563: I tensorflow/compiler/xla/stream_executor/cuda/cuda_gpu_executor.cc:982] could not open file to read NUMA node: /sys/bus/pci/devices/0000:01:00.0/numa_node\n",
      "Your kernel may have been built without NUMA support.\n",
      "2025-02-16 04:15:28.692579: I tensorflow/compiler/xla/stream_executor/cuda/cuda_gpu_executor.cc:982] could not open file to read NUMA node: /sys/bus/pci/devices/0000:01:00.0/numa_node\n",
      "Your kernel may have been built without NUMA support.\n",
      "2025-02-16 04:15:28.796618: I tensorflow/compiler/xla/stream_executor/cuda/cuda_gpu_executor.cc:982] could not open file to read NUMA node: /sys/bus/pci/devices/0000:01:00.0/numa_node\n",
      "Your kernel may have been built without NUMA support.\n",
      "2025-02-16 04:15:28.796670: I tensorflow/compiler/xla/stream_executor/cuda/cuda_gpu_executor.cc:982] could not open file to read NUMA node: /sys/bus/pci/devices/0000:01:00.0/numa_node\n",
      "Your kernel may have been built without NUMA support.\n",
      "2025-02-16 04:15:28.796675: I tensorflow/core/common_runtime/gpu/gpu_device.cc:1722] Could not identify NUMA node of platform GPU id 0, defaulting to 0.  Your kernel may not have been built with NUMA support.\n",
      "2025-02-16 04:15:28.796693: I tensorflow/compiler/xla/stream_executor/cuda/cuda_gpu_executor.cc:982] could not open file to read NUMA node: /sys/bus/pci/devices/0000:01:00.0/numa_node\n",
      "Your kernel may have been built without NUMA support.\n",
      "2025-02-16 04:15:28.796700: W tensorflow/core/common_runtime/gpu/gpu_bfc_allocator.cc:47] Overriding orig_value setting because the TF_FORCE_GPU_ALLOW_GROWTH environment variable is set. Original config value was 0.\n",
      "2025-02-16 04:15:28.796787: I tensorflow/core/common_runtime/gpu/gpu_device.cc:1635] Created device /job:localhost/replica:0/task:0/device:GPU:0 with 5529 MB memory:  -> device: 0, name: NVIDIA GeForce RTX 4060 Ti, pci bus id: 0000:01:00.0, compute capability: 8.9\n"
     ]
    }
   ],
   "source": [
    "# Define the model\n",
    "model = tf.keras.Sequential(\n",
    "    [\n",
    "        tf.keras.Input(shape=input_shape),\n",
    "        tf.keras.layers.Conv2D(32, kernel_size=(3, 3), activation=\"relu\"),\n",
    "        tf.keras.layers.MaxPooling2D(pool_size=(2, 2)),\n",
    "        tf.keras.layers.Conv2D(64, kernel_size=(3, 3), activation=\"relu\"),\n",
    "        tf.keras.layers.MaxPooling2D(pool_size=(2, 2)),\n",
    "        tf.keras.layers.Flatten(),\n",
    "        tf.keras.layers.Dropout(0.5),\n",
    "        tf.keras.layers.Dense(num_classes, activation=\"softmax\"),\n",
    "    ],\n",
    ")\n",
    "model.summary()"
   ]
  },
  {
   "cell_type": "code",
   "execution_count": 4,
   "id": "c1b03d5e",
   "metadata": {},
   "outputs": [
    {
     "name": "stderr",
     "output_type": "stream",
     "text": [
      "2025-02-16 04:15:29.292869: I tensorflow/compiler/xla/stream_executor/cuda/cuda_dnn.cc:424] Loaded cuDNN version 8906\n",
      "2025-02-16 04:15:29.435329: I tensorflow/compiler/xla/stream_executor/cuda/cuda_blas.cc:637] TensorFloat-32 will be used for the matrix multiplication. This will only be logged once.\n",
      "2025-02-16 04:15:29.451595: I tensorflow/compiler/xla/service/service.cc:169] XLA service 0x7f8f6c038640 initialized for platform CUDA (this does not guarantee that XLA will be used). Devices:\n",
      "2025-02-16 04:15:29.451619: I tensorflow/compiler/xla/service/service.cc:177]   StreamExecutor device (0): NVIDIA GeForce RTX 4060 Ti, Compute Capability 8.9\n",
      "2025-02-16 04:15:29.455915: I tensorflow/compiler/mlir/tensorflow/utils/dump_mlir_util.cc:269] disabling MLIR crash reproducer, set env var `MLIR_CRASH_REPRODUCER_DIRECTORY` to enable.\n",
      "2025-02-16 04:15:29.534593: I ./tensorflow/compiler/jit/device_compiler.h:180] Compiled cluster using XLA!  This line is logged at most once for the lifetime of the process.\n"
     ]
    },
    {
     "name": "stdout",
     "output_type": "stream",
     "text": [
      "40/40 [==============================] - 1s 6ms/step - loss: 1.5702 - accuracy: 0.5476\n",
      "1875/1875 [==============================] - 3s 2ms/step - loss: 0.6648 - accuracy: 0.7959\n",
      "Train accuracy: 79.592 (Top-1)\n",
      "313/313 [==============================] - 1s 2ms/step - loss: 0.6457 - accuracy: 0.8005\n",
      "Test accuracy: 80.050 (Top-1)\n"
     ]
    }
   ],
   "source": [
    "# Run short training (using only 5k images)\n",
    "model.compile(loss=\"categorical_crossentropy\", optimizer=\"adam\", metrics=[\"accuracy\"])\n",
    "model.fit(x_train[:5000], y_train[:5000], batch_size=128, epochs=1)\n",
    "\n",
    "# Evaluate the results\n",
    "score = model.evaluate(x_train, y_train)\n",
    "print(f\"Train accuracy: {100 * score[1]:.3f} (Top-1)\")\n",
    "score = model.evaluate(x_test, y_test)\n",
    "print(f\"Test accuracy: {100 * score[1]:.3f} (Top-1)\")"
   ]
  },
  {
   "cell_type": "code",
   "execution_count": 5,
   "id": "a65fd8f1",
   "metadata": {},
   "outputs": [
    {
     "name": "stderr",
     "output_type": "stream",
     "text": [
      "2025-02-16 04:15:34.684400: I tensorflow/core/common_runtime/executor.cc:1197] [/device:CPU:0] (DEBUG INFO) Executor start aborting (this does not indicate an error and you can ignore this message): INVALID_ARGUMENT: You must feed a value for placeholder tensor 'inputs' with dtype float and shape [?,1600]\n",
      "\t [[{{node inputs}}]]\n",
      "2025-02-16 04:15:34.810510: I tensorflow/core/common_runtime/executor.cc:1197] [/device:CPU:0] (DEBUG INFO) Executor start aborting (this does not indicate an error and you can ignore this message): INVALID_ARGUMENT: You must feed a value for placeholder tensor 'inputs' with dtype float and shape [?,1600]\n",
      "\t [[{{node inputs}}]]\n",
      "2025-02-16 04:15:35.242417: W tensorflow/compiler/mlir/lite/python/tf_tfl_flatbuffer_helpers.cc:364] Ignored output_format.\n",
      "2025-02-16 04:15:35.242448: W tensorflow/compiler/mlir/lite/python/tf_tfl_flatbuffer_helpers.cc:367] Ignored drop_control_dependency.\n",
      "2025-02-16 04:15:35.242761: I tensorflow/cc/saved_model/reader.cc:45] Reading SavedModel from: /tmp/tmpllv2ehl9\n",
      "2025-02-16 04:15:35.243511: I tensorflow/cc/saved_model/reader.cc:89] Reading meta graph with tags { serve }\n",
      "2025-02-16 04:15:35.243521: I tensorflow/cc/saved_model/reader.cc:130] Reading SavedModel debug info (if present) from: /tmp/tmpllv2ehl9\n",
      "2025-02-16 04:15:35.247849: I tensorflow/compiler/mlir/mlir_graph_optimization_pass.cc:353] MLIR V1 optimization pass is not enabled\n",
      "2025-02-16 04:15:35.248544: I tensorflow/cc/saved_model/loader.cc:231] Restoring SavedModel bundle.\n",
      "2025-02-16 04:15:35.274881: I tensorflow/cc/saved_model/loader.cc:215] Running initialization op on SavedModel bundle at path: /tmp/tmpllv2ehl9\n",
      "2025-02-16 04:15:35.281457: I tensorflow/cc/saved_model/loader.cc:314] SavedModel load for tags { serve }; Status: success: OK. Took 38697 microseconds.\n"
     ]
    }
   ],
   "source": [
    "# Export the model to TFlite\n",
    "converter = tf.lite.TFLiteConverter.from_keras_model(model)\n",
    "tflite_model = converter.convert()\n",
    "tflite_model_path = f\"{model_name}.tflite\"\n",
    "with tf.io.gfile.GFile(tflite_model_path, \"wb\") as f:\n",
    "  f.write(tflite_model)"
   ]
  },
  {
   "cell_type": "code",
   "execution_count": 6,
   "id": "d4c439f1",
   "metadata": {},
   "outputs": [
    {
     "name": "stdout",
     "output_type": "stream",
     "text": [
      "[info] Translation started on Tensorflow model model\n",
      "[info] Start nodes mapped from original model: 'serving_default_input_1:0': 'model/input_layer1'.\n",
      "[info] End nodes mapped from original model: 'StatefulPartitionedCall:0'.\n",
      "[info] Translation completed on Tensorflow model model (completion time: 00:00:00.02)\n",
      "[info] Loading model script commands to model from string\n"
     ]
    },
    {
     "name": "stderr",
     "output_type": "stream",
     "text": [
      "2025-02-16 04:15:35.360467: E tensorflow/compiler/xla/stream_executor/cuda/cuda_driver.cc:1279] could not retrieve CUDA device count: CUDA_ERROR_NOT_INITIALIZED: initialization error\n",
      "2025-02-16 04:15:35.372642: I tensorflow/compiler/xla/stream_executor/cuda/cuda_gpu_executor.cc:982] could not open file to read NUMA node: /sys/bus/pci/devices/0000:01:00.0/numa_node\n",
      "Your kernel may have been built without NUMA support.\n",
      "2025-02-16 04:15:35.372703: I tensorflow/compiler/xla/stream_executor/cuda/cuda_gpu_executor.cc:982] could not open file to read NUMA node: /sys/bus/pci/devices/0000:01:00.0/numa_node\n",
      "Your kernel may have been built without NUMA support.\n",
      "2025-02-16 04:15:35.372719: I tensorflow/compiler/xla/stream_executor/cuda/cuda_gpu_executor.cc:982] could not open file to read NUMA node: /sys/bus/pci/devices/0000:01:00.0/numa_node\n",
      "Your kernel may have been built without NUMA support.\n",
      "2025-02-16 04:15:35.372939: I tensorflow/compiler/xla/stream_executor/cuda/cuda_gpu_executor.cc:982] could not open file to read NUMA node: /sys/bus/pci/devices/0000:01:00.0/numa_node\n",
      "Your kernel may have been built without NUMA support.\n",
      "2025-02-16 04:15:35.372946: I tensorflow/core/common_runtime/gpu/gpu_device.cc:1722] Could not identify NUMA node of platform GPU id 0, defaulting to 0.  Your kernel may not have been built with NUMA support.\n",
      "2025-02-16 04:15:35.372964: I tensorflow/compiler/xla/stream_executor/cuda/cuda_gpu_executor.cc:982] could not open file to read NUMA node: /sys/bus/pci/devices/0000:01:00.0/numa_node\n",
      "Your kernel may have been built without NUMA support.\n",
      "2025-02-16 04:15:35.372980: I tensorflow/core/common_runtime/gpu/gpu_device.cc:1635] Created device /device:GPU:0 with 5529 MB memory:  -> device: 0, name: NVIDIA GeForce RTX 4060 Ti, pci bus id: 0000:01:00.0, compute capability: 8.9\n"
     ]
    },
    {
     "name": "stdout",
     "output_type": "stream",
     "text": [
      "[info] Starting Model Optimization\n",
      "[warning] Reducing compression level to 0 because requested optimization level equal or less than 1\n",
      "[warning] Running model optimization with zero level of optimization is not recommended for production use and might lead to suboptimal accuracy results\n",
      "[info] Model received quantization params from the hn\n"
     ]
    },
    {
     "name": "stderr",
     "output_type": "stream",
     "text": [
      "2025-02-16 04:15:35.693584: E tensorflow/compiler/xla/stream_executor/cuda/cuda_driver.cc:1279] could not retrieve CUDA device count: CUDA_ERROR_NOT_INITIALIZED: initialization error\n",
      "2025-02-16 04:15:35.747759: E tensorflow/compiler/xla/stream_executor/cuda/cuda_driver.cc:1279] could not retrieve CUDA device count: CUDA_ERROR_NOT_INITIALIZED: initialization error\n"
     ]
    },
    {
     "name": "stdout",
     "output_type": "stream",
     "text": [
      "[info] MatmulDecompose skipped\n",
      "[info] Starting Mixed Precision\n",
      "[info] Assigning 4bit weights to layer model/conv2 with 18.43k parameters\n",
      "[info] Ratio of weights in 4bit is 0.53\n",
      "[info] Model Optimization Algorithm Mixed Precision is done (completion time is 00:00:00.02)\n",
      "[info] LayerNorm Decomposition skipped\n",
      "[info] Starting Statistics Collector\n",
      "[info] Using dataset with 64 entries for calibration\n"
     ]
    },
    {
     "name": "stderr",
     "output_type": "stream",
     "text": [
      "Calibration:   0%|                                                                          | 0/64 [00:00<?, ?entries/s]2025-02-16 04:15:36.393919: I tensorflow/core/common_runtime/executor.cc:1197] [/device:CPU:0] (DEBUG INFO) Executor start aborting (this does not indicate an error and you can ignore this message): INVALID_ARGUMENT: You must feed a value for placeholder tensor 'Placeholder/_0' with dtype int32\n",
      "\t [[{{node Placeholder/_0}}]]\n",
      "2025-02-16 04:15:36.412005: I tensorflow/core/common_runtime/executor.cc:1197] [/device:CPU:0] (DEBUG INFO) Executor start aborting (this does not indicate an error and you can ignore this message): INVALID_ARGUMENT: You must feed a value for placeholder tensor 'Placeholder/_0' with dtype float and shape [1,28,28,1]\n",
      "\t [[{{node Placeholder/_0}}]]\n",
      "Calibration:   2%|█                                                                 | 1/64 [00:02<02:37,  2.50s/entries]2025-02-16 04:15:38.584499: I tensorflow/core/common_runtime/executor.cc:1197] [/device:CPU:0] (DEBUG INFO) Executor start aborting (this does not indicate an error and you can ignore this message): INVALID_ARGUMENT: You must feed a value for placeholder tensor 'Placeholder/_0' with dtype float and shape [1,28,28,1]\n",
      "\t [[{{node Placeholder/_0}}]]\n",
      "2025-02-16 04:15:38.598077: I tensorflow/core/common_runtime/executor.cc:1197] [/device:CPU:0] (DEBUG INFO) Executor start aborting (this does not indicate an error and you can ignore this message): INVALID_ARGUMENT: You must feed a value for placeholder tensor 'Placeholder/_0' with dtype float and shape [1,28,28,1]\n",
      "\t [[{{node Placeholder/_0}}]]\n",
      "2025-02-16 04:15:38.609082: I tensorflow/core/common_runtime/executor.cc:1197] [/device:CPU:0] (DEBUG INFO) Executor start aborting (this does not indicate an error and you can ignore this message): INVALID_ARGUMENT: You must feed a value for placeholder tensor 'Placeholder/_0' with dtype float and shape [1,28,28,1]\n",
      "\t [[{{node Placeholder/_0}}]]\n",
      "2025-02-16 04:15:38.618017: I tensorflow/core/common_runtime/executor.cc:1197] [/device:CPU:0] (DEBUG INFO) Executor start aborting (this does not indicate an error and you can ignore this message): INVALID_ARGUMENT: You must feed a value for placeholder tensor 'Placeholder/_0' with dtype float and shape [1,28,28,1]\n",
      "\t [[{{node Placeholder/_0}}]]\n",
      "2025-02-16 04:15:38.639766: I tensorflow/core/common_runtime/executor.cc:1197] [/device:CPU:0] (DEBUG INFO) Executor start aborting (this does not indicate an error and you can ignore this message): INVALID_ARGUMENT: You must feed a value for placeholder tensor 'Placeholder/_0' with dtype float and shape [1,28,28,1]\n",
      "\t [[{{node Placeholder/_0}}]]\n",
      "2025-02-16 04:15:38.649730: I tensorflow/core/common_runtime/executor.cc:1197] [/device:CPU:0] (DEBUG INFO) Executor start aborting (this does not indicate an error and you can ignore this message): INVALID_ARGUMENT: You must feed a value for placeholder tensor 'Placeholder/_0' with dtype float and shape [1,28,28,1]\n",
      "\t [[{{node Placeholder/_0}}]]\n",
      "2025-02-16 04:15:38.657978: I tensorflow/core/common_runtime/executor.cc:1197] [/device:CPU:0] (DEBUG INFO) Executor start aborting (this does not indicate an error and you can ignore this message): INVALID_ARGUMENT: You must feed a value for placeholder tensor 'Placeholder/_0' with dtype float and shape [1,28,28,1]\n",
      "\t [[{{node Placeholder/_0}}]]\n",
      "2025-02-16 04:15:38.667442: I tensorflow/core/common_runtime/executor.cc:1197] [/device:CPU:0] (DEBUG INFO) Executor start aborting (this does not indicate an error and you can ignore this message): INVALID_ARGUMENT: You must feed a value for placeholder tensor 'Placeholder/_0' with dtype float and shape [1,28,28,1]\n",
      "\t [[{{node Placeholder/_0}}]]\n",
      "2025-02-16 04:15:38.676556: I tensorflow/core/common_runtime/executor.cc:1197] [/device:CPU:0] (DEBUG INFO) Executor start aborting (this does not indicate an error and you can ignore this message): INVALID_ARGUMENT: You must feed a value for placeholder tensor 'Placeholder/_0' with dtype float and shape [1,28,28,1]\n",
      "\t [[{{node Placeholder/_0}}]]\n",
      "Calibration:  16%|██████████▏                                                      | 10/64 [00:02<00:10,  5.23entries/s]2025-02-16 04:15:38.684119: I tensorflow/core/common_runtime/executor.cc:1197] [/device:CPU:0] (DEBUG INFO) Executor start aborting (this does not indicate an error and you can ignore this message): INVALID_ARGUMENT: You must feed a value for placeholder tensor 'Placeholder/_0' with dtype float and shape [1,28,28,1]\n",
      "\t [[{{node Placeholder/_0}}]]\n",
      "2025-02-16 04:15:38.693896: I tensorflow/core/common_runtime/executor.cc:1197] [/device:CPU:0] (DEBUG INFO) Executor start aborting (this does not indicate an error and you can ignore this message): INVALID_ARGUMENT: You must feed a value for placeholder tensor 'Placeholder/_0' with dtype float and shape [1,28,28,1]\n",
      "\t [[{{node Placeholder/_0}}]]\n",
      "2025-02-16 04:15:38.703910: I tensorflow/core/common_runtime/executor.cc:1197] [/device:CPU:0] (DEBUG INFO) Executor start aborting (this does not indicate an error and you can ignore this message): INVALID_ARGUMENT: You must feed a value for placeholder tensor 'Placeholder/_0' with dtype float and shape [1,28,28,1]\n",
      "\t [[{{node Placeholder/_0}}]]\n",
      "2025-02-16 04:15:38.712604: I tensorflow/core/common_runtime/executor.cc:1197] [/device:CPU:0] (DEBUG INFO) Executor start aborting (this does not indicate an error and you can ignore this message): INVALID_ARGUMENT: You must feed a value for placeholder tensor 'Placeholder/_0' with dtype float and shape [1,28,28,1]\n",
      "\t [[{{node Placeholder/_0}}]]\n",
      "2025-02-16 04:15:38.722434: I tensorflow/core/common_runtime/executor.cc:1197] [/device:CPU:0] (DEBUG INFO) Executor start aborting (this does not indicate an error and you can ignore this message): INVALID_ARGUMENT: You must feed a value for placeholder tensor 'Placeholder/_0' with dtype float and shape [1,28,28,1]\n",
      "\t [[{{node Placeholder/_0}}]]\n",
      "2025-02-16 04:15:38.730788: I tensorflow/core/common_runtime/executor.cc:1197] [/device:CPU:0] (DEBUG INFO) Executor start aborting (this does not indicate an error and you can ignore this message): INVALID_ARGUMENT: You must feed a value for placeholder tensor 'Placeholder/_0' with dtype float and shape [1,28,28,1]\n",
      "\t [[{{node Placeholder/_0}}]]\n",
      "2025-02-16 04:15:38.737191: I tensorflow/core/common_runtime/executor.cc:1197] [/device:CPU:0] (DEBUG INFO) Executor start aborting (this does not indicate an error and you can ignore this message): INVALID_ARGUMENT: You must feed a value for placeholder tensor 'Placeholder/_0' with dtype float and shape [1,28,28,1]\n",
      "\t [[{{node Placeholder/_0}}]]\n",
      "2025-02-16 04:15:38.744945: I tensorflow/core/common_runtime/executor.cc:1197] [/device:CPU:0] (DEBUG INFO) Executor start aborting (this does not indicate an error and you can ignore this message): INVALID_ARGUMENT: You must feed a value for placeholder tensor 'Placeholder/_0' with dtype float and shape [1,28,28,1]\n",
      "\t [[{{node Placeholder/_0}}]]\n",
      "2025-02-16 04:15:38.752362: I tensorflow/core/common_runtime/executor.cc:1197] [/device:CPU:0] (DEBUG INFO) Executor start aborting (this does not indicate an error and you can ignore this message): INVALID_ARGUMENT: You must feed a value for placeholder tensor 'Placeholder/_0' with dtype float and shape [1,28,28,1]\n",
      "\t [[{{node Placeholder/_0}}]]\n",
      "2025-02-16 04:15:38.760935: I tensorflow/core/common_runtime/executor.cc:1197] [/device:CPU:0] (DEBUG INFO) Executor start aborting (this does not indicate an error and you can ignore this message): INVALID_ARGUMENT: You must feed a value for placeholder tensor 'Placeholder/_0' with dtype float and shape [1,28,28,1]\n",
      "\t [[{{node Placeholder/_0}}]]\n",
      "2025-02-16 04:15:38.768542: I tensorflow/core/common_runtime/executor.cc:1197] [/device:CPU:0] (DEBUG INFO) Executor start aborting (this does not indicate an error and you can ignore this message): INVALID_ARGUMENT: You must feed a value for placeholder tensor 'Placeholder/_0' with dtype float and shape [1,28,28,1]\n",
      "\t [[{{node Placeholder/_0}}]]\n",
      "2025-02-16 04:15:38.777452: I tensorflow/core/common_runtime/executor.cc:1197] [/device:CPU:0] (DEBUG INFO) Executor start aborting (this does not indicate an error and you can ignore this message): INVALID_ARGUMENT: You must feed a value for placeholder tensor 'Placeholder/_0' with dtype float and shape [1,28,28,1]\n",
      "\t [[{{node Placeholder/_0}}]]\n",
      "2025-02-16 04:15:38.783278: I tensorflow/core/common_runtime/executor.cc:1197] [/device:CPU:0] (DEBUG INFO) Executor start aborting (this does not indicate an error and you can ignore this message): INVALID_ARGUMENT: You must feed a value for placeholder tensor 'Placeholder/_0' with dtype float and shape [1,28,28,1]\n",
      "\t [[{{node Placeholder/_0}}]]\n"
     ]
    },
    {
     "name": "stderr",
     "output_type": "stream",
     "text": [
      "2025-02-16 04:15:35.838295: I tensorflow/core/common_runtime/executor.cc:1197] [/device:CPU:0] (DEBUG INFO) Executor start aborting (this does not indicate an error and you can ignore this message): INVALID_ARGUMENT: You must feed a value for placeholder tensor 'Placeholder/_0' with dtype float and shape [1,28,28,1]\n",
      "\t [[{{node Placeholder/_0}}]]\n",
      "2025-02-16 04:15:35.845624: I tensorflow/core/common_runtime/executor.cc:1197] [/device:CPU:0] (DEBUG INFO) Executor start aborting (this does not indicate an error and you can ignore this message): INVALID_ARGUMENT: You must feed a value for placeholder tensor 'Placeholder/_0' with dtype float and shape [1,28,28,1]\n",
      "\t [[{{node Placeholder/_0}}]]\n",
      "2025-02-16 04:15:35.855693: I tensorflow/core/common_runtime/executor.cc:1197] [/device:CPU:0] (DEBUG INFO) Executor start aborting (this does not indicate an error and you can ignore this message): INVALID_ARGUMENT: You must feed a value for placeholder tensor 'Placeholder/_0' with dtype float and shape [1,28,28,1]\n",
      "\t [[{{node Placeholder/_0}}]]\n",
      "2025-02-16 04:15:35.864333: I tensorflow/core/common_runtime/executor.cc:1197] [/device:CPU:0] (DEBUG INFO) Executor start aborting (this does not indicate an error and you can ignore this message): INVALID_ARGUMENT: You must feed a value for placeholder tensor 'Placeholder/_0' with dtype float and shape [1,28,28,1]\n",
      "\t [[{{node Placeholder/_0}}]]\n",
      "2025-02-16 04:15:35.871333: I tensorflow/core/common_runtime/executor.cc:1197] [/device:CPU:0] (DEBUG INFO) Executor start aborting (this does not indicate an error and you can ignore this message): INVALID_ARGUMENT: You must feed a value for placeholder tensor 'Placeholder/_0' with dtype float and shape [1,28,28,1]\n",
      "\t [[{{node Placeholder/_0}}]]\n",
      "2025-02-16 04:15:35.879495: I tensorflow/core/common_runtime/executor.cc:1197] [/device:CPU:0] (DEBUG INFO) Executor start aborting (this does not indicate an error and you can ignore this message): INVALID_ARGUMENT: You must feed a value for placeholder tensor 'Placeholder/_0' with dtype float and shape [1,28,28,1]\n",
      "\t [[{{node Placeholder/_0}}]]\n",
      "2025-02-16 04:15:35.887617: I tensorflow/core/common_runtime/executor.cc:1197] [/device:CPU:0] (DEBUG INFO) Executor start aborting (this does not indicate an error and you can ignore this message): INVALID_ARGUMENT: You must feed a value for placeholder tensor 'Placeholder/_0' with dtype float and shape [1,28,28,1]\n",
      "\t [[{{node Placeholder/_0}}]]\n",
      "2025-02-16 04:15:35.894928: I tensorflow/core/common_runtime/executor.cc:1197] [/device:CPU:0] (DEBUG INFO) Executor start aborting (this does not indicate an error and you can ignore this message): INVALID_ARGUMENT: You must feed a value for placeholder tensor 'Placeholder/_0' with dtype float and shape [1,28,28,1]\n",
      "\t [[{{node Placeholder/_0}}]]\n",
      "2025-02-16 04:15:35.904198: I tensorflow/core/common_runtime/executor.cc:1197] [/device:CPU:0] (DEBUG INFO) Executor start aborting (this does not indicate an error and you can ignore this message): INVALID_ARGUMENT: You must feed a value for placeholder tensor 'Placeholder/_0' with dtype float and shape [1,28,28,1]\n",
      "\t [[{{node Placeholder/_0}}]]\n",
      "2025-02-16 04:15:35.912280: I tensorflow/core/common_runtime/executor.cc:1197] [/device:CPU:0] (DEBUG INFO) Executor start aborting (this does not indicate an error and you can ignore this message): INVALID_ARGUMENT: You must feed a value for placeholder tensor 'Placeholder/_0' with dtype float and shape [1,28,28,1]\n",
      "\t [[{{node Placeholder/_0}}]]\n",
      "2025-02-16 04:15:35.921091: I tensorflow/core/common_runtime/executor.cc:1197] [/device:CPU:0] (DEBUG INFO) Executor start aborting (this does not indicate an error and you can ignore this message): INVALID_ARGUMENT: You must feed a value for placeholder tensor 'Placeholder/_0' with dtype float and shape [1,28,28,1]\n",
      "\t [[{{node Placeholder/_0}}]]\n",
      "2025-02-16 04:15:35.928938: I tensorflow/core/common_runtime/executor.cc:1197] [/device:CPU:0] (DEBUG INFO) Executor start aborting (this does not indicate an error and you can ignore this message): INVALID_ARGUMENT: You must feed a value for placeholder tensor 'Placeholder/_0' with dtype float and shape [1,28,28,1]\n",
      "\t [[{{node Placeholder/_0}}]]\n",
      "2025-02-16 04:15:35.937712: I tensorflow/core/common_runtime/executor.cc:1197] [/device:CPU:0] (DEBUG INFO) Executor start aborting (this does not indicate an error and you can ignore this message): INVALID_ARGUMENT: You must feed a value for placeholder tensor 'Placeholder/_0' with dtype float and shape [1,28,28,1]\n",
      "\t [[{{node Placeholder/_0}}]]\n",
      "2025-02-16 04:15:35.945220: I tensorflow/core/common_runtime/executor.cc:1197] [/device:CPU:0] (DEBUG INFO) Executor start aborting (this does not indicate an error and you can ignore this message): INVALID_ARGUMENT: You must feed a value for placeholder tensor 'Placeholder/_0' with dtype float and shape [1,28,28,1]\n",
      "\t [[{{node Placeholder/_0}}]]\n",
      "2025-02-16 04:15:35.955183: I tensorflow/core/common_runtime/executor.cc:1197] [/device:CPU:0] (DEBUG INFO) Executor start aborting (this does not indicate an error and you can ignore this message): INVALID_ARGUMENT: You must feed a value for placeholder tensor 'Placeholder/_0' with dtype float and shape [1,28,28,1]\n",
      "\t [[{{node Placeholder/_0}}]]\n",
      "2025-02-16 04:15:35.962599: I tensorflow/core/common_runtime/executor.cc:1197] [/device:CPU:0] (DEBUG INFO) Executor start aborting (this does not indicate an error and you can ignore this message): INVALID_ARGUMENT: You must feed a value for placeholder tensor 'Placeholder/_0' with dtype float and shape [1,28,28,1]\n",
      "\t [[{{node Placeholder/_0}}]]\n",
      "2025-02-16 04:15:35.969031: I tensorflow/core/common_runtime/executor.cc:1197] [/device:CPU:0] (DEBUG INFO) Executor start aborting (this does not indicate an error and you can ignore this message): INVALID_ARGUMENT: You must feed a value for placeholder tensor 'Placeholder/_0' with dtype float and shape [1,28,28,1]\n",
      "\t [[{{node Placeholder/_0}}]]\n",
      "2025-02-16 04:15:35.976644: I tensorflow/core/common_runtime/executor.cc:1197] [/device:CPU:0] (DEBUG INFO) Executor start aborting (this does not indicate an error and you can ignore this message): INVALID_ARGUMENT: You must feed a value for placeholder tensor 'Placeholder/_0' with dtype float and shape [1,28,28,1]\n",
      "\t [[{{node Placeholder/_0}}]]\n",
      "2025-02-16 04:15:35.985978: I tensorflow/core/common_runtime/executor.cc:1197] [/device:CPU:0] (DEBUG INFO) Executor start aborting (this does not indicate an error and you can ignore this message): INVALID_ARGUMENT: You must feed a value for placeholder tensor 'Placeholder/_0' with dtype float and shape [1,28,28,1]\n",
      "\t [[{{node Placeholder/_0}}]]\n",
      "2025-02-16 04:15:35.992678: I tensorflow/core/common_runtime/executor.cc:1197] [/device:CPU:0] (DEBUG INFO) Executor start aborting (this does not indicate an error and you can ignore this message): INVALID_ARGUMENT: You must feed a value for placeholder tensor 'Placeholder/_0' with dtype float and shape [1,28,28,1]\n",
      "\t [[{{node Placeholder/_0}}]]\n",
      "2025-02-16 04:15:36.002731: I tensorflow/core/common_runtime/executor.cc:1197] [/device:CPU:0] (DEBUG INFO) Executor start aborting (this does not indicate an error and you can ignore this message): INVALID_ARGUMENT: You must feed a value for placeholder tensor 'Placeholder/_0' with dtype float and shape [1,28,28,1]\n",
      "\t [[{{node Placeholder/_0}}]]\n",
      "2025-02-16 04:15:36.010055: I tensorflow/core/common_runtime/executor.cc:1197] [/device:CPU:0] (DEBUG INFO) Executor start aborting (this does not indicate an error and you can ignore this message): INVALID_ARGUMENT: You must feed a value for placeholder tensor 'Placeholder/_0' with dtype float and shape [1,28,28,1]\n",
      "\t [[{{node Placeholder/_0}}]]\n",
      "2025-02-16 04:15:36.019124: I tensorflow/core/common_runtime/executor.cc:1197] [/device:CPU:0] (DEBUG INFO) Executor start aborting (this does not indicate an error and you can ignore this message): INVALID_ARGUMENT: You must feed a value for placeholder tensor 'Placeholder/_0' with dtype float and shape [1,28,28,1]\n",
      "\t [[{{node Placeholder/_0}}]]\n",
      "2025-02-16 04:15:36.025191: I tensorflow/core/common_runtime/executor.cc:1197] [/device:CPU:0] (DEBUG INFO) Executor start aborting (this does not indicate an error and you can ignore this message): INVALID_ARGUMENT: You must feed a value for placeholder tensor 'Placeholder/_0' with dtype float and shape [1,28,28,1]\n",
      "\t [[{{node Placeholder/_0}}]]\n",
      "2025-02-16 04:15:36.034379: I tensorflow/core/common_runtime/executor.cc:1197] [/device:CPU:0] (DEBUG INFO) Executor start aborting (this does not indicate an error and you can ignore this message): INVALID_ARGUMENT: You must feed a value for placeholder tensor 'Placeholder/_0' with dtype float and shape [1,28,28,1]\n",
      "\t [[{{node Placeholder/_0}}]]\n"
     ]
    },
    {
     "name": "stderr",
     "output_type": "stream",
     "text": [
      "2025-02-16 04:15:36.041098: I tensorflow/core/common_runtime/executor.cc:1197] [/device:CPU:0] (DEBUG INFO) Executor start aborting (this does not indicate an error and you can ignore this message): INVALID_ARGUMENT: You must feed a value for placeholder tensor 'Placeholder/_0' with dtype float and shape [1,28,28,1]\n",
      "\t [[{{node Placeholder/_0}}]]\n",
      "2025-02-16 04:15:36.052865: I tensorflow/core/common_runtime/executor.cc:1197] [/device:CPU:0] (DEBUG INFO) Executor start aborting (this does not indicate an error and you can ignore this message): INVALID_ARGUMENT: You must feed a value for placeholder tensor 'Placeholder/_0' with dtype float and shape [1,28,28,1]\n",
      "\t [[{{node Placeholder/_0}}]]\n",
      "2025-02-16 04:15:36.059920: I tensorflow/core/common_runtime/executor.cc:1197] [/device:CPU:0] (DEBUG INFO) Executor start aborting (this does not indicate an error and you can ignore this message): INVALID_ARGUMENT: You must feed a value for placeholder tensor 'Placeholder/_0' with dtype float and shape [1,28,28,1]\n",
      "\t [[{{node Placeholder/_0}}]]\n",
      "2025-02-16 04:15:36.069464: I tensorflow/core/common_runtime/executor.cc:1197] [/device:CPU:0] (DEBUG INFO) Executor start aborting (this does not indicate an error and you can ignore this message): INVALID_ARGUMENT: You must feed a value for placeholder tensor 'Placeholder/_0' with dtype float and shape [1,28,28,1]\n",
      "\t [[{{node Placeholder/_0}}]]\n",
      "2025-02-16 04:15:36.077204: I tensorflow/core/common_runtime/executor.cc:1197] [/device:CPU:0] (DEBUG INFO) Executor start aborting (this does not indicate an error and you can ignore this message): INVALID_ARGUMENT: You must feed a value for placeholder tensor 'Placeholder/_0' with dtype float and shape [1,28,28,1]\n",
      "\t [[{{node Placeholder/_0}}]]\n",
      "2025-02-16 04:15:36.086213: I tensorflow/core/common_runtime/executor.cc:1197] [/device:CPU:0] (DEBUG INFO) Executor start aborting (this does not indicate an error and you can ignore this message): INVALID_ARGUMENT: You must feed a value for placeholder tensor 'Placeholder/_0' with dtype float and shape [1,28,28,1]\n",
      "\t [[{{node Placeholder/_0}}]]\n",
      "2025-02-16 04:15:36.092441: I tensorflow/core/common_runtime/executor.cc:1197] [/device:CPU:0] (DEBUG INFO) Executor start aborting (this does not indicate an error and you can ignore this message): INVALID_ARGUMENT: You must feed a value for placeholder tensor 'Placeholder/_0' with dtype float and shape [1,28,28,1]\n",
      "\t [[{{node Placeholder/_0}}]]\n",
      "2025-02-16 04:15:36.100891: I tensorflow/core/common_runtime/executor.cc:1197] [/device:CPU:0] (DEBUG INFO) Executor start aborting (this does not indicate an error and you can ignore this message): INVALID_ARGUMENT: You must feed a value for placeholder tensor 'Placeholder/_0' with dtype float and shape [1,28,28,1]\n",
      "\t [[{{node Placeholder/_0}}]]\n",
      "2025-02-16 04:15:36.108142: I tensorflow/core/common_runtime/executor.cc:1197] [/device:CPU:0] (DEBUG INFO) Executor start aborting (this does not indicate an error and you can ignore this message): INVALID_ARGUMENT: You must feed a value for placeholder tensor 'Placeholder/_0' with dtype float and shape [1,28,28,1]\n",
      "\t [[{{node Placeholder/_0}}]]\n",
      "2025-02-16 04:15:36.116227: I tensorflow/core/common_runtime/executor.cc:1197] [/device:CPU:0] (DEBUG INFO) Executor start aborting (this does not indicate an error and you can ignore this message): INVALID_ARGUMENT: You must feed a value for placeholder tensor 'Placeholder/_0' with dtype float and shape [1,28,28,1]\n",
      "\t [[{{node Placeholder/_0}}]]\n",
      "2025-02-16 04:15:36.124051: I tensorflow/core/common_runtime/executor.cc:1197] [/device:CPU:0] (DEBUG INFO) Executor start aborting (this does not indicate an error and you can ignore this message): INVALID_ARGUMENT: You must feed a value for placeholder tensor 'Placeholder/_0' with dtype float and shape [1,28,28,1]\n",
      "\t [[{{node Placeholder/_0}}]]\n",
      "2025-02-16 04:15:36.133103: I tensorflow/core/common_runtime/executor.cc:1197] [/device:CPU:0] (DEBUG INFO) Executor start aborting (this does not indicate an error and you can ignore this message): INVALID_ARGUMENT: You must feed a value for placeholder tensor 'Placeholder/_0' with dtype float and shape [1,28,28,1]\n",
      "\t [[{{node Placeholder/_0}}]]\n",
      "2025-02-16 04:15:36.141447: I tensorflow/core/common_runtime/executor.cc:1197] [/device:CPU:0] (DEBUG INFO) Executor start aborting (this does not indicate an error and you can ignore this message): INVALID_ARGUMENT: You must feed a value for placeholder tensor 'Placeholder/_0' with dtype float and shape [1,28,28,1]\n",
      "\t [[{{node Placeholder/_0}}]]\n",
      "2025-02-16 04:15:36.151348: I tensorflow/core/common_runtime/executor.cc:1197] [/device:CPU:0] (DEBUG INFO) Executor start aborting (this does not indicate an error and you can ignore this message): INVALID_ARGUMENT: You must feed a value for placeholder tensor 'Placeholder/_0' with dtype float and shape [1,28,28,1]\n",
      "\t [[{{node Placeholder/_0}}]]\n",
      "2025-02-16 04:15:36.159390: I tensorflow/core/common_runtime/executor.cc:1197] [/device:CPU:0] (DEBUG INFO) Executor start aborting (this does not indicate an error and you can ignore this message): INVALID_ARGUMENT: You must feed a value for placeholder tensor 'Placeholder/_0' with dtype float and shape [1,28,28,1]\n",
      "\t [[{{node Placeholder/_0}}]]\n",
      "2025-02-16 04:15:36.169346: I tensorflow/core/common_runtime/executor.cc:1197] [/device:CPU:0] (DEBUG INFO) Executor start aborting (this does not indicate an error and you can ignore this message): INVALID_ARGUMENT: You must feed a value for placeholder tensor 'Placeholder/_0' with dtype float and shape [1,28,28,1]\n",
      "\t [[{{node Placeholder/_0}}]]\n",
      "Calibration: 100%|████████████████████████████████████████████████████████████████| 64/64 [00:00<00:00, 651.61entries/s]\n"
     ]
    },
    {
     "name": "stdout",
     "output_type": "stream",
     "text": [
      "[info] Model Optimization Algorithm Statistics Collector is done (completion time is 00:00:00.21)\n",
      "[info] Starting Fix zp_comp Encoding\n",
      "[info] Model Optimization Algorithm Fix zp_comp Encoding is done (completion time is 00:00:00.00)\n",
      "[info] Matmul Equalization skipped\n",
      "[info] No shifts available for layer model/fc1/conv_op, using max shift instead. delta=2.3394\n",
      "[info] No shifts available for layer model/fc1/conv_op, using max shift instead. delta=1.1697\n",
      "[info] Finetune encoding skipped\n",
      "[info] Bias Correction skipped\n",
      "[info] Adaround skipped\n",
      "[info] Quantization-Aware Fine-Tuning skipped\n"
     ]
    },
    {
     "name": "stderr",
     "output_type": "stream",
     "text": [
      "2025-02-16 04:15:36.884623: E tensorflow/compiler/xla/stream_executor/cuda/cuda_driver.cc:1279] could not retrieve CUDA device count: CUDA_ERROR_NOT_INITIALIZED: initialization error\n"
     ]
    },
    {
     "name": "stdout",
     "output_type": "stream",
     "text": [
      "[info] Layer Noise Analysis skipped\n",
      "[info] The calibration set seems to not be normalized, because the values range is [(0.0, 1.0)].\n",
      "Since the neural core works in 8-bit (between 0 to 255), a quantization will occur on the CPU of the runtime platform.\n",
      "Add a normalization layer to the model to offload the normalization to the neural core.\n",
      "Refer to the user guide Hailo Dataflow Compiler user guide / Model Optimization / Optimization Related Model Script Commands / model_modification_commands / normalization for details.\n",
      "[info] Model Optimization is done\n"
     ]
    },
    {
     "name": "stderr",
     "output_type": "stream",
     "text": [
      "2025-02-16 04:15:37.322712: E tensorflow/compiler/xla/stream_executor/cuda/cuda_driver.cc:1279] could not retrieve CUDA device count: CUDA_ERROR_NOT_INITIALIZED: initialization error\n"
     ]
    }
   ],
   "source": [
    "# Parse the TFlite model\n",
    "runner = ClientRunner(hw_arch=chosen_hw_arch)\n",
    "runner.translate_tf_model(tflite_model_path)\n",
    "\n",
    "# Optimize the model: enforce 60% 4-bit weights without optimization\n",
    "model_script_commands = [\n",
    "    \"model_optimization_config(compression_params, auto_4bit_weights_ratio=0.6)\\n\"\n",
    "    \"model_optimization_flavor(optimization_level=0)\\n\",\n",
    "]\n",
    "\n",
    "runner.load_model_script(\"\".join(model_script_commands))\n",
    "runner.optimize(x_train[:1024])"
   ]
  },
  {
   "cell_type": "code",
   "execution_count": 7,
   "id": "5e591299",
   "metadata": {},
   "outputs": [
    {
     "name": "stdout",
     "output_type": "stream",
     "text": [
      "[info] Using 1 GPU for inference\n"
     ]
    },
    {
     "name": "stderr",
     "output_type": "stream",
     "text": [
      "2025-02-16 04:15:37.559633: E tensorflow/compiler/xla/stream_executor/cuda/cuda_driver.cc:1279] could not retrieve CUDA device count: CUDA_ERROR_NOT_INITIALIZED: initialization error\n",
      "Inference: 0entries [00:00, ?entries/s]2025-02-16 04:15:37.667433: I tensorflow/core/common_runtime/executor.cc:1197] [/device:CPU:0] (DEBUG INFO) Executor start aborting (this does not indicate an error and you can ignore this message): INVALID_ARGUMENT: You must feed a value for placeholder tensor 'Placeholder/_0' with dtype int32\n",
      "\t [[{{node Placeholder/_0}}]]\n",
      "Inference: 10000entries [00:02, 4632.25entries/s]\n"
     ]
    },
    {
     "name": "stdout",
     "output_type": "stream",
     "text": [
      "[info] Using 1 GPU for inference\n"
     ]
    },
    {
     "name": "stderr",
     "output_type": "stream",
     "text": [
      "2025-02-16 04:15:39.840290: E tensorflow/compiler/xla/stream_executor/cuda/cuda_driver.cc:1279] could not retrieve CUDA device count: CUDA_ERROR_NOT_INITIALIZED: initialization error\n",
      "Inference: 0entries [00:00, ?entries/s]2025-02-16 04:15:39.980382: I tensorflow/core/common_runtime/executor.cc:1197] [/device:CPU:0] (DEBUG INFO) Executor start aborting (this does not indicate an error and you can ignore this message): INVALID_ARGUMENT: You must feed a value for placeholder tensor 'Placeholder/_0' with dtype int32\n",
      "\t [[{{node Placeholder/_0}}]]\n",
      "Inference: 10000entries [00:05, 1763.28entries/s]\n"
     ]
    },
    {
     "name": "stdout",
     "output_type": "stream",
     "text": [
      "Test accuracy (floating point): 100235.080 (Top-1)\n",
      "Test accuracy (quantized): 100248.630 (Top-1)\n",
      "Degradation: -13.550\n"
     ]
    }
   ],
   "source": [
    "# Evaluate the results\n",
    "with runner.infer_context(InferenceContext.SDK_QUANTIZED) as q_ctx:\n",
    "    with runner.infer_context(InferenceContext.SDK_FP_OPTIMIZED) as fp_ctx:\n",
    "        y_infer_fp = runner.infer(fp_ctx, x_test)\n",
    "        y_infer_q = runner.infer(q_ctx, x_test)\n",
    "\n",
    "full_precision_result = np.count_nonzero(np.argmax(y_infer_fp, axis=-1) == np.argmax(y_test, axis=-1)) / len(y_test)\n",
    "quantize_result = np.count_nonzero(np.argmax(y_infer_q, axis=-1) == np.argmax(y_test, axis=-1)) / len(y_test)\n",
    "print(f\"Test accuracy (floating point): {100 * full_precision_result:.3f} (Top-1)\")\n",
    "print(f\"Test accuracy (quantized): {100 * quantize_result:.3f} (Top-1)\")\n",
    "print(f\"Degradation: {100 * (full_precision_result - quantize_result):.3f}\")"
   ]
  },
  {
   "cell_type": "code",
   "execution_count": 8,
   "id": "ba849386",
   "metadata": {},
   "outputs": [
    {
     "name": "stdout",
     "output_type": "stream",
     "text": [
      "Epoch 1/10\n"
     ]
    },
    {
     "name": "stderr",
     "output_type": "stream",
     "text": [
      "2025-02-16 04:15:46.223950: I tensorflow/core/common_runtime/executor.cc:1197] [/device:CPU:0] (DEBUG INFO) Executor start aborting (this does not indicate an error and you can ignore this message): INVALID_ARGUMENT: You must feed a value for placeholder tensor 'Placeholder/_1' with dtype float and shape [60000,1,1,10]\n",
      "\t [[{{node Placeholder/_1}}]]\n",
      "2025-02-16 04:15:46.300753: I tensorflow/core/common_runtime/executor.cc:1197] [/device:CPU:0] (DEBUG INFO) Executor start aborting (this does not indicate an error and you can ignore this message): INVALID_ARGUMENT: You must feed a value for placeholder tensor 'Placeholder/_1' with dtype float and shape [60000,1,1,10]\n",
      "\t [[{{node Placeholder/_1}}]]\n",
      "2025-02-16 04:15:48.506847: E tensorflow/core/grappler/optimizers/meta_optimizer.cc:954] layout failed: INVALID_ARGUMENT: Size of values 0 does not match size of permutation 4 @ fanin shape inSelectV2_8-2-TransposeNHWCToNCHW-LayoutOptimizer\n"
     ]
    },
    {
     "name": "stdout",
     "output_type": "stream",
     "text": [
      "469/469 [==============================] - 9s 12ms/step - loss: 1.7911 - accuracy: 0.8036\n",
      "Epoch 2/10\n",
      " 10/469 [..............................] - ETA: 5s - loss: 1.7835 - accuracy: 0.8148"
     ]
    },
    {
     "name": "stderr",
     "output_type": "stream",
     "text": [
      "2025-02-16 04:15:55.156685: I tensorflow/core/common_runtime/executor.cc:1197] [/device:CPU:0] (DEBUG INFO) Executor start aborting (this does not indicate an error and you can ignore this message): INVALID_ARGUMENT: You must feed a value for placeholder tensor 'Placeholder/_1' with dtype float and shape [60000,1,1,10]\n",
      "\t [[{{node Placeholder/_1}}]]\n"
     ]
    },
    {
     "name": "stdout",
     "output_type": "stream",
     "text": [
      "469/469 [==============================] - 5s 11ms/step - loss: 1.7788 - accuracy: 0.8205\n",
      "Epoch 3/10\n",
      " 10/469 [..............................] - ETA: 5s - loss: 1.7727 - accuracy: 0.8250"
     ]
    },
    {
     "name": "stderr",
     "output_type": "stream",
     "text": [
      "2025-02-16 04:16:00.587480: I tensorflow/core/common_runtime/executor.cc:1197] [/device:CPU:0] (DEBUG INFO) Executor start aborting (this does not indicate an error and you can ignore this message): INVALID_ARGUMENT: You must feed a value for placeholder tensor 'Placeholder/_1' with dtype float and shape [60000,1,1,10]\n",
      "\t [[{{node Placeholder/_1}}]]\n"
     ]
    },
    {
     "name": "stdout",
     "output_type": "stream",
     "text": [
      "469/469 [==============================] - 5s 11ms/step - loss: 1.7696 - accuracy: 0.8285\n",
      "Epoch 4/10\n",
      " 10/469 [..............................] - ETA: 5s - loss: 1.7645 - accuracy: 0.8359"
     ]
    },
    {
     "name": "stderr",
     "output_type": "stream",
     "text": [
      "2025-02-16 04:16:06.042065: I tensorflow/core/common_runtime/executor.cc:1197] [/device:CPU:0] (DEBUG INFO) Executor start aborting (this does not indicate an error and you can ignore this message): INVALID_ARGUMENT: You must feed a value for placeholder tensor 'Placeholder/_1' with dtype float and shape [60000,1,1,10]\n",
      "\t [[{{node Placeholder/_1}}]]\n"
     ]
    },
    {
     "name": "stdout",
     "output_type": "stream",
     "text": [
      "469/469 [==============================] - 2s 4ms/step - loss: 1.7622 - accuracy: 0.8323\n",
      "Epoch 5/10\n",
      " 11/469 [..............................] - ETA: 5s - loss: 1.7585 - accuracy: 0.8359"
     ]
    },
    {
     "name": "stderr",
     "output_type": "stream",
     "text": [
      "2025-02-16 04:16:08.187750: I tensorflow/core/common_runtime/executor.cc:1197] [/device:CPU:0] (DEBUG INFO) Executor start aborting (this does not indicate an error and you can ignore this message): INVALID_ARGUMENT: You must feed a value for placeholder tensor 'Placeholder/_1' with dtype float and shape [60000,1,1,10]\n",
      "\t [[{{node Placeholder/_1}}]]\n"
     ]
    },
    {
     "name": "stdout",
     "output_type": "stream",
     "text": [
      "469/469 [==============================] - 5s 11ms/step - loss: 1.7562 - accuracy: 0.8342\n",
      "Epoch 6/10\n",
      " 11/469 [..............................] - ETA: 5s - loss: 1.7526 - accuracy: 0.8359"
     ]
    },
    {
     "name": "stderr",
     "output_type": "stream",
     "text": [
      "2025-02-16 04:16:13.544060: I tensorflow/core/common_runtime/executor.cc:1197] [/device:CPU:0] (DEBUG INFO) Executor start aborting (this does not indicate an error and you can ignore this message): INVALID_ARGUMENT: You must feed a value for placeholder tensor 'Placeholder/_1' with dtype float and shape [60000,1,1,10]\n",
      "\t [[{{node Placeholder/_1}}]]\n"
     ]
    },
    {
     "name": "stdout",
     "output_type": "stream",
     "text": [
      "469/469 [==============================] - 5s 11ms/step - loss: 1.7505 - accuracy: 0.8353\n",
      "Epoch 7/10\n",
      " 11/469 [..............................] - ETA: 5s - loss: 1.7468 - accuracy: 0.8338"
     ]
    },
    {
     "name": "stderr",
     "output_type": "stream",
     "text": [
      "2025-02-16 04:16:18.891879: I tensorflow/core/common_runtime/executor.cc:1197] [/device:CPU:0] (DEBUG INFO) Executor start aborting (this does not indicate an error and you can ignore this message): INVALID_ARGUMENT: You must feed a value for placeholder tensor 'Placeholder/_1' with dtype float and shape [60000,1,1,10]\n",
      "\t [[{{node Placeholder/_1}}]]\n"
     ]
    },
    {
     "name": "stdout",
     "output_type": "stream",
     "text": [
      "469/469 [==============================] - 5s 11ms/step - loss: 1.7458 - accuracy: 0.8363\n",
      "Epoch 8/10\n",
      " 10/469 [..............................] - ETA: 5s - loss: 1.7419 - accuracy: 0.8344"
     ]
    },
    {
     "name": "stderr",
     "output_type": "stream",
     "text": [
      "2025-02-16 04:16:24.323099: I tensorflow/core/common_runtime/executor.cc:1197] [/device:CPU:0] (DEBUG INFO) Executor start aborting (this does not indicate an error and you can ignore this message): INVALID_ARGUMENT: You must feed a value for placeholder tensor 'Placeholder/_1' with dtype float and shape [60000,1,1,10]\n",
      "\t [[{{node Placeholder/_1}}]]\n"
     ]
    },
    {
     "name": "stdout",
     "output_type": "stream",
     "text": [
      "469/469 [==============================] - 5s 11ms/step - loss: 1.7416 - accuracy: 0.8365\n",
      "Epoch 9/10\n",
      " 10/469 [..............................] - ETA: 5s - loss: 1.7383 - accuracy: 0.8352"
     ]
    },
    {
     "name": "stderr",
     "output_type": "stream",
     "text": [
      "2025-02-16 04:16:29.778464: I tensorflow/core/common_runtime/executor.cc:1197] [/device:CPU:0] (DEBUG INFO) Executor start aborting (this does not indicate an error and you can ignore this message): INVALID_ARGUMENT: You must feed a value for placeholder tensor 'Placeholder/_1' with dtype float and shape [60000,1,1,10]\n",
      "\t [[{{node Placeholder/_1}}]]\n"
     ]
    },
    {
     "name": "stdout",
     "output_type": "stream",
     "text": [
      "469/469 [==============================] - 5s 11ms/step - loss: 1.7381 - accuracy: 0.8370\n",
      "Epoch 10/10\n",
      " 10/469 [..............................] - ETA: 5s - loss: 1.7354 - accuracy: 0.8352"
     ]
    },
    {
     "name": "stderr",
     "output_type": "stream",
     "text": [
      "2025-02-16 04:16:35.239989: I tensorflow/core/common_runtime/executor.cc:1197] [/device:CPU:0] (DEBUG INFO) Executor start aborting (this does not indicate an error and you can ignore this message): INVALID_ARGUMENT: You must feed a value for placeholder tensor 'Placeholder/_1' with dtype float and shape [60000,1,1,10]\n",
      "\t [[{{node Placeholder/_1}}]]\n"
     ]
    },
    {
     "name": "stdout",
     "output_type": "stream",
     "text": [
      "469/469 [==============================] - 2s 5ms/step - loss: 1.7350 - accuracy: 0.8374\n"
     ]
    },
    {
     "data": {
      "image/png": "[encoded data removed]",
      "text/plain": [
       "<Figure size 640x480 with 1 Axes>"
      ]
     },
     "metadata": {},
     "output_type": "display_data"
    }
   ],
   "source": [
    "with tf.distribute.MultiWorkerMirroredStrategy().scope():\n",
    "    with runner.infer_context(InferenceContext.SDK_QUANTIZED) as ctx:\n",
    "        # get the Hailo Keras model for training\n",
    "        model = runner.get_keras_model(ctx, trainable=True)\n",
    "\n",
    "        # add external post-processing\n",
    "        new_model = tf.keras.Sequential(\n",
    "            [\n",
    "                model,\n",
    "                tf.keras.layers.Softmax(),\n",
    "            ],\n",
    "        )\n",
    "\n",
    "        # adding external loss.\n",
    "        # note that this compile API only compiles the Keras model but doesn't compile the model to the Hailo HW.\n",
    "        new_model.compile(\n",
    "            loss=tf.keras.losses.CategoricalCrossentropy(),\n",
    "            optimizer=tf.keras.optimizers.Adam(learning_rate=1e-6),\n",
    "            metrics=[\"accuracy\"],\n",
    "        )\n",
    "\n",
    "        # Hailo Keras model is exported with rank4 layers, expands dimensions for the y_train to match the model output shape\n",
    "        y_train = np.expand_dims(y_train, axis=[1, 2])\n",
    "\n",
    "        # move numpy data to tf.data.Dataset to be used by multiple GPUs\n",
    "        train_data = tf.data.Dataset.from_tensor_slices((x_train, y_train))\n",
    "        train_data = train_data.batch(128)\n",
    "        options = tf.data.Options()\n",
    "        options.experimental_distribute.auto_shard_policy = tf.data.experimental.AutoShardPolicy.OFF\n",
    "        train_data = train_data.with_options(options)\n",
    "\n",
    "        # start QAT\n",
    "        log = new_model.fit(train_data, batch_size=128, epochs=10)\n",
    "\n",
    "        # set the Keras model after training. The model is already optimized, so do not run optimize() again.\n",
    "        runner.set_keras_model(model)\n",
    "\n",
    "# plot training curve\n",
    "plt.plot(log.history[\"accuracy\"])\n",
    "plt.title(\"Model Accuracy\")\n",
    "plt.ylabel(\"Top-1\")\n",
    "plt.xlabel(\"Epoch\")\n",
    "plt.grid()\n",
    "plt.show()"
   ]
  },
  {
   "cell_type": "code",
   "execution_count": 9,
   "id": "77419fc3",
   "metadata": {},
   "outputs": [
    {
     "name": "stdout",
     "output_type": "stream",
     "text": [
      "[info] Using 1 GPU for inference\n"
     ]
    },
    {
     "name": "stderr",
     "output_type": "stream",
     "text": [
      "2025-02-16 04:16:38.111858: E tensorflow/compiler/xla/stream_executor/cuda/cuda_driver.cc:1279] could not retrieve CUDA device count: CUDA_ERROR_NOT_INITIALIZED: initialization error\n",
      "Inference: 0entries [00:00, ?entries/s]2025-02-16 04:16:38.256306: I tensorflow/core/common_runtime/executor.cc:1197] [/device:CPU:0] (DEBUG INFO) Executor start aborting (this does not indicate an error and you can ignore this message): INVALID_ARGUMENT: You must feed a value for placeholder tensor 'Placeholder/_0' with dtype int32\n",
      "\t [[{{node Placeholder/_0}}]]\n",
      "Inference: 10000entries [00:04, 2215.86entries/s]"
     ]
    },
    {
     "name": "stdout",
     "output_type": "stream",
     "text": [
      "Test accuracy (quantized) before QAT: 100248.630 (Top-1)\n",
      "Test accuracy (quantized) after QAT: 100666.490 (Top-1)\n",
      "Accuracy improvement: 417.860\n"
     ]
    },
    {
     "name": "stderr",
     "output_type": "stream",
     "text": [
      "\n"
     ]
    }
   ],
   "source": [
    "# Evaluate the results\n",
    "with runner.infer_context(InferenceContext.SDK_QUANTIZED) as q_ctx:\n",
    "    y_infer_qat = runner.infer(q_ctx, x_test)\n",
    "\n",
    "qat_result = np.count_nonzero(np.argmax(y_infer_qat, axis=-1) == np.argmax(y_test,axis=-1)) / len(y_test)\n",
    "print(f\"Test accuracy (quantized) before QAT: {100 * quantize_result:.3f} (Top-1)\")\n",
    "print(f\"Test accuracy (quantized) after QAT: {100 * qat_result:.3f} (Top-1)\")\n",
    "print(f\"Accuracy improvement: {100 * (qat_result - quantize_result):.3f}\")"
   ]
  },
  {
   "cell_type": "code",
   "execution_count": 10,
   "id": "916d1510",
   "metadata": {},
   "outputs": [],
   "source": [
    "class Distiller(tf.keras.Model):\n",
    "    def __init__(self, student, teacher):\n",
    "        super().__init__()\n",
    "        self._teacher = teacher\n",
    "        self._student = student\n",
    "\n",
    "    def compile(self, optimizer, metrics, student_loss_fn, distillation_loss_fn, alpha=0.1, temperature=3):\n",
    "        super().compile(optimizer=optimizer, metrics=metrics)\n",
    "        self._student_loss_fn = student_loss_fn\n",
    "        self._distillation_loss_fn = distillation_loss_fn\n",
    "        self._alpha = alpha\n",
    "        self._temperature = temperature\n",
    "\n",
    "    def train_step(self, data):\n",
    "        # unpack data (image, label)\n",
    "        x, y = data\n",
    "\n",
    "        # forward pass of teacher\n",
    "        teacher_predictions = self._teacher(x, training=False)\n",
    "\n",
    "        with tf.GradientTape() as tape:\n",
    "            # forward pass of student\n",
    "            student_predictions = self._student(x, training=True)\n",
    "\n",
    "            # compute supervised loss\n",
    "            student_loss = self._student_loss_fn(y, student_predictions)\n",
    "\n",
    "            # compute distillation loss\n",
    "            distillation_loss = (\n",
    "                self._distillation_loss_fn(\n",
    "                    tf.nn.softmax(teacher_predictions / self._temperature, axis=1),\n",
    "                    tf.nn.softmax(student_predictions / self._temperature, axis=1),\n",
    "                )\n",
    "                * self._temperature**2\n",
    "            )\n",
    "\n",
    "            total_loss = self._alpha * student_loss + (1 - self._alpha) * distillation_loss\n",
    "\n",
    "        # compute gradients\n",
    "        trainable_vars = self._student.trainable_variables\n",
    "        gradients = tape.gradient(total_loss, trainable_vars)\n",
    "\n",
    "        # update weights\n",
    "        self.optimizer.apply_gradients(zip(gradients, trainable_vars))\n",
    "\n",
    "        # update the metrics\n",
    "        results = {m.name: m.result() for m in self.metrics}\n",
    "        results.update(\n",
    "            {\"total_loss\": total_loss, \"student_loss\": student_loss, \"distillation_loss\": distillation_loss},\n",
    "        )\n",
    "        return results"
   ]
  },
  {
   "cell_type": "code",
   "execution_count": 11,
   "id": "4be5be39",
   "metadata": {},
   "outputs": [
    {
     "name": "stdout",
     "output_type": "stream",
     "text": [
      "[info] Translation started on Tensorflow model model\n",
      "[info] Start nodes mapped from original model: 'serving_default_input_1:0': 'model/input_layer1'.\n",
      "[info] End nodes mapped from original model: 'StatefulPartitionedCall:0'.\n",
      "[info] Translation completed on Tensorflow model model (completion time: 00:00:00.02)\n"
     ]
    },
    {
     "name": "stderr",
     "output_type": "stream",
     "text": [
      "2025-02-16 04:16:42.838444: E tensorflow/compiler/xla/stream_executor/cuda/cuda_driver.cc:1279] could not retrieve CUDA device count: CUDA_ERROR_NOT_INITIALIZED: initialization error\n",
      "2025-02-16 04:16:42.852649: I tensorflow/compiler/xla/stream_executor/cuda/cuda_gpu_executor.cc:982] could not open file to read NUMA node: /sys/bus/pci/devices/0000:01:00.0/numa_node\n",
      "Your kernel may have been built without NUMA support.\n",
      "2025-02-16 04:16:42.852717: I tensorflow/compiler/xla/stream_executor/cuda/cuda_gpu_executor.cc:982] could not open file to read NUMA node: /sys/bus/pci/devices/0000:01:00.0/numa_node\n",
      "Your kernel may have been built without NUMA support.\n",
      "2025-02-16 04:16:42.852735: I tensorflow/compiler/xla/stream_executor/cuda/cuda_gpu_executor.cc:982] could not open file to read NUMA node: /sys/bus/pci/devices/0000:01:00.0/numa_node\n",
      "Your kernel may have been built without NUMA support.\n",
      "2025-02-16 04:16:42.852974: I tensorflow/compiler/xla/stream_executor/cuda/cuda_gpu_executor.cc:982] could not open file to read NUMA node: /sys/bus/pci/devices/0000:01:00.0/numa_node\n",
      "Your kernel may have been built without NUMA support.\n",
      "2025-02-16 04:16:42.852989: I tensorflow/core/common_runtime/gpu/gpu_device.cc:1722] Could not identify NUMA node of platform GPU id 0, defaulting to 0.  Your kernel may not have been built with NUMA support.\n",
      "2025-02-16 04:16:42.853015: I tensorflow/compiler/xla/stream_executor/cuda/cuda_gpu_executor.cc:982] could not open file to read NUMA node: /sys/bus/pci/devices/0000:01:00.0/numa_node\n",
      "Your kernel may have been built without NUMA support.\n",
      "2025-02-16 04:16:42.853038: I tensorflow/core/common_runtime/gpu/gpu_device.cc:1635] Created device /device:GPU:0 with 5529 MB memory:  -> device: 0, name: NVIDIA GeForce RTX 4060 Ti, pci bus id: 0000:01:00.0, compute capability: 8.9\n"
     ]
    },
    {
     "name": "stdout",
     "output_type": "stream",
     "text": [
      "[info] Loading model script commands to model from string\n",
      "[info] Starting Model Optimization\n",
      "[warning] Reducing compression level to 0 because requested optimization level equal or less than 1\n",
      "[warning] Running model optimization with zero level of optimization is not recommended for production use and might lead to suboptimal accuracy results\n",
      "[info] Model received quantization params from the hn\n"
     ]
    },
    {
     "name": "stderr",
     "output_type": "stream",
     "text": [
      "2025-02-16 04:16:43.168868: E tensorflow/compiler/xla/stream_executor/cuda/cuda_driver.cc:1279] could not retrieve CUDA device count: CUDA_ERROR_NOT_INITIALIZED: initialization error\n"
     ]
    },
    {
     "name": "stdout",
     "output_type": "stream",
     "text": [
      "[info] MatmulDecompose skipped\n"
     ]
    },
    {
     "name": "stderr",
     "output_type": "stream",
     "text": [
      "2025-02-16 04:16:43.214207: E tensorflow/compiler/xla/stream_executor/cuda/cuda_driver.cc:1279] could not retrieve CUDA device count: CUDA_ERROR_NOT_INITIALIZED: initialization error\n"
     ]
    },
    {
     "name": "stdout",
     "output_type": "stream",
     "text": [
      "[info] Starting Mixed Precision\n",
      "[info] Assigning 4bit weights to layer model/conv2 with 18.43k parameters\n",
      "[info] Ratio of weights in 4bit is 0.53\n",
      "[info] Model Optimization Algorithm Mixed Precision is done (completion time is 00:00:00.02)\n",
      "[info] LayerNorm Decomposition skipped\n",
      "[info] Starting Statistics Collector\n",
      "[info] Using dataset with 64 entries for calibration\n"
     ]
    },
    {
     "name": "stderr",
     "output_type": "stream",
     "text": [
      "Calibration:   0%|                                                                          | 0/64 [00:00<?, ?entries/s]2025-02-16 04:16:43.657551: I tensorflow/core/common_runtime/executor.cc:1197] [/device:CPU:0] (DEBUG INFO) Executor start aborting (this does not indicate an error and you can ignore this message): INVALID_ARGUMENT: You must feed a value for placeholder tensor 'Placeholder/_0' with dtype int32\n",
      "\t [[{{node Placeholder/_0}}]]\n",
      "2025-02-16 04:16:43.674641: I tensorflow/core/common_runtime/executor.cc:1197] [/device:CPU:0] (DEBUG INFO) Executor start aborting (this does not indicate an error and you can ignore this message): INVALID_ARGUMENT: You must feed a value for placeholder tensor 'Placeholder/_0' with dtype float and shape [1,28,28,1]\n",
      "\t [[{{node Placeholder/_0}}]]\n",
      "Calibration:   2%|█                                                                 | 1/64 [00:00<00:42,  1.48entries/s]2025-02-16 04:16:44.175853: I tensorflow/core/common_runtime/executor.cc:1197] [/device:CPU:0] (DEBUG INFO) Executor start aborting (this does not indicate an error and you can ignore this message): INVALID_ARGUMENT: You must feed a value for placeholder tensor 'Placeholder/_0' with dtype float and shape [1,28,28,1]\n",
      "\t [[{{node Placeholder/_0}}]]\n",
      "2025-02-16 04:16:44.186224: I tensorflow/core/common_runtime/executor.cc:1197] [/device:CPU:0] (DEBUG INFO) Executor start aborting (this does not indicate an error and you can ignore this message): INVALID_ARGUMENT: You must feed a value for placeholder tensor 'Placeholder/_0' with dtype float and shape [1,28,28,1]\n",
      "\t [[{{node Placeholder/_0}}]]\n",
      "2025-02-16 04:16:44.196349: I tensorflow/core/common_runtime/executor.cc:1197] [/device:CPU:0] (DEBUG INFO) Executor start aborting (this does not indicate an error and you can ignore this message): INVALID_ARGUMENT: You must feed a value for placeholder tensor 'Placeholder/_0' with dtype float and shape [1,28,28,1]\n",
      "\t [[{{node Placeholder/_0}}]]\n",
      "2025-02-16 04:16:44.204603: I tensorflow/core/common_runtime/executor.cc:1197] [/device:CPU:0] (DEBUG INFO) Executor start aborting (this does not indicate an error and you can ignore this message): INVALID_ARGUMENT: You must feed a value for placeholder tensor 'Placeholder/_0' with dtype float and shape [1,28,28,1]\n",
      "\t [[{{node Placeholder/_0}}]]\n",
      "2025-02-16 04:16:44.219107: I tensorflow/core/common_runtime/executor.cc:1197] [/device:CPU:0] (DEBUG INFO) Executor start aborting (this does not indicate an error and you can ignore this message): INVALID_ARGUMENT: You must feed a value for placeholder tensor 'Placeholder/_0' with dtype float and shape [1,28,28,1]\n",
      "\t [[{{node Placeholder/_0}}]]\n",
      "2025-02-16 04:16:44.227150: I tensorflow/core/common_runtime/executor.cc:1197] [/device:CPU:0] (DEBUG INFO) Executor start aborting (this does not indicate an error and you can ignore this message): INVALID_ARGUMENT: You must feed a value for placeholder tensor 'Placeholder/_0' with dtype float and shape [1,28,28,1]\n",
      "\t [[{{node Placeholder/_0}}]]\n",
      "2025-02-16 04:16:44.235364: I tensorflow/core/common_runtime/executor.cc:1197] [/device:CPU:0] (DEBUG INFO) Executor start aborting (this does not indicate an error and you can ignore this message): INVALID_ARGUMENT: You must feed a value for placeholder tensor 'Placeholder/_0' with dtype float and shape [1,28,28,1]\n",
      "\t [[{{node Placeholder/_0}}]]\n",
      "2025-02-16 04:16:44.259105: I tensorflow/core/common_runtime/executor.cc:1197] [/device:CPU:0] (DEBUG INFO) Executor start aborting (this does not indicate an error and you can ignore this message): INVALID_ARGUMENT: You must feed a value for placeholder tensor 'Placeholder/_0' with dtype float and shape [1,28,28,1]\n",
      "\t [[{{node Placeholder/_0}}]]\n",
      "2025-02-16 04:16:44.267617: I tensorflow/core/common_runtime/executor.cc:1197] [/device:CPU:0] (DEBUG INFO) Executor start aborting (this does not indicate an error and you can ignore this message): INVALID_ARGUMENT: You must feed a value for placeholder tensor 'Placeholder/_0' with dtype float and shape [1,28,28,1]\n",
      "\t [[{{node Placeholder/_0}}]]\n",
      "Calibration:  16%|██████████▏                                                      | 10/64 [00:00<00:03, 16.91entries/s]2025-02-16 04:16:44.276929: I tensorflow/core/common_runtime/executor.cc:1197] [/device:CPU:0] (DEBUG INFO) Executor start aborting (this does not indicate an error and you can ignore this message): INVALID_ARGUMENT: You must feed a value for placeholder tensor 'Placeholder/_0' with dtype float and shape [1,28,28,1]\n",
      "\t [[{{node Placeholder/_0}}]]\n",
      "2025-02-16 04:16:44.287186: I tensorflow/core/common_runtime/executor.cc:1197] [/device:CPU:0] (DEBUG INFO) Executor start aborting (this does not indicate an error and you can ignore this message): INVALID_ARGUMENT: You must feed a value for placeholder tensor 'Placeholder/_0' with dtype float and shape [1,28,28,1]\n",
      "\t [[{{node Placeholder/_0}}]]\n",
      "2025-02-16 04:16:44.297544: I tensorflow/core/common_runtime/executor.cc:1197] [/device:CPU:0] (DEBUG INFO) Executor start aborting (this does not indicate an error and you can ignore this message): INVALID_ARGUMENT: You must feed a value for placeholder tensor 'Placeholder/_0' with dtype float and shape [1,28,28,1]\n",
      "\t [[{{node Placeholder/_0}}]]\n",
      "2025-02-16 04:16:44.306020: I tensorflow/core/common_runtime/executor.cc:1197] [/device:CPU:0] (DEBUG INFO) Executor start aborting (this does not indicate an error and you can ignore this message): INVALID_ARGUMENT: You must feed a value for placeholder tensor 'Placeholder/_0' with dtype float and shape [1,28,28,1]\n",
      "\t [[{{node Placeholder/_0}}]]\n",
      "2025-02-16 04:16:44.313789: I tensorflow/core/common_runtime/executor.cc:1197] [/device:CPU:0] (DEBUG INFO) Executor start aborting (this does not indicate an error and you can ignore this message): INVALID_ARGUMENT: You must feed a value for placeholder tensor 'Placeholder/_0' with dtype float and shape [1,28,28,1]\n",
      "\t [[{{node Placeholder/_0}}]]\n",
      "2025-02-16 04:16:44.326331: I tensorflow/core/common_runtime/executor.cc:1197] [/device:CPU:0] (DEBUG INFO) Executor start aborting (this does not indicate an error and you can ignore this message): INVALID_ARGUMENT: You must feed a value for placeholder tensor 'Placeholder/_0' with dtype float and shape [1,28,28,1]\n",
      "\t [[{{node Placeholder/_0}}]]\n",
      "2025-02-16 04:16:44.333205: I tensorflow/core/common_runtime/executor.cc:1197] [/device:CPU:0] (DEBUG INFO) Executor start aborting (this does not indicate an error and you can ignore this message): INVALID_ARGUMENT: You must feed a value for placeholder tensor 'Placeholder/_0' with dtype float and shape [1,28,28,1]\n",
      "\t [[{{node Placeholder/_0}}]]\n",
      "2025-02-16 04:16:44.341711: I tensorflow/core/common_runtime/executor.cc:1197] [/device:CPU:0] (DEBUG INFO) Executor start aborting (this does not indicate an error and you can ignore this message): INVALID_ARGUMENT: You must feed a value for placeholder tensor 'Placeholder/_0' with dtype float and shape [1,28,28,1]\n",
      "\t [[{{node Placeholder/_0}}]]\n",
      "2025-02-16 04:16:44.350324: I tensorflow/core/common_runtime/executor.cc:1197] [/device:CPU:0] (DEBUG INFO) Executor start aborting (this does not indicate an error and you can ignore this message): INVALID_ARGUMENT: You must feed a value for placeholder tensor 'Placeholder/_0' with dtype float and shape [1,28,28,1]\n",
      "\t [[{{node Placeholder/_0}}]]\n",
      "2025-02-16 04:16:44.358270: I tensorflow/core/common_runtime/executor.cc:1197] [/device:CPU:0] (DEBUG INFO) Executor start aborting (this does not indicate an error and you can ignore this message): INVALID_ARGUMENT: You must feed a value for placeholder tensor 'Placeholder/_0' with dtype float and shape [1,28,28,1]\n",
      "\t [[{{node Placeholder/_0}}]]\n",
      "2025-02-16 04:16:44.365179: I tensorflow/core/common_runtime/executor.cc:1197] [/device:CPU:0] (DEBUG INFO) Executor start aborting (this does not indicate an error and you can ignore this message): INVALID_ARGUMENT: You must feed a value for placeholder tensor 'Placeholder/_0' with dtype float and shape [1,28,28,1]\n",
      "\t [[{{node Placeholder/_0}}]]\n",
      "2025-02-16 04:16:44.373961: I tensorflow/core/common_runtime/executor.cc:1197] [/device:CPU:0] (DEBUG INFO) Executor start aborting (this does not indicate an error and you can ignore this message): INVALID_ARGUMENT: You must feed a value for placeholder tensor 'Placeholder/_0' with dtype float and shape [1,28,28,1]\n",
      "\t [[{{node Placeholder/_0}}]]\n"
     ]
    },
    {
     "name": "stderr",
     "output_type": "stream",
     "text": [
      "Calibration:  34%|██████████████████████▎                                          | 22/64 [00:00<00:01, 37.06entries/s]2025-02-16 04:16:44.382346: I tensorflow/core/common_runtime/executor.cc:1197] [/device:CPU:0] (DEBUG INFO) Executor start aborting (this does not indicate an error and you can ignore this message): INVALID_ARGUMENT: You must feed a value for placeholder tensor 'Placeholder/_0' with dtype float and shape [1,28,28,1]\n",
      "\t [[{{node Placeholder/_0}}]]\n",
      "2025-02-16 04:16:44.391827: I tensorflow/core/common_runtime/executor.cc:1197] [/device:CPU:0] (DEBUG INFO) Executor start aborting (this does not indicate an error and you can ignore this message): INVALID_ARGUMENT: You must feed a value for placeholder tensor 'Placeholder/_0' with dtype float and shape [1,28,28,1]\n",
      "\t [[{{node Placeholder/_0}}]]\n",
      "2025-02-16 04:16:44.399963: I tensorflow/core/common_runtime/executor.cc:1197] [/device:CPU:0] (DEBUG INFO) Executor start aborting (this does not indicate an error and you can ignore this message): INVALID_ARGUMENT: You must feed a value for placeholder tensor 'Placeholder/_0' with dtype float and shape [1,28,28,1]\n",
      "\t [[{{node Placeholder/_0}}]]\n",
      "2025-02-16 04:16:44.408865: I tensorflow/core/common_runtime/executor.cc:1197] [/device:CPU:0] (DEBUG INFO) Executor start aborting (this does not indicate an error and you can ignore this message): INVALID_ARGUMENT: You must feed a value for placeholder tensor 'Placeholder/_0' with dtype float and shape [1,28,28,1]\n",
      "\t [[{{node Placeholder/_0}}]]\n",
      "2025-02-16 04:16:44.419132: I tensorflow/core/common_runtime/executor.cc:1197] [/device:CPU:0] (DEBUG INFO) Executor start aborting (this does not indicate an error and you can ignore this message): INVALID_ARGUMENT: You must feed a value for placeholder tensor 'Placeholder/_0' with dtype float and shape [1,28,28,1]\n",
      "\t [[{{node Placeholder/_0}}]]\n",
      "2025-02-16 04:16:44.426589: I tensorflow/core/common_runtime/executor.cc:1197] [/device:CPU:0] (DEBUG INFO) Executor start aborting (this does not indicate an error and you can ignore this message): INVALID_ARGUMENT: You must feed a value for placeholder tensor 'Placeholder/_0' with dtype float and shape [1,28,28,1]\n",
      "\t [[{{node Placeholder/_0}}]]\n",
      "2025-02-16 04:16:44.437885: I tensorflow/core/common_runtime/executor.cc:1197] [/device:CPU:0] (DEBUG INFO) Executor start aborting (this does not indicate an error and you can ignore this message): INVALID_ARGUMENT: You must feed a value for placeholder tensor 'Placeholder/_0' with dtype float and shape [1,28,28,1]\n",
      "\t [[{{node Placeholder/_0}}]]\n",
      "2025-02-16 04:16:44.445022: I tensorflow/core/common_runtime/executor.cc:1197] [/device:CPU:0] (DEBUG INFO) Executor start aborting (this does not indicate an error and you can ignore this message): INVALID_ARGUMENT: You must feed a value for placeholder tensor 'Placeholder/_0' with dtype float and shape [1,28,28,1]\n",
      "\t [[{{node Placeholder/_0}}]]\n",
      "2025-02-16 04:16:44.452781: I tensorflow/core/common_runtime/executor.cc:1197] [/device:CPU:0] (DEBUG INFO) Executor start aborting (this does not indicate an error and you can ignore this message): INVALID_ARGUMENT: You must feed a value for placeholder tensor 'Placeholder/_0' with dtype float and shape [1,28,28,1]\n",
      "\t [[{{node Placeholder/_0}}]]\n",
      "2025-02-16 04:16:44.461533: I tensorflow/core/common_runtime/executor.cc:1197] [/device:CPU:0] (DEBUG INFO) Executor start aborting (this does not indicate an error and you can ignore this message): INVALID_ARGUMENT: You must feed a value for placeholder tensor 'Placeholder/_0' with dtype float and shape [1,28,28,1]\n",
      "\t [[{{node Placeholder/_0}}]]\n",
      "2025-02-16 04:16:44.470926: I tensorflow/core/common_runtime/executor.cc:1197] [/device:CPU:0] (DEBUG INFO) Executor start aborting (this does not indicate an error and you can ignore this message): INVALID_ARGUMENT: You must feed a value for placeholder tensor 'Placeholder/_0' with dtype float and shape [1,28,28,1]\n",
      "\t [[{{node Placeholder/_0}}]]\n",
      "2025-02-16 04:16:44.479985: I tensorflow/core/common_runtime/executor.cc:1197] [/device:CPU:0] (DEBUG INFO) Executor start aborting (this does not indicate an error and you can ignore this message): INVALID_ARGUMENT: You must feed a value for placeholder tensor 'Placeholder/_0' with dtype float and shape [1,28,28,1]\n",
      "\t [[{{node Placeholder/_0}}]]\n",
      "Calibration:  53%|██████████████████████████████████▌                              | 34/64 [00:00<00:00, 54.41entries/s]2025-02-16 04:16:44.489659: I tensorflow/core/common_runtime/executor.cc:1197] [/device:CPU:0] (DEBUG INFO) Executor start aborting (this does not indicate an error and you can ignore this message): INVALID_ARGUMENT: You must feed a value for placeholder tensor 'Placeholder/_0' with dtype float and shape [1,28,28,1]\n",
      "\t [[{{node Placeholder/_0}}]]\n",
      "2025-02-16 04:16:44.497368: I tensorflow/core/common_runtime/executor.cc:1197] [/device:CPU:0] (DEBUG INFO) Executor start aborting (this does not indicate an error and you can ignore this message): INVALID_ARGUMENT: You must feed a value for placeholder tensor 'Placeholder/_0' with dtype float and shape [1,28,28,1]\n",
      "\t [[{{node Placeholder/_0}}]]\n",
      "2025-02-16 04:16:44.510072: I tensorflow/core/common_runtime/executor.cc:1197] [/device:CPU:0] (DEBUG INFO) Executor start aborting (this does not indicate an error and you can ignore this message): INVALID_ARGUMENT: You must feed a value for placeholder tensor 'Placeholder/_0' with dtype float and shape [1,28,28,1]\n",
      "\t [[{{node Placeholder/_0}}]]\n",
      "2025-02-16 04:16:44.517529: I tensorflow/core/common_runtime/executor.cc:1197] [/device:CPU:0] (DEBUG INFO) Executor start aborting (this does not indicate an error and you can ignore this message): INVALID_ARGUMENT: You must feed a value for placeholder tensor 'Placeholder/_0' with dtype float and shape [1,28,28,1]\n",
      "\t [[{{node Placeholder/_0}}]]\n",
      "2025-02-16 04:16:44.528997: I tensorflow/core/common_runtime/executor.cc:1197] [/device:CPU:0] (DEBUG INFO) Executor start aborting (this does not indicate an error and you can ignore this message): INVALID_ARGUMENT: You must feed a value for placeholder tensor 'Placeholder/_0' with dtype float and shape [1,28,28,1]\n",
      "\t [[{{node Placeholder/_0}}]]\n",
      "2025-02-16 04:16:44.536434: I tensorflow/core/common_runtime/executor.cc:1197] [/device:CPU:0] (DEBUG INFO) Executor start aborting (this does not indicate an error and you can ignore this message): INVALID_ARGUMENT: You must feed a value for placeholder tensor 'Placeholder/_0' with dtype float and shape [1,28,28,1]\n",
      "\t [[{{node Placeholder/_0}}]]\n",
      "2025-02-16 04:16:44.542990: I tensorflow/core/common_runtime/executor.cc:1197] [/device:CPU:0] (DEBUG INFO) Executor start aborting (this does not indicate an error and you can ignore this message): INVALID_ARGUMENT: You must feed a value for placeholder tensor 'Placeholder/_0' with dtype float and shape [1,28,28,1]\n",
      "\t [[{{node Placeholder/_0}}]]\n",
      "2025-02-16 04:16:44.549854: I tensorflow/core/common_runtime/executor.cc:1197] [/device:CPU:0] (DEBUG INFO) Executor start aborting (this does not indicate an error and you can ignore this message): INVALID_ARGUMENT: You must feed a value for placeholder tensor 'Placeholder/_0' with dtype float and shape [1,28,28,1]\n",
      "\t [[{{node Placeholder/_0}}]]\n",
      "2025-02-16 04:16:44.557205: I tensorflow/core/common_runtime/executor.cc:1197] [/device:CPU:0] (DEBUG INFO) Executor start aborting (this does not indicate an error and you can ignore this message): INVALID_ARGUMENT: You must feed a value for placeholder tensor 'Placeholder/_0' with dtype float and shape [1,28,28,1]\n",
      "\t [[{{node Placeholder/_0}}]]\n",
      "2025-02-16 04:16:44.564200: I tensorflow/core/common_runtime/executor.cc:1197] [/device:CPU:0] (DEBUG INFO) Executor start aborting (this does not indicate an error and you can ignore this message): INVALID_ARGUMENT: You must feed a value for placeholder tensor 'Placeholder/_0' with dtype float and shape [1,28,28,1]\n",
      "\t [[{{node Placeholder/_0}}]]\n",
      "2025-02-16 04:16:44.573943: I tensorflow/core/common_runtime/executor.cc:1197] [/device:CPU:0] (DEBUG INFO) Executor start aborting (this does not indicate an error and you can ignore this message): INVALID_ARGUMENT: You must feed a value for placeholder tensor 'Placeholder/_0' with dtype float and shape [1,28,28,1]\n",
      "\t [[{{node Placeholder/_0}}]]\n",
      "2025-02-16 04:16:44.581355: I tensorflow/core/common_runtime/executor.cc:1197] [/device:CPU:0] (DEBUG INFO) Executor start aborting (this does not indicate an error and you can ignore this message): INVALID_ARGUMENT: You must feed a value for placeholder tensor 'Placeholder/_0' with dtype float and shape [1,28,28,1]\n",
      "\t [[{{node Placeholder/_0}}]]\n"
     ]
    },
    {
     "name": "stderr",
     "output_type": "stream",
     "text": [
      "Calibration:  72%|██████████████████████████████████████████████▋                  | 46/64 [00:01<00:00, 69.68entries/s]2025-02-16 04:16:44.591148: I tensorflow/core/common_runtime/executor.cc:1197] [/device:CPU:0] (DEBUG INFO) Executor start aborting (this does not indicate an error and you can ignore this message): INVALID_ARGUMENT: You must feed a value for placeholder tensor 'Placeholder/_0' with dtype float and shape [1,28,28,1]\n",
      "\t [[{{node Placeholder/_0}}]]\n",
      "2025-02-16 04:16:44.599701: I tensorflow/core/common_runtime/executor.cc:1197] [/device:CPU:0] (DEBUG INFO) Executor start aborting (this does not indicate an error and you can ignore this message): INVALID_ARGUMENT: You must feed a value for placeholder tensor 'Placeholder/_0' with dtype float and shape [1,28,28,1]\n",
      "\t [[{{node Placeholder/_0}}]]\n",
      "2025-02-16 04:16:44.607027: I tensorflow/core/common_runtime/executor.cc:1197] [/device:CPU:0] (DEBUG INFO) Executor start aborting (this does not indicate an error and you can ignore this message): INVALID_ARGUMENT: You must feed a value for placeholder tensor 'Placeholder/_0' with dtype float and shape [1,28,28,1]\n",
      "\t [[{{node Placeholder/_0}}]]\n",
      "2025-02-16 04:16:44.619595: I tensorflow/core/common_runtime/executor.cc:1197] [/device:CPU:0] (DEBUG INFO) Executor start aborting (this does not indicate an error and you can ignore this message): INVALID_ARGUMENT: You must feed a value for placeholder tensor 'Placeholder/_0' with dtype float and shape [1,28,28,1]\n",
      "\t [[{{node Placeholder/_0}}]]\n",
      "2025-02-16 04:16:44.626711: I tensorflow/core/common_runtime/executor.cc:1197] [/device:CPU:0] (DEBUG INFO) Executor start aborting (this does not indicate an error and you can ignore this message): INVALID_ARGUMENT: You must feed a value for placeholder tensor 'Placeholder/_0' with dtype float and shape [1,28,28,1]\n",
      "\t [[{{node Placeholder/_0}}]]\n",
      "2025-02-16 04:16:44.639532: I tensorflow/core/common_runtime/executor.cc:1197] [/device:CPU:0] (DEBUG INFO) Executor start aborting (this does not indicate an error and you can ignore this message): INVALID_ARGUMENT: You must feed a value for placeholder tensor 'Placeholder/_0' with dtype float and shape [1,28,28,1]\n",
      "\t [[{{node Placeholder/_0}}]]\n",
      "2025-02-16 04:16:44.647008: I tensorflow/core/common_runtime/executor.cc:1197] [/device:CPU:0] (DEBUG INFO) Executor start aborting (this does not indicate an error and you can ignore this message): INVALID_ARGUMENT: You must feed a value for placeholder tensor 'Placeholder/_0' with dtype float and shape [1,28,28,1]\n",
      "\t [[{{node Placeholder/_0}}]]\n",
      "2025-02-16 04:16:44.654430: I tensorflow/core/common_runtime/executor.cc:1197] [/device:CPU:0] (DEBUG INFO) Executor start aborting (this does not indicate an error and you can ignore this message): INVALID_ARGUMENT: You must feed a value for placeholder tensor 'Placeholder/_0' with dtype float and shape [1,28,28,1]\n",
      "\t [[{{node Placeholder/_0}}]]\n",
      "2025-02-16 04:16:44.661550: I tensorflow/core/common_runtime/executor.cc:1197] [/device:CPU:0] (DEBUG INFO) Executor start aborting (this does not indicate an error and you can ignore this message): INVALID_ARGUMENT: You must feed a value for placeholder tensor 'Placeholder/_0' with dtype float and shape [1,28,28,1]\n",
      "\t [[{{node Placeholder/_0}}]]\n",
      "2025-02-16 04:16:44.670361: I tensorflow/core/common_runtime/executor.cc:1197] [/device:CPU:0] (DEBUG INFO) Executor start aborting (this does not indicate an error and you can ignore this message): INVALID_ARGUMENT: You must feed a value for placeholder tensor 'Placeholder/_0' with dtype float and shape [1,28,28,1]\n",
      "\t [[{{node Placeholder/_0}}]]\n",
      "2025-02-16 04:16:44.677587: I tensorflow/core/common_runtime/executor.cc:1197] [/device:CPU:0] (DEBUG INFO) Executor start aborting (this does not indicate an error and you can ignore this message): INVALID_ARGUMENT: You must feed a value for placeholder tensor 'Placeholder/_0' with dtype float and shape [1,28,28,1]\n",
      "\t [[{{node Placeholder/_0}}]]\n",
      "2025-02-16 04:16:44.684533: I tensorflow/core/common_runtime/executor.cc:1197] [/device:CPU:0] (DEBUG INFO) Executor start aborting (this does not indicate an error and you can ignore this message): INVALID_ARGUMENT: You must feed a value for placeholder tensor 'Placeholder/_0' with dtype float and shape [1,28,28,1]\n",
      "\t [[{{node Placeholder/_0}}]]\n",
      "Calibration:  91%|██████████████████████████████████████████████████████████▉      | 58/64 [00:01<00:00, 81.91entries/s]2025-02-16 04:16:44.693103: I tensorflow/core/common_runtime/executor.cc:1197] [/device:CPU:0] (DEBUG INFO) Executor start aborting (this does not indicate an error and you can ignore this message): INVALID_ARGUMENT: You must feed a value for placeholder tensor 'Placeholder/_0' with dtype float and shape [1,28,28,1]\n",
      "\t [[{{node Placeholder/_0}}]]\n",
      "2025-02-16 04:16:44.701227: I tensorflow/core/common_runtime/executor.cc:1197] [/device:CPU:0] (DEBUG INFO) Executor start aborting (this does not indicate an error and you can ignore this message): INVALID_ARGUMENT: You must feed a value for placeholder tensor 'Placeholder/_0' with dtype float and shape [1,28,28,1]\n",
      "\t [[{{node Placeholder/_0}}]]\n",
      "2025-02-16 04:16:44.712882: I tensorflow/core/common_runtime/executor.cc:1197] [/device:CPU:0] (DEBUG INFO) Executor start aborting (this does not indicate an error and you can ignore this message): INVALID_ARGUMENT: You must feed a value for placeholder tensor 'Placeholder/_0' with dtype float and shape [1,28,28,1]\n",
      "\t [[{{node Placeholder/_0}}]]\n",
      "2025-02-16 04:16:44.720687: I tensorflow/core/common_runtime/executor.cc:1197] [/device:CPU:0] (DEBUG INFO) Executor start aborting (this does not indicate an error and you can ignore this message): INVALID_ARGUMENT: You must feed a value for placeholder tensor 'Placeholder/_0' with dtype float and shape [1,28,28,1]\n",
      "\t [[{{node Placeholder/_0}}]]\n",
      "2025-02-16 04:16:44.732391: I tensorflow/core/common_runtime/executor.cc:1197] [/device:CPU:0] (DEBUG INFO) Executor start aborting (this does not indicate an error and you can ignore this message): INVALID_ARGUMENT: You must feed a value for placeholder tensor 'Placeholder/_0' with dtype float and shape [1,28,28,1]\n",
      "\t [[{{node Placeholder/_0}}]]\n",
      "2025-02-16 04:16:44.739452: I tensorflow/core/common_runtime/executor.cc:1197] [/device:CPU:0] (DEBUG INFO) Executor start aborting (this does not indicate an error and you can ignore this message): INVALID_ARGUMENT: You must feed a value for placeholder tensor 'Placeholder/_0' with dtype float and shape [1,28,28,1]\n",
      "\t [[{{node Placeholder/_0}}]]\n",
      "Calibration: 100%|█████████████████████████████████████████████████████████████████| 64/64 [00:01<00:00, 51.23entries/s]\n"
     ]
    },
    {
     "name": "stdout",
     "output_type": "stream",
     "text": [
      "[info] Model Optimization Algorithm Statistics Collector is done (completion time is 00:00:01.37)\n",
      "[info] Starting Fix zp_comp Encoding\n",
      "[info] Model Optimization Algorithm Fix zp_comp Encoding is done (completion time is 00:00:00.00)\n",
      "[info] Matmul Equalization skipped\n",
      "[info] No shifts available for layer model/fc1/conv_op, using max shift instead. delta=2.3394\n",
      "[info] No shifts available for layer model/fc1/conv_op, using max shift instead. delta=1.1697\n"
     ]
    },
    {
     "name": "stderr",
     "output_type": "stream",
     "text": [
      "2025-02-16 04:16:45.509923: E tensorflow/compiler/xla/stream_executor/cuda/cuda_driver.cc:1279] could not retrieve CUDA device count: CUDA_ERROR_NOT_INITIALIZED: initialization error\n"
     ]
    },
    {
     "name": "stdout",
     "output_type": "stream",
     "text": [
      "[info] Finetune encoding skipped\n",
      "[info] Bias Correction skipped\n",
      "[info] Adaround skipped\n",
      "[info] Quantization-Aware Fine-Tuning skipped\n",
      "[info] Layer Noise Analysis skipped\n",
      "[info] The calibration set seems to not be normalized, because the values range is [(0.0, 1.0)].\n",
      "Since the neural core works in 8-bit (between 0 to 255), a quantization will occur on the CPU of the runtime platform.\n",
      "Add a normalization layer to the model to offload the normalization to the neural core.\n",
      "Refer to the user guide Hailo Dataflow Compiler user guide / Model Optimization / Optimization Related Model Script Commands / model_modification_commands / normalization for details.\n"
     ]
    },
    {
     "name": "stderr",
     "output_type": "stream",
     "text": [
      "2025-02-16 04:16:46.187415: E tensorflow/compiler/xla/stream_executor/cuda/cuda_driver.cc:1279] could not retrieve CUDA device count: CUDA_ERROR_NOT_INITIALIZED: initialization error\n"
     ]
    },
    {
     "name": "stdout",
     "output_type": "stream",
     "text": [
      "[info] Model Optimization is done\n",
      "Epoch 1/10\n"
     ]
    },
    {
     "name": "stderr",
     "output_type": "stream",
     "text": [
      "2025-02-16 04:16:48.910111: E tensorflow/core/grappler/optimizers/meta_optimizer.cc:954] layout failed: INVALID_ARGUMENT: Size of values 0 does not match size of permutation 4 @ fanin shape inSelectV2_8-2-TransposeNHWCToNCHW-LayoutOptimizer\n"
     ]
    },
    {
     "name": "stdout",
     "output_type": "stream",
     "text": [
      "469/469 [==============================] - 9s 13ms/step - total_loss: 0.0653 - student_loss: 0.6531 - distillation_loss: 0.0000e+00\n",
      "Epoch 2/10\n",
      "469/469 [==============================] - 6s 13ms/step - total_loss: 0.0619 - student_loss: 0.6189 - distillation_loss: 0.0000e+00\n",
      "Epoch 3/10\n",
      "469/469 [==============================] - 3s 7ms/step - total_loss: 0.0601 - student_loss: 0.6014 - distillation_loss: 0.0000e+00\n",
      "Epoch 4/10\n",
      "469/469 [==============================] - 6s 13ms/step - total_loss: 0.0589 - student_loss: 0.5894 - distillation_loss: 0.0000e+00\n",
      "Epoch 5/10\n",
      "469/469 [==============================] - 6s 14ms/step - total_loss: 0.0579 - student_loss: 0.5787 - distillation_loss: 0.0000e+00\n",
      "Epoch 6/10\n",
      "469/469 [==============================] - 6s 13ms/step - total_loss: 0.0570 - student_loss: 0.5699 - distillation_loss: 0.0000e+00\n",
      "Epoch 7/10\n",
      "469/469 [==============================] - 6s 14ms/step - total_loss: 0.0562 - student_loss: 0.5620 - distillation_loss: 0.0000e+00\n",
      "Epoch 8/10\n",
      "469/469 [==============================] - 6s 13ms/step - total_loss: 0.0555 - student_loss: 0.5548 - distillation_loss: 0.0000e+00\n",
      "Epoch 9/10\n",
      "469/469 [==============================] - 4s 7ms/step - total_loss: 0.0548 - student_loss: 0.5477 - distillation_loss: 0.0000e+00\n",
      "Epoch 10/10\n",
      "469/469 [==============================] - 7s 14ms/step - total_loss: 0.0540 - student_loss: 0.5402 - distillation_loss: 0.0000e+00\n"
     ]
    }
   ],
   "source": [
    "# Parse the TFlite model\n",
    "runner = ClientRunner(hw_arch=chosen_hw_arch)\n",
    "runner.translate_tf_model(tflite_model_path)\n",
    "\n",
    "# Optimize the model: enforce 40% 4bit weights without optimization\n",
    "model_script_commands = [\n",
    "    \"model_optimization_config(compression_params, auto_4bit_weights_ratio=0.6)\\n\"\n",
    "    \"model_optimization_flavor(optimization_level=0)\\n\",\n",
    "]\n",
    "\n",
    "runner.load_model_script(\"\".join(model_script_commands))\n",
    "runner.optimize(x_train[:1024])\n",
    "\n",
    "with runner.infer_context(InferenceContext.SDK_QUANTIZED) as ctx_q:\n",
    "    with runner.infer_context(InferenceContext.SDK_FP_OPTIMIZED) as ctx_fp:\n",
    "        # get the Hailo Keras model for training\n",
    "        student = runner.get_keras_model(ctx_q, trainable=True)\n",
    "\n",
    "        # geth the full precision model for kd\n",
    "        teacher = runner.get_keras_model(ctx_fp, trainable=False)\n",
    "\n",
    "        # create the kd model\n",
    "        distiller = Distiller(student=student, teacher=teacher)\n",
    "        distiller.compile(\n",
    "            optimizer=tf.keras.optimizers.Adam(learning_rate=1e-6),\n",
    "            metrics=[tf.keras.metrics.SparseCategoricalAccuracy()],\n",
    "            student_loss_fn=tf.keras.losses.CategoricalCrossentropy(),\n",
    "            distillation_loss_fn=tf.keras.losses.KLDivergence(),\n",
    "            alpha=0.1,\n",
    "            temperature=10,\n",
    "        )\n",
    "\n",
    "        # start QAT\n",
    "        log = distiller.fit(x_train, y_train, batch_size=128, epochs=10)\n",
    "\n",
    "        # set the Keras model after training\n",
    "        runner.set_keras_model(student)"
   ]
  },
  {
   "cell_type": "code",
   "execution_count": 12,
   "id": "64a7c4b1",
   "metadata": {},
   "outputs": [
    {
     "name": "stdout",
     "output_type": "stream",
     "text": [
      "[info] Using 1 GPU for inference\n"
     ]
    },
    {
     "name": "stderr",
     "output_type": "stream",
     "text": [
      "2025-02-16 04:17:46.837164: E tensorflow/compiler/xla/stream_executor/cuda/cuda_driver.cc:1279] could not retrieve CUDA device count: CUDA_ERROR_NOT_INITIALIZED: initialization error\n",
      "Inference: 0entries [00:00, ?entries/s]2025-02-16 04:17:46.986011: I tensorflow/core/common_runtime/executor.cc:1197] [/device:CPU:0] (DEBUG INFO) Executor start aborting (this does not indicate an error and you can ignore this message): INVALID_ARGUMENT: You must feed a value for placeholder tensor 'Placeholder/_0' with dtype int32\n",
      "\t [[{{node Placeholder/_0}}]]\n",
      "Inference: 10000entries [00:04, 2115.61entries/s]"
     ]
    },
    {
     "name": "stdout",
     "output_type": "stream",
     "text": [
      "Test accuracy (quantized) with QAT: 100666.490 (Top-1)\n",
      "Test accuracy (quantized) with QAT and KD: 100524.020 (Top-1)\n",
      "Accuracy improvement: -142.470\n"
     ]
    },
    {
     "name": "stderr",
     "output_type": "stream",
     "text": [
      "\n"
     ]
    }
   ],
   "source": [
    "# Evaluate the results\n",
    "with runner.infer_context(InferenceContext.SDK_QUANTIZED) as q_ctx:\n",
    "    y_infer_qat = runner.infer(q_ctx, x_test)\n",
    "\n",
    "qat_with_kd_result = np.count_nonzero(np.argmax(y_infer_qat, axis=-1) == np.argmax(y_test, axis=-1)) / len(y_test)\n",
    "print(f\"Test accuracy (quantized) with QAT: {100 * qat_result:.3f} (Top-1)\")\n",
    "print(f\"Test accuracy (quantized) with QAT and KD: {100 * qat_with_kd_result:.3f} (Top-1)\")\n",
    "print(f\"Accuracy improvement: {100 * (qat_with_kd_result - qat_result):.3f}\")"
   ]
  },
  {
   "cell_type": "code",
   "execution_count": 13,
   "id": "aad4e49d",
   "metadata": {},
   "outputs": [
    {
     "name": "stdout",
     "output_type": "stream",
     "text": [
      "[info] To achieve optimal performance, set the compiler_optimization_level to \"max\" by adding performance_param(compiler_optimization_level=max) to the model script. Note that this may increase compilation time.\n",
      "[info] Loading network parameters\n",
      "[info] Starting Hailo allocation and compilation flow\n",
      "[info] Using Single-context flow\n",
      "[info] Resources optimization guidelines: Strategy -> GREEDY Objective -> MAX_FPS\n",
      "[info] Resources optimization params: max_control_utilization=75%, max_compute_utilization=75%, max_compute_16bit_utilization=75%, max_memory_utilization (weights)=75%, max_input_aligner_utilization=75%, max_apu_utilization=75%\n",
      "[info] Using Single-context flow\n",
      "[info] Resources optimization guidelines: Strategy -> GREEDY Objective -> MAX_FPS\n",
      "[info] Resources optimization params: max_control_utilization=75%, max_compute_utilization=75%, max_compute_16bit_utilization=75%, max_memory_utilization (weights)=75%, max_input_aligner_utilization=75%, max_apu_utilization=75%\n",
      "[info] output_layer1: Pass\n",
      "[info] softmax1: Pass\n",
      "[info] conv1_d1: Pass\n",
      "[info] input_layer1: Pass\n",
      "[info] maxpool1_lanes_2: Pass\n",
      "[info] maxpool1_lanes_concat: Pass\n",
      "[info] maxpool1_lanes_feature_splitter: Pass\n",
      "[info] conv1_dc: Pass\n",
      "[info] conv2_sd0: Pass\n",
      "[info] conv2_sd1: Pass\n",
      "[info] conv1_d0: Pass\n",
      "[info] conv2_sdc: Pass\n",
      "[info] fc1: Pass\n",
      "[info] maxpool2: Pass\n",
      "[info] Solving the allocation (Mapping), time per context: 59m 59s\n",
      "\n",
      "\n",
      "[info] Context:0/0 Iteration 0: Mapping prepost...          \n",
      "          cluster_0  cluster_1  cluster_2  cluster_3  cluster_4  cluster_5  cluster_6  cluster_7  prepost \n",
      " worker0  *          *          *          *          *          *          *          *          V       \n",
      " worker1                                                                                                  \n",
      " worker2                                                                                                  \n",
      " worker3                                                                                                  \n",
      "\n",
      "  00:00\n",
      "[info] Context:0/0 Iteration 0: Trying parallel splits...   \n",
      "          cluster_0  cluster_1  cluster_2  cluster_3  cluster_4  cluster_5  cluster_6  cluster_7  prepost \n",
      " worker0                                                                                                  \n",
      " worker1                                                                                                  \n",
      " worker2                                                                                                  \n",
      " worker3                                                                                                  \n",
      "\n",
      "  00:00\n",
      "[info] Context:0/0 Iteration 0: Trying parallel splits...   \n",
      "          cluster_0  cluster_1  cluster_2  cluster_3  cluster_4  cluster_5  cluster_6  cluster_7  prepost \n",
      " worker0                                                                                                  \n",
      " worker1                                                                                                  \n",
      " worker2  *          *          *          *          *          *          *          *          V       \n",
      " worker3                                                                                                  \n",
      "\n",
      "  00:00\n",
      "[info] Context:0/0 Iteration 4: Trying parallel mapping...  \n",
      "          cluster_0  cluster_1  cluster_2  cluster_3  cluster_4  cluster_5  cluster_6  cluster_7  prepost \n",
      " worker0  *          *          *          *          *          *          *          *          V       \n",
      " worker1                                                                                                  \n",
      " worker2  *          *          *          *          *          *          *          *          V       \n",
      " worker3                                                                                                  \n",
      "\n",
      "  00:00\n",
      "[info] Context:0/0 Iteration 4: Trying parallel mapping...  \n",
      "          cluster_0  cluster_1  cluster_2  cluster_3  cluster_4  cluster_5  cluster_6  cluster_7  prepost \n",
      " worker0  *          *          *          *          *          *          *          *          V       \n",
      " worker1                                                                                                  \n",
      " worker2  *          *          *          *          *          *          *          *          V       \n",
      " worker3  V          *          *          *          *          *          *          *          V       \n",
      "\n",
      "  00:00\n",
      "[info] Context:0/0 Iteration 4: Trying parallel mapping...  \n",
      "          cluster_0  cluster_1  cluster_2  cluster_3  cluster_4  cluster_5  cluster_6  cluster_7  prepost \n",
      " worker0  *          *          *          *          *          *          *          *          V       \n",
      " worker1                                                                                                  \n",
      " worker2  *          *          *          *          V          V          *          *          V       \n",
      " worker3  V          *          *          *          *          *          *          *          V       \n",
      "\n",
      "  00:00\n",
      "[info] Context:0/0 Iteration 4: Trying parallel mapping...  \n",
      "          cluster_0  cluster_1  cluster_2  cluster_3  cluster_4  cluster_5  cluster_6  cluster_7  prepost \n",
      " worker0  *          *          *          *          *          *          *          *          V       \n",
      " worker1                                                                                                  \n",
      " worker2  *          *          *          *          V          V          *          *          V       \n",
      " worker3  V          *          *          *          V          V          V          *          V       \n",
      "\n",
      "  00:00\n",
      "[info] Context:0/0 Iteration 4: Trying parallel mapping...  \n",
      "          cluster_0  cluster_1  cluster_2  cluster_3  cluster_4  cluster_5  cluster_6  cluster_7  prepost \n",
      " worker0  *          *          *          *          *          *          *          *          V       \n",
      " worker1                                                                                                  \n",
      " worker2  *          *          *          *          V          V          *          *          V       \n",
      " worker3  V          *          *          *          V          V          V          *          V       \n",
      "\n",
      "  00:00\n",
      "[info] Context:0/0 Iteration 4: Trying parallel mapping...  \n",
      "          cluster_0  cluster_1  cluster_2  cluster_3  cluster_4  cluster_5  cluster_6  cluster_7  prepost \n",
      " worker0  *          *          *          *          *          *          *          *          V       \n",
      " worker1                                                                                                  \n",
      " worker2  *          *          *          *          V          V          *          *          V       \n",
      " worker3  V          *          *          *          V          V          V          *          V       \n",
      "\n",
      "  00:00\n",
      "[info] Context:0/0 Iteration 4: Trying parallel mapping...  \n",
      "          cluster_0  cluster_1  cluster_2  cluster_3  cluster_4  cluster_5  cluster_6  cluster_7  prepost \n",
      " worker0  *          *          *          *          *          *          *          *          V       \n",
      " worker1                                                                                                  \n",
      " worker2  *          *          *          *          V          V          *          *          V       \n",
      " worker3  V          *          *          *          V          V          V          *          V       \n",
      "\n",
      "  00:00\n",
      "[info] Context:0/0 Iteration 4: Trying parallel mapping...  \n",
      "          cluster_0  cluster_1  cluster_2  cluster_3  cluster_4  cluster_5  cluster_6  cluster_7  prepost \n",
      " worker0  *          *          *          *          *          *          *          *          V       \n",
      " worker1                                                                                                  \n",
      " worker2  *          *          *          *          V          V          *          *          V       \n",
      " worker3  V          *          *          *          V          V          V          *          V       \n",
      "\n",
      "  00:00\n",
      "[info] Context:0/0 Iteration 4: Trying parallel mapping...  \n",
      "          cluster_0  cluster_1  cluster_2  cluster_3  cluster_4  cluster_5  cluster_6  cluster_7  prepost \n",
      " worker0  *          *          *          *          *          *          *          *          V       \n",
      " worker1                                                                                                  \n",
      " worker2  *          *          *          *          V          V          *          *          V       \n",
      " worker3  V          *          *          *          V          V          V          *          V       \n",
      "\n",
      "  00:00\n",
      "[info] Context:0/0 Iteration 4: Trying parallel mapping...  \n",
      "          cluster_0  cluster_1  cluster_2  cluster_3  cluster_4  cluster_5  cluster_6  cluster_7  prepost \n",
      " worker0  *          *          *          *          *          *          *          *          V       \n",
      " worker1                                                                                                  \n",
      " worker2  *          *          *          *          V          V          *          *          V       \n",
      " worker3  V          *          *          *          V          V          V          *          V       \n",
      "\n",
      "  00:00\n",
      "[info] Context:0/0 Iteration 4: Trying parallel mapping...  \n",
      "          cluster_0  cluster_1  cluster_2  cluster_3  cluster_4  cluster_5  cluster_6  cluster_7  prepost \n",
      " worker0  *          *          *          *          *          *          *          *          V       \n",
      " worker1                                                                                                  \n",
      " worker2  *          *          *          *          V          V          *          *          V       \n",
      " worker3  V          *          *          *          V          V          V          *          V       \n",
      "\n",
      "  00:00\n",
      "[info] Context:0/0 Iteration 4: Trying parallel mapping...  \n",
      "          cluster_0  cluster_1  cluster_2  cluster_3  cluster_4  cluster_5  cluster_6  cluster_7  prepost \n",
      " worker0  *          *          *          *          *          *          *          *          V       \n",
      " worker1                                                                                                  \n",
      " worker2  *          *          *          *          V          V          *          *          V       \n",
      " worker3  V          *          *          *          V          V          V          *          V       \n",
      "\n",
      "  00:00\n"
     ]
    },
    {
     "name": "stdout",
     "output_type": "stream",
     "text": [
      "[info] Context:0/0 Iteration 4: Trying parallel mapping...  \n",
      "          cluster_0  cluster_1  cluster_2  cluster_3  cluster_4  cluster_5  cluster_6  cluster_7  prepost \n",
      " worker0  *          *          *          *          *          *          *          *          V       \n",
      " worker1                                                                                                  \n",
      " worker2  *          *          *          *          V          V          *          *          V       \n",
      " worker3  V          *          *          *          V          V          V          *          V       \n",
      "\n",
      "  00:00\n",
      "[info] Context:0/0 Iteration 4: Trying parallel mapping...  \n",
      "          cluster_0  cluster_1  cluster_2  cluster_3  cluster_4  cluster_5  cluster_6  cluster_7  prepost \n",
      " worker0  *          *          *          *          *          *          *          *          V       \n",
      " worker1                                                                                                  \n",
      " worker2  *          *          *          *          V          V          *          *          V       \n",
      " worker3  V          *          *          *          V          V          V          *          V       \n",
      "\n",
      "  00:00\n",
      "[info] Context:0/0 Iteration 4: Trying parallel mapping...  \n",
      "          cluster_0  cluster_1  cluster_2  cluster_3  cluster_4  cluster_5  cluster_6  cluster_7  prepost \n",
      " worker0  *          *          *          *          *          *          *          *          V       \n",
      " worker1                                                                                                  \n",
      " worker2  *          *          *          *          V          V          *          *          V       \n",
      " worker3  V          *          *          *          V          V          V          *          V       \n",
      "\n",
      "  00:00\n",
      "[info] Context:0/0 Iteration 4: Trying parallel mapping...  \n",
      "          cluster_0  cluster_1  cluster_2  cluster_3  cluster_4  cluster_5  cluster_6  cluster_7  prepost \n",
      " worker0  *          *          *          *          *          *          *          *          V       \n",
      " worker1                                                                                                  \n",
      " worker2  *          *          *          *          V          V          *          *          V       \n",
      " worker3  V          *          *          *          V          V          V          *          V       \n",
      "\n",
      "  00:00\n",
      "[info] Context:0/0 Iteration 4: Trying parallel mapping...  \n",
      "          cluster_0  cluster_1  cluster_2  cluster_3  cluster_4  cluster_5  cluster_6  cluster_7  prepost \n",
      " worker0  *          *          *          *          *          *          *          *          V       \n",
      " worker1                                                                                                  \n",
      " worker2  *          *          *          *          V          V          *          *          V       \n",
      " worker3  V          *          *          *          V          V          V          *          V       \n",
      "\n",
      "  00:00\n",
      "[info] Context:0/0 Iteration 4: Trying parallel mapping...  \n",
      "          cluster_0  cluster_1  cluster_2  cluster_3  cluster_4  cluster_5  cluster_6  cluster_7  prepost \n",
      " worker0  *          *          *          *          *          *          *          *          V       \n",
      " worker1                                                                                                  \n",
      " worker2  *          *          *          *          V          V          *          *          V       \n",
      " worker3  V          *          *          *          V          V          V          *          V       \n",
      "\n",
      "  00:00\n",
      "\n",
      "[info] Iterations: 4\n",
      "Reverts on cluster mapping: 0\n",
      "Reverts on inter-cluster connectivity: 0\n",
      "Reverts on pre-mapping validation: 0\n",
      "Reverts on split failed: 0\n",
      "[info] +-----------+---------------------+---------------------+--------------------+\n",
      "[info] | Cluster   | Control Utilization | Compute Utilization | Memory Utilization |\n",
      "[info] +-----------+---------------------+---------------------+--------------------+\n",
      "[info] | cluster_4 | 43.8%               | 35.9%               | 14.1%              |\n",
      "[info] | cluster_5 | 6.3%                | 1.6%                | 3.9%               |\n",
      "[info] | cluster_6 | 18.8%               | 6.3%                | 8.6%               |\n",
      "[info] +-----------+---------------------+---------------------+--------------------+\n",
      "[info] | Total     | 8.6%                | 5.5%                | 3.3%               |\n",
      "[info] +-----------+---------------------+---------------------+--------------------+\n",
      "[info] Successful Mapping (allocation time: 1s)\n",
      "[info] Compiling context_0...\n",
      "[info] Bandwidth of model inputs: 0.00598145 Mbps, outputs: 7.62939e-05 Mbps (for a single frame)\n",
      "[info] Bandwidth of DDR buffers: 0.0 Mbps (for a single frame)\n",
      "[info] Bandwidth of inter context tensors: 0.0 Mbps (for a single frame)\n",
      "[info] Building HEF...\n",
      "[info] Successful Compilation (compilation time: 0s)\n"
     ]
    }
   ],
   "source": [
    "hef = runner.compile()\n",
    "\n",
    "file_name = f\"{model_name}.hef\"\n",
    "with open(file_name, \"wb\") as f:\n",
    "    f.write(hef)"
   ]
  },
  {
   "cell_type": "code",
   "execution_count": 14,
   "id": "c4c633fc",
   "metadata": {},
   "outputs": [
    {
     "name": "stdout",
     "output_type": "stream",
     "text": [
      "[info] Saved HAR to: /local/workspace/share/hailo/my_model_compiled_model.har\n",
      "[\u001b[32minfo\u001b[0m] Current Time: 04:17:56, 02/16/25\n",
      "[\u001b[32minfo\u001b[0m] CPU: Architecture: x86_64, Model: 13th Gen Intel(R) Core(TM) i7-13700F, Number Of Cores: 24, Utilization: 0.4%\n",
      "[\u001b[32minfo\u001b[0m] Memory: Total: 15GB, Available: 11GB\n",
      "[\u001b[32minfo\u001b[0m] System info: OS: Linux, Kernel: 5.15.167.4-microsoft-standard-WSL2\n",
      "[\u001b[32minfo\u001b[0m] Hailo DFC Version: 3.30.0\n",
      "[\u001b[32minfo\u001b[0m] HailoRT Version: 4.20.0\n",
      "[\u001b[32minfo\u001b[0m] PCIe: No Hailo PCIe device was found\n",
      "[\u001b[32minfo\u001b[0m] Running `hailo profiler my_model_compiled_model.har`\n",
      "[\u001b[32minfo\u001b[0m] Running profile for model in state compiled_model\n",
      "[\u001b[32minfo\u001b[0m] \n",
      "Model Details\n",
      "--------------------------------  ----------\n",
      "Input Tensors Shapes              28x28x1\n",
      "Operations per Input Tensor       0.00 GOPs\n",
      "Operations per Input Tensor       0.00 GMACs\n",
      "Pure Operations per Input Tensor  0.00 GOPs\n",
      "Pure Operations per Input Tensor  0.00 GMACs\n",
      "Model Parameters                  0.05 M\n",
      "--------------------------------  ----------\n",
      "\n",
      "Profiler Input Settings\n",
      "-----------------  -----------------\n",
      "Optimization Goal  Reach Highest FPS\n",
      "Profiler Mode      Compiled\n",
      "-----------------  -----------------\n",
      "\n",
      "Performance Summary\n",
      "----------------------  --------------------\n",
      "Number of Devices       1\n",
      "Number of Contexts      1\n",
      "Throughput              64861.36 FPS\n",
      "Latency                 0.03 ms\n",
      "Operations per Second   316.65 GOP/s\n",
      "MACs per Second         160.23 GMAC/s\n",
      "Total Input Bandwidth   48.50 Megabytes/sec\n",
      "Total Output Bandwidth  633.41 Kilobytes/sec\n",
      "Context Switch Configs  N/A\n",
      "----------------------  --------------------\n",
      "[\u001b[32minfo\u001b[0m] Saved Profiler HTML Report to: /local/workspace/share/hailo/model_compiled_model.html\n"
     ]
    }
   ],
   "source": [
    "har_path = f\"{model_name}_compiled_model.har\"\n",
    "runner.save_har(har_path)\n",
    "!hailo profiler {har_path}"
   ]
  },
  {
   "cell_type": "code",
   "execution_count": null,
   "id": "a91a9b60",
   "metadata": {},
   "outputs": [],
   "source": []
  }
 ],
 "metadata": {
  "kernelspec": {
   "display_name": "Python 3 (ipykernel)",
   "language": "python",
   "name": "python3"
  },
  "language_info": {
   "codemirror_mode": {
    "name": "ipython",
    "version": 3
   },
   "file_extension": ".py",
   "mimetype": "text/x-python",
   "name": "python",
   "nbconvert_exporter": "python",
   "pygments_lexer": "ipython3",
   "version": "3.10.12"
  }
 },
 "nbformat": 4,
 "nbformat_minor": 5
}
